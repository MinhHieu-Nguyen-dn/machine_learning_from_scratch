{
  "cells": [
    {
      "cell_type": "markdown",
      "metadata": {
        "id": "EWh4zO8pPCk3"
      },
      "source": [
        "# This notebook: **Linear Regression** implementation and evaluation ***with Python numpy.***"
      ]
    },
    {
      "cell_type": "markdown",
      "metadata": {
        "id": "vIQA1mvrPiyJ"
      },
      "source": [
        "Import libraries"
      ]
    },
    {
      "cell_type": "code",
      "execution_count": 1,
      "metadata": {
        "id": "i2TnuiC6O_-V"
      },
      "outputs": [],
      "source": [
        "import numpy as np\n",
        "import pandas as pd\n",
        "import os\n",
        "import matplotlib.pyplot as plt"
      ]
    },
    {
      "cell_type": "code",
      "execution_count": 2,
      "metadata": {
        "colab": {
          "base_uri": "https://localhost:8080/"
        },
        "id": "fjv88u0sI54P",
        "outputId": "abd7565f-25f3-41b4-f5df-3747a0e2fcf1"
      },
      "outputs": [
        {
          "output_type": "execute_result",
          "data": {
            "text/plain": [
              "['.config', 'energy.txt', 'sample_data']"
            ]
          },
          "metadata": {},
          "execution_count": 2
        }
      ],
      "source": [
        "os.listdir()"
      ]
    },
    {
      "cell_type": "markdown",
      "metadata": {
        "id": "CE8jjUjxSqoE"
      },
      "source": [
        "Data preparation:\n",
        "- Read data file\n",
        "- Separate data into datasets\n",
        "- Normalize data"
      ]
    },
    {
      "cell_type": "code",
      "execution_count": 3,
      "metadata": {
        "id": "OPv-DJr2S0Qu"
      },
      "outputs": [],
      "source": [
        "def get_data(file_path):\n",
        "  df = pd.read_csv(file_path)\n",
        "\n",
        "  # Remove null\n",
        "  df = df.dropna()\n",
        "\n",
        "  X = df[['T', 'V', 'AP', 'RH']]\n",
        "  y = df['EP']\n",
        "\n",
        "  return df, X.values, y.values"
      ]
    },
    {
      "cell_type": "code",
      "execution_count": 4,
      "metadata": {
        "id": "cw5OZ5RnLV7-"
      },
      "outputs": [],
      "source": [
        "def normalize_features(X):\n",
        "  '''\n",
        "  Normalize the features (each columns) individually.\n",
        "  After this, each column should have mean = 0 and standard deviation = 1.\n",
        "  '''\n",
        "  mean = np.mean(X, axis=0)\n",
        "  std = np.std(X, axis=0)\n",
        "  std[std == 0] = 1e-8 # replace 0 with very small number to avoid division by zero error\n",
        "\n",
        "  X_normalized = (X - mean) / std\n",
        "\n",
        "  return X_normalized"
      ]
    },
    {
      "cell_type": "code",
      "execution_count": 5,
      "metadata": {
        "id": "Nsp7sixrV8kV"
      },
      "outputs": [],
      "source": [
        "def train_test_split(X, y, test_size=0.2):\n",
        "  if X.shape[0] != y.shape[0]:\n",
        "    raise ValueError('X and y must have the same number of samples.')\n",
        "\n",
        "  num_samples = X.shape[0]\n",
        "  test_samples = int(num_samples * test_size)\n",
        "\n",
        "  # Randomly shuffle before sampling\n",
        "  indices = np.arange(num_samples)\n",
        "  np.random.shuffle(indices)\n",
        "\n",
        "  # Split data\n",
        "  X_train = X[indices[:-test_samples]]\n",
        "  X_test = X[indices[-test_samples:]]\n",
        "\n",
        "  y_train = y[indices[:-test_samples]]\n",
        "  y_test = y[indices[-test_samples:]]\n",
        "\n",
        "  return X_train, X_test, y_train, y_test"
      ]
    },
    {
      "cell_type": "markdown",
      "metadata": {
        "id": "VYZDdY0AS0hf"
      },
      "source": [
        "Functions to implement Linear Regression:\n",
        "- Loss function\n",
        "- Train function with Gradient Descent (update weights and bias)"
      ]
    },
    {
      "cell_type": "code",
      "execution_count": 6,
      "metadata": {
        "id": "MJFJsijcZIyI"
      },
      "outputs": [],
      "source": [
        "def init_params(X):\n",
        "  w = np.random.rand(X.shape[1])\n",
        "  b = 0\n",
        "  return w, b"
      ]
    },
    {
      "cell_type": "code",
      "execution_count": 7,
      "metadata": {
        "id": "xB-O38ITZ14n"
      },
      "outputs": [],
      "source": [
        "def mse_loss(y_true, y_pred):\n",
        "  return np.mean((y_pred - y_true) ** 2)"
      ]
    },
    {
      "cell_type": "markdown",
      "metadata": {
        "id": "f4_x7btsnben"
      },
      "source": [
        "Ref Linear Regression with Gradient Descent: https://towardsdatascience.com/linear-regression-using-gradient-descent-97a6c8700931"
      ]
    },
    {
      "cell_type": "code",
      "execution_count": 8,
      "metadata": {
        "id": "zng2OBjcUAzq"
      },
      "outputs": [],
      "source": [
        "def train_LinearR(X_train, y_train, learning_rate=0.0001, epochs=1000):\n",
        "\n",
        "  # Init weights and bias\n",
        "  weights, bias = init_params(X_train)\n",
        "\n",
        "  # Record loss\n",
        "  loss_record = []\n",
        "\n",
        "  for epoch in range(epochs):\n",
        "    y_predicted = np.dot(X_train, weights) + bias\n",
        "\n",
        "    loss = mse_loss(y_train, y_predicted)\n",
        "    loss_record.append(loss)\n",
        "\n",
        "    # Calculate gradients for weights and bias; using MSE loss\n",
        "    weights_grad = -2 / X_train.shape[0] * np.dot(X_train.T, (y_train - y_predicted))\n",
        "    bias_grad = -2 / X_train.shape[0] * np.sum(y_train - y_predicted)\n",
        "\n",
        "    # Update weights and bias\n",
        "    weights -= learning_rate * weights_grad\n",
        "    bias -= learning_rate * bias_grad\n",
        "\n",
        "  return weights, bias, loss_record"
      ]
    },
    {
      "cell_type": "markdown",
      "metadata": {
        "id": "kY8CwEkuUBJ3"
      },
      "source": [
        "Use the model"
      ]
    },
    {
      "cell_type": "code",
      "execution_count": 9,
      "metadata": {
        "id": "8seu5CqYUFzJ"
      },
      "outputs": [],
      "source": [
        "df, X, y = get_data('energy.txt')\n",
        "X = normalize_features(X)\n",
        "X_train, X_test, y_train, y_test = train_test_split(X, y)"
      ]
    },
    {
      "cell_type": "code",
      "execution_count": 20,
      "metadata": {
        "colab": {
          "base_uri": "https://localhost:8080/"
        },
        "id": "6Mtiki1QotUR",
        "outputId": "0ea78d77-525d-4065-9256-cadfbed3aa7f"
      },
      "outputs": [
        {
          "output_type": "stream",
          "name": "stdout",
          "text": [
            "Weights:  [-7.41099834 -7.75731294  2.9419646   0.03941396]\n",
            "Bias:  392.92472809151036\n"
          ]
        }
      ],
      "source": [
        "weights, bias, loss_history = train_LinearR(X_train, y_train, learning_rate=0.0001, epochs=10000)\n",
        "print('Weights: ', weights)\n",
        "print('Bias: ', bias)"
      ]
    },
    {
      "cell_type": "code",
      "execution_count": 21,
      "metadata": {
        "colab": {
          "base_uri": "https://localhost:8080/",
          "height": 472
        },
        "id": "eR9YZj4tpFRM",
        "outputId": "f3bd3de4-cf1f-4ae1-a968-642409f8cb74"
      },
      "outputs": [
        {
          "output_type": "display_data",
          "data": {
            "text/plain": [
              "<Figure size 640x480 with 1 Axes>"
            ],
            "image/png": "[encoded data removed]"
          },
          "metadata": {}
        }
      ],
      "source": [
        "# Plot loss\n",
        "plt.plot(loss_history)\n",
        "plt.xlabel('Epoch')\n",
        "plt.ylabel('MSE Loss')\n",
        "plt.title('MSE Loss during Linear Regression training')\n",
        "plt.show()"
      ]
    },
    {
      "cell_type": "markdown",
      "metadata": {
        "id": "KU4SVW9Fqi-r"
      },
      "source": [
        "Evaluate and test"
      ]
    },
    {
      "cell_type": "code",
      "execution_count": 16,
      "metadata": {
        "id": "2pU4tQVgqkkS"
      },
      "outputs": [],
      "source": [
        "def predict(X, weights, bias):\n",
        "  return np.dot(X, weights) + bias"
      ]
    },
    {
      "cell_type": "markdown",
      "source": [
        "Ref R-squared: https://builtin.com/data-science/adjusted-r-squared"
      ],
      "metadata": {
        "id": "AhoaX5_axDyF"
      }
    },
    {
      "cell_type": "code",
      "execution_count": 23,
      "metadata": {
        "id": "LMwMqGGTrMr8"
      },
      "outputs": [],
      "source": [
        "def r_squared(y_true, y_predicted):\n",
        "  y_bar = np.mean(y_true)\n",
        "  # sum of explained and unexplained variation\n",
        "  # or the difference between y true and mean of y true\n",
        "  ss_total = np.sum((y_true - y_bar) ** 2)\n",
        "  # unexplained variation: difference between true and predicted value --> the difference that is not captured by our Regression model\n",
        "  # known as: residual of a regression model\n",
        "  ss_residual = np.sum((y_true - y_predicted) ** 2)\n",
        "\n",
        "  # (extended) explained variation: difference between predicted value and mean of y true value --> the variation that is explained by the model\n",
        "  # ss_explained = np.sum((y_predicted - y_bar) ** 2)\n",
        "\n",
        "  r2 = 1 - ss_residual/ss_total\n",
        "\n",
        "  return r2"
      ]
    },
    {
      "cell_type": "code",
      "execution_count": 24,
      "metadata": {
        "colab": {
          "base_uri": "https://localhost:8080/"
        },
        "id": "92b0m2Dxrnx_",
        "outputId": "fdeda197-2f07-49ea-94be-56935836c0f6"
      },
      "outputs": [
        {
          "output_type": "stream",
          "name": "stdout",
          "text": [
            "MSE = 3829.297168772564, R2 = -11.973879220460894\n"
          ]
        }
      ],
      "source": [
        "y_test_predicted = predict(X_test, weights, bias)\n",
        "mse = mse_loss(y_test, y_test_predicted)\n",
        "r2 = r_squared(y_test, y_test_predicted)\n",
        "\n",
        "print('MSE = {}, R2 = {}'.format(mse, r2))"
      ]
    },
    {
      "cell_type": "markdown",
      "source": [
        "Compare with sklearn evaluate:"
      ],
      "metadata": {
        "id": "F9osvmXexd8J"
      }
    },
    {
      "cell_type": "code",
      "execution_count": 25,
      "metadata": {
        "colab": {
          "base_uri": "https://localhost:8080/"
        },
        "id": "MoVzEWOb3DcB",
        "outputId": "4da88c90-7efa-41ff-f5c9-c326a6756fee"
      },
      "outputs": [
        {
          "output_type": "stream",
          "name": "stdout",
          "text": [
            "R-squared (R^2): -11.97\n",
            "Mean Squared Error (MSE): 3829.30\n"
          ]
        }
      ],
      "source": [
        "from sklearn.metrics import r2_score, mean_squared_error\n",
        "\n",
        "# Calculate R-squared (R^2)\n",
        "r_squared = r2_score(y_test, y_test_predicted)\n",
        "\n",
        "# Calculate Mean Squared Error (MSE)\n",
        "mse = mean_squared_error(y_test, y_test_predicted)\n",
        "\n",
        "print(f\"R-squared (R^2): {r_squared:.2f}\")\n",
        "print(f\"Mean Squared Error (MSE): {mse:.2f}\")"
      ]
    },
    {
      "cell_type": "markdown",
      "source": [
        "CORRECT!"
      ],
      "metadata": {
        "id": "wFPO-3SvzIjA"
      }
    }
  ],
  "metadata": {
    "colab": {
      "provenance": []
    },
    "kernelspec": {
      "display_name": "Python 3",
      "name": "python3"
    },
    "language_info": {
      "name": "python"
    }
  },
  "nbformat": 4,
  "nbformat_minor": 0
}