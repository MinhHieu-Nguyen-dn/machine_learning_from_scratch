{
  "nbformat": 4,
  "nbformat_minor": 0,
  "metadata": {
    "colab": {
      "provenance": []
    },
    "kernelspec": {
      "name": "python3",
      "display_name": "Python 3"
    },
    "language_info": {
      "name": "python"
    }
  },
  "cells": [
    {
      "cell_type": "markdown",
      "source": [
        "Import libraries![BinaryCrossEntropy_formula.png](data:image/png;base64,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)"
      ],
      "metadata": {
        "id": "lt53v83lBbu_"
      }
    },
    {
      "cell_type": "code",
      "execution_count": 1,
      "metadata": {
        "id": "W8In2AnB9br_"
      },
      "outputs": [],
      "source": [
        "import pandas as pd\n",
        "import numpy as np\n",
        "import os\n",
        "import matplotlib.pyplot as plt\n",
        "from tqdm import tqdm"
      ]
    },
    {
      "cell_type": "markdown",
      "source": [
        "Prepare datasets for training and testing"
      ],
      "metadata": {
        "id": "fIp5GmgrBq8Y"
      }
    },
    {
      "cell_type": "code",
      "source": [
        "# dataset split for dataframe\n",
        "def train_test_split(X, y, test_size=0.2):\n",
        "  if X.shape[0] != y.shape[0]:\n",
        "    raise ValueError('X and y must have the same number of samples.')\n",
        "\n",
        "  num_samples = X.shape[0]\n",
        "  test_samples = int(num_samples * test_size)\n",
        "\n",
        "  # Randomly shuffle before sampling\n",
        "  indices = np.arange(num_samples)\n",
        "  np.random.shuffle(indices)\n",
        "\n",
        "  # Split data\n",
        "  if isinstance(X, pd.DataFrame):\n",
        "    X_train = X.iloc[indices[:-test_samples]]\n",
        "    X_test = X.iloc[indices[-test_samples:]]\n",
        "  else: # assuming X is a numpy array (features vector)\n",
        "    X_train = X[indices[:-test_samples]]\n",
        "    X_test = X[indices[-test_samples:]]\n",
        "\n",
        "  if isinstance(y, pd.Series):\n",
        "    y_train = y.iloc[indices[:-test_samples]]\n",
        "    y_test = y.iloc[indices[-test_samples:]]\n",
        "  else: # assuming y is a numpy array\n",
        "    y_train = y[indices[:-test_samples]]\n",
        "    y_test = y[indices[-test_samples:]]\n",
        "\n",
        "  return X_train, X_test, y_train, y_test"
      ],
      "metadata": {
        "id": "kM2ThHt2C2K9"
      },
      "execution_count": 2,
      "outputs": []
    },
    {
      "cell_type": "code",
      "source": [
        "def encode_categorical_features(X_train, X_test, categorical):\n",
        "    encodings = {}\n",
        "\n",
        "    for feature in categorical:\n",
        "        # Get the unique categories in the training data\n",
        "        categories = sorted(X_train[feature].unique())\n",
        "\n",
        "        # Create a dictionary that maps each category to a unique integer\n",
        "        category_to_int = {category: i for i, category in enumerate(categories)}\n",
        "\n",
        "        # Store the encoding in a dictionary\n",
        "        encodings[feature] = category_to_int\n",
        "\n",
        "        # Transform the training data\n",
        "        X_train.loc[:, feature] = X_train[feature].map(category_to_int)\n",
        "\n",
        "        # Transform the test data using the encoding learned from the training data\n",
        "        # If a category appears in the test data that was not in the training data, it is replaced with None\n",
        "        X_test.loc[:, feature] = X_test[feature].map(category_to_int)\n",
        "\n",
        "    return X_train, X_test, encodings"
      ],
      "metadata": {
        "id": "8OgEb-TsDHuX"
      },
      "execution_count": 3,
      "outputs": []
    },
    {
      "cell_type": "code",
      "source": [
        "def normalize_features(X_train, X_test):\n",
        "  '''\n",
        "  Normalize the features (each columns) individually.\n",
        "  After this, each column should have mean = 0 and standard deviation = 1.\n",
        "  '''\n",
        "  mean = X_train.mean()\n",
        "  std = X_train.std()\n",
        "  std[std == 0] = 1e-8 # replace 0 with very small number to avoid division by zero error\n",
        "\n",
        "  X_train_normalized = (X_train - mean) / std\n",
        "\n",
        "  # Use statistic of the train set to normalize for both dataset\n",
        "  X_test_normalized = (X_test - mean) / std\n",
        "\n",
        "  return X_train_normalized.values, X_test_normalized.values"
      ],
      "metadata": {
        "id": "I6YgoIxeFkx3"
      },
      "execution_count": 4,
      "outputs": []
    },
    {
      "cell_type": "code",
      "source": [
        "def prepare_data(filepath='adult.csv'):\n",
        "  df = pd.read_csv(filepath)\n",
        "\n",
        "  # replace '?' value in the dataframe with nan\n",
        "  df[df == '?'] = np.nan\n",
        "\n",
        "  # deal with missing data: fill with mode value\n",
        "  columns_with_na = df.columns[df.isna().any()].tolist()\n",
        "  for col in columns_with_na:\n",
        "    df[col].fillna(df[col].mode()[0], inplace=True)\n",
        "\n",
        "  # df = df[:10000]\n",
        "\n",
        "  # Shuffle the dataset\n",
        "  df = df.sample(frac=1).reset_index(drop=True)\n",
        "\n",
        "  # separate features and label\n",
        "  X = df.drop(['income'], axis=1)\n",
        "  y = df['income']\n",
        "\n",
        "  # split train and test\n",
        "  X_train, X_test, y_train, y_test = train_test_split(X, y, test_size=0.2)\n",
        "\n",
        "  # encode categorical features to number\n",
        "  categorical = ['workclass', 'education', 'marital.status', 'occupation', 'relationship', 'race', 'sex', 'native.country']\n",
        "  X_train, X_test, encodings = encode_categorical_features(X_train, X_test, categorical)\n",
        "\n",
        "  # normalize features values\n",
        "  X_train, X_test = normalize_features(X_train, X_test)\n",
        "\n",
        "  # encode labels\n",
        "  label_map = {'<=50K': 0, '>50K': 1}\n",
        "  y_train = y_train.map(label_map)\n",
        "  y_test = y_test.map(label_map)\n",
        "\n",
        "  # reshape label array\n",
        "  y_train = y_train.values.reshape(y_train.shape[0], )\n",
        "  y_test = y_test.values.reshape(y_test.shape[0], )\n",
        "\n",
        "  return X_train, X_test, y_train, y_test"
      ],
      "metadata": {
        "id": "GOb7oh8vBokh"
      },
      "execution_count": 5,
      "outputs": []
    },
    {
      "cell_type": "markdown",
      "source": [
        "Implement functions: Logistic Regression  \n",
        "with Binary Cross Entropy Loss (Log loss)  \n",
        "Update with gradient descent as partial derivative of binary cross entropy"
      ],
      "metadata": {
        "id": "dB72r5D0GvKb"
      }
    },
    {
      "cell_type": "markdown",
      "source": [
        "Init weights and bias"
      ],
      "metadata": {
        "id": "rCgKWQbRJNDY"
      }
    },
    {
      "cell_type": "code",
      "source": [
        "def init_params(x):\n",
        "  weights = np.zeros(x.shape[1])\n",
        "  bias = 0\n",
        "  return weights, bias"
      ],
      "metadata": {
        "id": "EeCCTbahJMwA"
      },
      "execution_count": 6,
      "outputs": []
    },
    {
      "cell_type": "markdown",
      "source": [
        "Logistic function: Sigmoid"
      ],
      "metadata": {
        "id": "V8jZfuF0Ifrf"
      }
    },
    {
      "cell_type": "code",
      "source": [
        "def sigmoid(z):\n",
        "    return 1 / (1 + np.exp(-z))"
      ],
      "metadata": {
        "id": "gPHggX-OIfZa"
      },
      "execution_count": 7,
      "outputs": []
    },
    {
      "cell_type": "code",
      "source": [
        "def predict(X, weights, bias):\n",
        "    z = np.array(np.dot(X, weights) + bias, dtype=np.float64)\n",
        "    return sigmoid(z)"
      ],
      "metadata": {
        "id": "uiKktI_mwJUw"
      },
      "execution_count": 8,
      "outputs": []
    },
    {
      "cell_type": "markdown",
      "source": [
        "Loss function: Binary Cross Entropy  \n",
        "![image.png](data:image/png;base64,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)"
      ],
      "metadata": {
        "id": "THfx1WHpHRcA"
      }
    },
    {
      "cell_type": "code",
      "source": [
        "def BCE_loss(y_true, y_hat):\n",
        "  # return -np.mean(y_true * np.log(y_hat) + (1 - y_true) * np.log(1 - y_hat))\n",
        "  epsilon = 1e-8\n",
        "  loss_1 = y_true * np.log(y_hat + epsilon)\n",
        "  loss_2 = (1 - y_true) * np.log(1 - y_hat + epsilon)\n",
        "  loss = -np.mean(loss_1 + loss_2)\n",
        "  return loss"
      ],
      "metadata": {
        "id": "OGwQP5wtHHNw"
      },
      "execution_count": 9,
      "outputs": []
    },
    {
      "cell_type": "markdown",
      "source": [
        "Gradient function: calc gradient for weights and bias\n",
        "![image.png](data:image/png;base64,iVBORw0KGgoAAAANSUhEUgAAA4oAAAG1CAYAAAC/PgqpAAAAAXNSR0IArs4c6QAAAARnQU1BAACxjwv8YQUAAAAJcEhZcwAAEnQAABJ0Ad5mH3gAAP+lSURBVHhe7J0HnBN1+v/H83d3nr1iw4YdVLCjooigoCCCghUREAUb2CgWUMEKil0UsYGCiEoTEVGKBRBs2AtWBBuennq2u//Nf94PM+tkSLJJdiab7H7er1dgk80mk8nMd57PU1dxPRwhhBBCCCGEEMLnL/7/QgghhBBCCCGEIaEohBBCCCGEECIFCUUhhBBCCCGEEClIKAohhBBCCCGESEFCUQghhBBCCCFEChKKQgghhBBCCCFSkFAUQgghhBBCCJGChKIQQgghhBBCiBQkFIUQQgghhBBCpCChKIQQQgghhBAiBQlFIYQQQgghhBApSCgKIYQQQgghhEhBQlEIIYQQQgghRAoSikIIIYQQQgghUpBQFEIIIYQQQgiRgoSiEEIIIYQQQogUJBSFEEIIIYQQQqQgoSiEEEIIIYQQIgUJRSFixnVd55NPPnFat27tdOzY0X9U1GQGDhzoHHXUUc7s2bOdP/74w39UCCGEEKJ8KXmhiNH9v//9r+LGfSFKlf/3//6f8/zzzzvNmjVzXnzxRadHjx7+b0RNpnnz5s63337rdOrUyRk7dqzz008/+b8RQgghhChPVr3cw/+5JEAI/uc//3F+/fVX55dffnGWLVvmfPrpp86HH35oP//444/OKqusYgY5wnHVVVe1+0JUN//973+d6dOnO507dzahcO+991pUUcdnzWfrrbd2NthgA+ell15yxo0b59SpU8fZbrvtnL///e/6/oUQQghRlqziCbOSCNEh+gJhSPoWBvfLL7/sfPPNN/Y7jC3+RyCuueaazi677OIccsghTvv27Z1tttnGWXvttU00ClEdBCKxZ8+ezg8//OAMGzbM6dq1q/N///d//jOKA9vBuaJzofiwlI4cOdIZMmSIs3z5cufaa691jj/+eFubJBaFEEIIUW6UhFD87bffnI8//th5+OGHnYceeshSuNZYYw1nrbXWcjbddFNno402clZbbTXnX//6l/P111/bjYgN0cW//OUvTps2bZw+ffo4DRo0MKMsSag/4n0D8Rq+sS2Vwe5Od+Pz8Zll4JcfiDPSTE8//XRnyZIlTu/eva1m7R//+If/jOLAdhDRQpzutttuRX9/sSL1+Prrr3duvfVWW9f4v23btnZuCyGEEEKUE9UuFBFdRGJuuukm57333nO23HJLixQeccQRzp577umss846K3njP/jgA+fpp582YfnOO+8433//vUUZL7zwQue0004zcRn9m7iYP3++M3z4cOef//ynibu//e1vZpDzP/crA0OStFrSazEkEZ4Y+AcccIDVN2222Wb+M0U5wOnz+uuvm0hctGiRpZrefffdzoYbbug/ozhwDC1cuNA5++yzLZp1xx13WN1cLsekiBcyI/r37++MGjXKWXfddZ0RI0Y4Bx98sK0RQpQyv//+uzkri50JIYQQojSpVqFIhJDGD3jdEUzHHnus06VLF2fbbbfNKTqHQLz55pvNMCdllYsbqaikfJGOmoRY5LV5P96bqCI3tp0LbGXwmTAWuRBz4z7byM+HHXaYc9FFF1lKrSgfvvjiC+ecc85xnnrqKWerrbay45loXjEjw4hE0rTPPfdc55VXXrH7HP8IlIMOOkgCpRogQwKnFY2NGjZsaPWqZDzksq4JUR1Q5jF37lxzcjVp0sR/VAghRG2m2oQiqaM0fbjlllssxfS8886zKOLqq6/uPyN3Ro8e7Vx88cVmtP/1r3+11yFCSYOJuHnjjTec5557zi6qiENuS5cudRYvXmyRpXQQ1UFEEC0k2kn0k1Q0Gl1gxPP599lnH6dx48Yy6ssIouGDBw927rnnHosU33bbbU6HDh2KmvKJKHz11Vedvn37mpHHsYTj4t///rezww47OHfddZdFqxUhKD6PPvqoOX8QjTjArrzySmeTTTZJLNtBiELA2cm1E6fr7bff7myxxRbWPE4IIYQgda7oeOLKnTRpkrvvvvu6++23n/vEE0+4//nPf/zfFsbdd9/tekYyotf1DHW3e/fu7vLly/3fJo9nDLp/+ctf7P3DN08Muocddpg7e/Zs97fffvOfLcodjtfRo0e722yzjX3vnTt3dr/66iv/t8WBbXjppZfcFi1auH/7299cT4S4nmB0e/To4datW9e2a9ddd3VfeOEF1xOy/l+JYuEJdvf888+3dckT6q5nhLu//vqr/1shqp/vvvvOnTt3rtupUye7VnHN2mijjfzfCiGEqO1USx7URx99ZPWFdIc844wznJYtW1Y54nHyySfbwGu89dQAPv7445YGSMSlGNAaP11aGY14aLTTtGlTiyCKmgG1sXS4/Pzzzx1PlFmNIsdAsSCCSU3koEGDrJHO5ptv7vTq1ctq44gMkA5LRP3tt9+2usUFCxZYPaUoHmQ3nHXWWc6OO+5o+55uqHwfRHCEqC7IOCALhnp70tNPPfVUu1YG5RNaJ4QQQgQUXSjS6GHmzJnWwIZ0TFLl6BSZS41fNkjZ7NevX0UTEUQoF0EM+mJASmpUlCIcMeBJKRU1B1JO77vvPhNqwAgExECx0jsDkXj11Vc7c+bMMUGIQDzzzDOd9dZbzxwS559/vjkodt55Z3su9YsSi8WnXr16VntNuvlnn33mDB061GqzhUgSrkWUd9B0jS7hn3zyiV2jWC8o+cBp0b17d+vO/O6779qaIoQQQkQp+sB9LkrUdGG8chGjvoqLGLV73NJF5XKBSCKi8/3337fXxiAmsgh0UU26uQhjPZ599ln/3gqoVaMLZrt27fxHRE3gmWeeMScE0USGqlOHxv+FHrv5QDTqzTfftKZKdP7dfvvtzUFCbWR4NAzbQtfgjTfe2Pn000+tIyrn3q677mrOC1E8cIixNnz11VfW2ZnmNjS2Ua2iSAoi11OmTDFhyG3atGnOhAkTnPvvv9958MEH7RrJekFPgJ9//jklys1j1DwLIYQQRY0o4rXEWJ03b54JOTqH4uUkOjN16lS7YFUFoorHHXdchcHO6xG9xDhLmlmzZvk//QlCUdHEmgXeeZqU0KCECCLHG2KtGF1OA5F4ww032HGN4BgwYIClXOMkiYIQQUASeWzWrJlFFC+55BLrjCqKB6nJjL6hgRVjcfj+mBUrRFKQjk7zJCKGRA9JLUUcIgIZ1UJH3iuuuMI58sgjC2ogJ4QQonZQVKFIyh7d1KJGEmkyiDpqJ6oCxvruu+9udYGAGGVsxuTJk+1+UpBKRmQ0Chfgvffe278nagI4BHB0kELNCIpWrVo566+/vv/b5OBYJkpAN18imnvttZeJRN6ftMZsME+RIfBEtzEgMRAzdegVydCxY0eLLOLEYpQJ6X9CJAUpzziQqN1HFFKnTJSQmuYbb7zRMhI4JunCW4xMCCGEEOVJUa8QtOxHJEbrpGgCwuzEcOpcoRDFI70uABGHcYxITYrXXnvNaiLDIFqJJCAmRM2AkSike1JrBsy+pD6wGIYWxzGRTNLImHHGOBhmJOY6UB8HCpHFY445xnnhhResDf5vv/3m/1YkDQY5TbtocMP6x+xYotNCJMH+++9vopDxU4ztIapInTLikbplNVYTQgiRC0UVikQ+ttxyy5Q0OdKxiIpg9MZx8SIdsH79+v69FdFKasmSbGqD8R4Vv6TBEk3UXMSaAw4HokEIrHXWWceO2aB5UtJwfFFbeNJJJ1lN5H777Zf3+bLTTjuZ8UgTCwSuum8WF5raBGsfmRWTJk2yn4WIG661ZNasu+66dg1SPawQQohCKKpQxLhGFPbs2dO86wzGp1MjLeTxcsYBkTy892GIxiSZascA/qhQxIjHmBc1AzoIzp4922oTYY899jDhVSzPPN1MERoXXnih06hRo4I6rGIsIhARmqSiqTapuPC9cdwEEWiaepFlIYQQQghRihRVKGKoIggvuOACZ/DgwXajhT8NX0jJigPeA0EaBiOfbqhJ8N133zlvvfXWSkKRFNh99tnHvyfKHeoDaQaBYc8xRt0fqcXFhOgAx3ZVUl3ZdkRn9BwRycMaR+pvIPJxXhGlFkIIIYQoRYoqFAEjl5b9pGXiXSc9BuM1LnitaKSExiOkn0bFXBzQQTJa/0hUk8jNFlts4T8iyhlSNOfOnVvRPZdjlo6jElsiX6hrDdYnOqCOGTPGfhZCCCGEKDWKLhSLQXR4P3WKjOJIIs3r+eefX2lYMRGDOKOkonr58ssvLfqzfPlyu08NLPWCxRiJIWoWOI84fnBo4bhizAlNkoQQQgghSo0aJxSJ/lCTGAXxmO7xqkLqWFQoIhDpOidqBqSdfvDBBxXfM9HEOnXq2M9C5APOhRYtWlRkUSASqX0VQgghhCg1apxQxEufThBi5P/666/+vXigvT3piNHukYws0KD9mgHHE0PuFy9ebPfpIMj4lWJ1OxU1Dxp5BUKRdenJJ5+0n4UQQgghSomSE4qIOVrHT58+3Rk9erRzxx13OMOHD3ceeughGzSOBz5bW39+F6QIhsHgj0b+qsrChQudn3/+2b+3Amowt99+e2fTTTf1HxHlDM2KiCaSugyMd+GmOWSiUIhI01AIWJOof43biSWEEEIIUVVKQiiSFsp8uqFDhzpdunRxunbtamMALr/8chsUfMMNNzhXXHGFc/755zsnnHCCtfd/99130wpG6hE//fRT/96fIODirhnEwKMhRRje54ADDlD9Wg2BY4lbcKxtu+22RYkmchwvXbrUmT9/vh1nn3zyyUq1t8IxRw0zUl944QVbQ/75z39mdSSVAsyODcYB4cD69ttvLWothBBCCFFKVKtQpBspzRx69erl9OjRwwQhMwkZFtyhQwfn6quvdkaOHGnzxm677TZ7Hk1EGFSNmBw1atRKUULuB2mCYWgwg4EWFxh46YQiArFJkyb+PVHuMDfxs88+8++tiCgG0aAkQAxyXJ133nk2N/H000+3uaM4SJg5+uyzz1Y5+oSQ4jMRsX/sscdMXJUbZBbce++9TufOne12xhlnON27d7fxE6wbS5YsqbJgpPkVNcj333+/CfY//vjD/03VoeNzAK/Ldy6EEEIIUUpUi1DEgGMmXTD4mxbxiLtmzZo5I0aMMFHI4+3bt7d5dU2bNrUGEBjLV155pYlHhuoPGjTI0lIDEG9EGL744gv/kRVQD0TdIHPo4oJoz0cffbSSUNWg/ZoDxxOCiu86AKEY53EUhtrasWPHmkMEh8kuu+xiDpEjjjjCRrCMGzfOIu2Iu2jKc65w7r3xxhvOySef7FxyySVO//79ncsuu2wlh0cpQ3Mhsg2uu+46m5HaqlUr57TTTnO22247W1duvvlmp3fv3nZ+8h0WAuL5vvvus9cdOHCg7acpU6b4v606u+++u//TijEZr776qn9PCCGEEKJE8AypovLDDz+4o0aNcvfff3937bXXdj0R5zZq1Mi988473U8//dT9/fff/WdmxhNnrmfAu6eccoq72WabubNmzbLH//vf/7pPP/00lmHK7a9//avbsWNH1zOS7Xlx8Pjjj7vrrbdeyvvwWTyRaNsnyh9PuLnnnnuufa/BcXTPPffYcRY3nuBxH3jgAbdBgwbu0Ucf7c6cOdP98ssvbRu+/fZbd8CAAe4666zjrrrqqna+PPPMMwUdz7/88ovbpUsXe53gmPVEi7tkyRL/GaXNe++955566qmuJ6Ldq666yvVEo7t8+XLXE9L2u8aNG9vnWm211dyePXva7/KF/Tp37lx3xx13rDi3V199dffiiy/2n1F1PLFe8dp/+ctf3N12203rhig6V199tbvuuutWHIvcNtxwQ/+3QgghajtFjSgSmbnxxhsdz+ByFixYYFERoojXXHONc9JJJ1m0hq6SlUEdIM/1DEWnbt26FmUhfYvoHgPwo/zjH/+wlFUii3FBKlq0ZozXP/DAA237RPlDV9uvvvqqIiq18cYbW31i3PWnHLtz5syxCBkz9oiak75M1Hzttde296RBEv9zjL/11lvW7IltyxciZRMmTEiJhPN5kkynjYtly5ZZxsG8efMszZSU3J122snZYIMNnLXWWsv2EXMKWUN+++03i85Sy0y9Zz4QpXzppZdSUtjJSIgzdX2HHXaoaIhElJc6xWgmhBBCCCFEdVI0RUMzDoQdQhHBiHFEm/jBgwc7hxxyiNUl5ivkNttsM2fAgAGWbobxi0FIQ4soGHjbbLONf6/qIBwwVtMJRdJkRc2AOriwGNtoo41MkMQNdZC33nqrpbTi9Nhxxx1XaryEmAscEBznCJlwSmwucM7hoAmPj0GsILBWX311/5HShM88bdo0S/9s27atc+KJJzrrr79+ilOGn8Mins+JAEc05gMdbkkFDYtp5mbGuYaw38OdkXEWcBwIIYQQQpQKRRGKGEBESWgKQa0VQouB9BdccIGzzz775BRFTAfC7LDDDrNaLsZnYNhhCEeJWyh+/vnndgsbkqBB+zULom/hRi9E3eKMKgGihOZMjIQ5/vjjrclJuog0oidcl0j0iXMpHxCK1D6GwUGz5557xhptTwIyBR555BGLIHbs2DFt51nEFvszXG/JaJN86y/Z16+99pp/bwWIOgR8nJDlEIAQxpkmhBBCCFEqJC4USRe75ZZbnAcffLCiWyMGF90cib7RjbQqIDLbtWtnkYPXX389bZSFKBAGZlwgRumIGAUjf5111vHviXIH0RHMTwQifnFH3nA40H2UcQlEydKdDwgdnkeEMwAnBcIvHzIJxb333tu/V5qwbjz//PMm+nAM7bbbbmmFLWKbuZdBqjAgwML3K4P9Ssox7xXAe5G9QOQ1TkiTDWA7FVEUQgghRCmRqFDEyEYg0pkUbz8g2o466igbf1FVkRhw8MEHm3C76667VjKeSUUjZTDOiCJpf+nS2ai3LPXIjMgdIks//PCDf88xJwD1rnHB6z/99NMWGaSzKamU6SDSFO2wSypkvtFNRBQdTwM4VqmBDHfgLEWoyWQ/kTlw0EEHZVw3SDtfvny5f28FiLF81hmituyjYL0CvnfmZ8addkx9dQDfLU41IYQQQohSITGhiKHFbDBmmoWNrr322svGXMRpcDdo0MAMLVLTomBM8/u4RCnRiYULF6adZYdgFTUDvmdEQzjdM+6IIg1MqK0lBRHnSSYnAzW4YYEHiCaa6+QDUTkiVwHUyfE6SdRdxgWOH4QiA+mJfHIup4Pva9asWSs1+DnggAOsEU2u0MgmOqqCpkLBgPw4iQrFcMRYCCGEEKK6SUwoEgVh/hhRkwCiIIceeqjTqFEj/5F4oF6J+sB0tUhEA6iDjAvSw0hvDUd3oNzmJ2JYY4QTzUL43nnnnU6fPn1seDmD3vm/X79+zqhRo6z7I2I/Wwofab80Fgo7BQKC9yr2Ldv2VgYRY6LU4ddAUOUjOrKBYCNK+M4771iNYLheLQwOCYRiuANnUAsbFhq5QHp2GERvnOdGElCLSQSfGkFSuzN1nEVIv/feeymRflLcSVPNpwaa8yHaORmhGGfqekC406yEohBCCCFKjVU8Q7hwazoDpJzS3ZSOpmEYns8w/SSMLlLoiAZE2XXXXZ3Jkyc7W2+9tf9I1aDl/vnnn79S5IKUuKghXopgkCLeMb5pAPTMM8+YgYoBHnTWJLLFjUOD5xONJZrTo0cPp0WLFit1myQ9kw62iB7qu8JRN8T7s88+a/VjxQbxdfTRR/v38oMmNjRg4jgO4HhmkHscETj22bBhw6w+cejQoZaKnQ6iWwjwJ5980n/Ese/ihhtusFEsucJ3SfSQ7ygAoUkUvpQdHGQl9O3b17Z1yJAhNhYnHQzZZz+Ga5RxfFx00UU5j/7gWOccxpmFowE4D2gyNHLkyNjrU8ePH29OGeB9iFq+/fbbdl+IYsBoKs6rcIo9jleyHYQQQggMyFjxjC134cKFricmEKAVN8/Ics8555xYh94H/PbbbxVD0cO3v/3tb2779u39Z8WDJxJdTyis9F6XXXaZ/4zShO/FE4SuJ3RdTxjYkG9PALprrrmmW79+fRtOPmrUKPfll192P//8cxvA/vrrr7sPPvigDTjfdttt7Tts27atDSP/9ddf7bv8448/bJ/wOwbS//zzz/47roD7p5xyir3PGmusYc/je0n3fbE9/J7nso8z3cKv9fe//93+Lvpa3HbaaSd/K/KHYfdnnHFGyut5RtVKn69Qli1b5nbs2NFt0qSJ+9VXX/mPpsL+ZQi/J5IqtoH95olV94svvvCflRu8X3if8zPD/f/973/7zyhNJk+e7O66666uJ9ozrh18Bk9wuauuumrF5+MYmzlzpvuf//zHf1bleMay6xnNFa/BjXVs4MCB/jPiZcqUKSnvVa9evUTWRyEyoYH7QgghshF76inRKtIVw2MFgIgA9UKegeo/Eh9E97zP4t/7E2rKiA7EBemCtM3/5Zdf/EdWwGcq1fmJ7BfS8Uino9Nsp06dLJpISi7bTMopnTBpOHTyySdbGiQNQPi+GjZs6Jx00kkWTSEqSCoq6X1EQYhG8h0z246GRdF9EkBKbq9evez5vAdD5enuyXcThqhl48aN7feMURkzZkzG27333muRaZ571lln2RxOtpkOnuHj67PPPlspRThX+K7D9XxAymem1Md8Icp13nnnWbQwU60hkXlq88KD2PneqPMNz+DLBer3wucI3wsp4J7Y9h8pTWi0c/311zvHHXdcxrWDJjakhIe/63333dcaWHFc5QqpxtE5rDTCql+/vn8vXqJ12nw/0dmsQgghhBDVhmecxAbe8Lfffts8krx0cCN64RnzrmfM+c+MlxkzZqS8X/CeO++8s/v+++/7z6o677zzjkWpou9FlOvHH3/0n5Ucnhhzf/rpJ9cTMP4j2eH78MSG64k0d8stt7RtJepHBPHGG2+0CEq+eILDbdGihesZ0O7ll19uUakgkpMuopgOImjnnntuyj4kanbrrbf6z8ifTz/91LzjnjhIiSzlG3kL8ESm261bt5RtvPnmmy2CWiyI3HLehLfh0EMPdRcsWOA/I3eICodfhyiCJ7b935YvHONEeuvUqVPx2Tj3r7vuuryP73fffdci5+H9dOCBB7qeWPefES8vvvhiyntttdVW7j//+U//t0IkjyKKQgghshFrRJHGG9OnT1+pRT3RC2oEPUPIfyRe5s+f7//0JzSwoENinLPPiMqlq4MkepF0ZMYziJ0pU6Y4DzzwgI05qAzvu7W6E6K71BYyh4+IGNEo6tuotSM6lS90dr399tvtM1977bVWU5Vv1I7jIRoR47GqDLPn2KIejf2zww47VESfPAFp/+cL+5tbGKJTcUUUK4N96gkXiygG8N40n2FUQz7wWtH6WZry8B2WO0S1OS/Daw7RWuo318qjlpToMeMpwkPv2d/MT8x3f+cKx3wYzllFFIUQQghRKsQqFEk/nDRpkn/vTyiOJ4Us3AAlTtIJRUQQjUwypasVQiahSCObON8nHTSJIU104sSJabchCml0pGmSLsqIB0QOqaSMK2nVqlWVthchRhMERGc+qX0BHAeI1ihx7EMEwqBBgywNFcKGfz6wjdHjFeGIMV8MaCZBJ89wUwnENV08M81bzMSSJUusw2oA+3mDDTaw5jblTpB2Ghb1pFQj8PJZb3ByLViwIOV1SI+mc2qco3zCRFObIak1UgghhBAiX2KzSjCgiXRFa3wgEIpJgDiNvieRACJMCKK4oM6P6A4CLAxGdzGEIt1JqbmjzjNa3xcFA5QumYhEtptto4aPmri4Zj0iMs455xzrLJr0Z8+XY445xuodoVChiJCNjlWgg2s64z4J6BLL2JIwCP3tttvOv5c7s2fPThG4fDZqUeMa9VFdECnFScR5EYDQ4hjPtdNpAOsIQjEMYpquyUkRHuUBnEfpHChCCCGEENVBbEIRA5pGL1EhheHG/MSkGkJgKBJtC0MaKAPM8zUWs/HBBx9Y05xomiXRHaI8SYoloh00I8GwbNKkSaUpo6SDIhKD74L90bp1a6djx452Py7at29vI09KTXDwXdC0BwpNPU0nFJkRmW+abSFwLiEUw6MSiNwiWgoZ88KxE4bPxRzGcoexLjhvwo2zEHfMWwwiyrmAiCZKH52fiIMr04D/OEgnFKPHnBBCCCFEdRGrUHzrrbf8e3+CiCC6F6doC/PYY4/5P60AY4soV9yiCBFMR9co1IwllZoWwH7FIMYARihkS/ckMkJ6aSCQEOr8zRlnnBF7tILX69atmxnUSQrlQmDeI0Z3oRFF9nF0fxFRLIZQJDJPfWL4eAucLfmeR4hbZhGG4Zws5dmJuYKQpvY2HC0lksyA/HxSOPlOOV9I0Q3guyd9lc6pSRGtR+SYk1AUQgghyhPsEezw6roRWIr216gqsQlFjK1wHVQAg/CTGLAPRAFonhMGI7hNmzZWRxcnCMUff/zRv/cn1MQl2eAEAc5nZJA4YyBo158NokePP/64f2/F/iDql1REF6FMRLWQWsVC4SQgGoMICouEMNTzIZBJS8z0nGxgsEeNdt6vGKmnfNfhaCJwDtFUJV9BzjkZFkD8PeM4qL0rd955552UAfuAUMy3hpNjiZEx4eOEqD3RxCSj5SzqAQhbmu/E7cwRQgghRHHAlhg9erQ1kqyOG+PqKDeKFc84ioV//etfbrNmzbC0Um6eQepOnTrVf1a8TJw40UYyBO/lGcHu9ttvb2Ms4sQTpO5hhx2WMnaBm2fcuXPmzLFh9kmxePFit2XLljb24bnnnss6kNszeFf6DjbZZBP3+eef95+RDMOHD3fXXnvtnMdjcKwMGzYsZTsZS3Dffff5z8jO8uXL3bFjx7reyZB1YDxD2BnMX8iQfAa1Dxo0yL7jYBv79Onjfv311/4zkoHvlyHznshN2T/du3d3P//8c/9ZuXPnnXemnCP83LVrV/+35Qvf6Zlnnpny2TxRZ2tCviNMvv32W7dNmzYVr8ONdeSxxx7zn5EMd911V8X7/d///Z+NQhGimGg8hhBCxMPvv//uHnDAASnrKTfslPXXX9/dbLPNbFRdvXr1zOYNboyHW3PNNVf6O0bv8fzwc7nx9zzOmLq//e1vK/1d8+bN/S2Kh9giihD2kAdQK+R9MP9efBBevfvuu1NSAYkAHX/88c7OO+/sPxIP1CdSBxlNOyQdkMhMPmlu+UD0iqY0RE6IXDIEP1tEadGiRY4nCv17K6IU/A3dSZOENMYkIy9RSBMcMmSIRU6zdYDlc5OGHB3XkgtESInwhD8XqaAcd0lCOiLplOEh+8F4GY63fHnuuedSjls+F3Wu5Q5RUvYT6cABpLgTSfYWZf+RyvHWQDuGXn31Vf+RFRCVTLKRDXz55Zf+TyvOVVK4hRBCCFF+YKsTUQQyDWk+2LZtW6d79+42kq5Pnz42xu2SSy5xBgwYYDd+pjEkDQbDYA/QB4R+I5deemnF84O/6d+/v3Puueda+Red3sPj5QqxFbMRq8JJJ5gwtEl1ixua2LzwwgsVubgIKAy7008/3e7HCQLs+++/9+/9CWmXVZn9Vxnvv/++89RTT1mzDoRiZftx/PjxKamRGMx0m01axJHmy0FdrPRTDPuwQMjE4YcfbidZoTMuEYrhWXwcA9FmTXGDGEUAhb9HvndEUHTuXmUgaumcihgKwJlSExrZIKTDo0OATrz51nAiohcvXpwi2thHOFi23HJL/5FkYG5jAOcO7ymEEEKI8uORRx4x2w3bG/sTgXfLLbc4t956qzNw4EATdj179jRxd8opp9ita9eu1qk/2g+BniRnnXWWc+aZZzpdunSpeD43/p6+IxdffLG9/tChQ50jjzyyolwqzvnxEJtQRKhFPeIIRyKKYWM7Doi6EE0MG+28D4o9bmMLIxuhyPD6KBjcSYkjZh/SqIfRH/Xq1TMjOJvgweCdMWOGf28FHKyMVEgamvlQF0oNZZL1mgEY2Omi11HYZ5xQldV1ZoIxJOFRJBwDubxvVaAONiwggKgokbJ8wdGAAAqEIuco50cSEf5iQ4Q/6rzBYVFZR+AoQbOfsJhmvcLplK8wz5fw98x5k7QwFUIIIUT8YLNPnjzZfmY0H00lEXU4+Suzi+ngHm68iK1GZmQuzfSw8/fee2+LVAaBq5IVigimaAMZHsPoils8kF45c+bMlKhLhw4dLEwbN0R4SD1NN/aDxhn5pLnlCqJvzpw5zpQpUyxqwlw45iBmg+cRGQnDfkdkFgNC64TEA49GUvB9vPjiiwWlk+YLoxbCzo9iRBQRolEBxDZEnTC5wH4KnyMcs6QJJ3HMFhtEOwtzGM6RfCP86brC4hxo1KiRfy85ohFFLihCCCGEKC+Yw4wNjs19+eWX51y6gpMah37Yfifwxevk05gvyKhCZJa0UCQVMww7IFrXV1VQ3oRaw7PTSK8kxTCJNNBM9YlEeYjMJBFBe/31152RI0faWAwiJAjSyoQCB1k0HZNto8V/MeDA3HfffdOmH1cV0osRBnSeHTFihHWBzVabGBdRocgxl7RQ5LNGv0c6BxcSlcehEhWKBx10kH+vvOF8jJ6TfF/5RAFZn4jgclyFYbFNOhLP9xyuQ0W8x92pWQghhBDJM27cOLO3SAklbTRXCA7QdyM8D57solwikWGw79ALaLG4A0SxCkW88AioAHYaEaC40vV4vfvvv98adATGNDPTyP1Nqt1/dKB3QFL1ie+9956JIdrb0rYfgxUDsjIDmOhEOH0OggOnHCCKNmnSJGfQoEEpN75b8rCDAuBhw4ZZiD76WZOA2sBwXShOCrYzqItNAs6jaE0p332+aZBsJw1awmIKMXLAAQf49wqD10Wo33DDDc4111zjjB071kZUJLlP0sH+CEdG8aKRAp3Pwsq+Ia08XOtIRJxFOryOJcFXX31l8zKBbccZQMMiIYQQQpQPZLg9++yzFjw6+eST/UdzA/uDMqGwU5+U00IyjCjLI7gRLpmKg1hrFDGqjzjiCP+RFR57DMt08xULgQ6g9957b0U0CeOKzj+tW7e2+3HD9iMUA4MuDCl8+Rrv2cDQxmi9+eabnYkTJ1oEjX1Kh8pcDphMEbZidiOtCmw/KYDMnwnfHnjgAYuu8r1PmzbNDOxiiRIiSwiGYB8STSRFIMk6RcROVNzzefP9zIg5PFRhQY2XqSp1cByTeM0uu+wy56qrrrIcfFIsKKT++OOPiyLeA4iwRmt22Uf5bANppw8//LB/bwW8Lg6vpNNzmZMZiHjELd3RCm26JEShFPOcLXU4H7U/hEgl3+tqbYRSMWzDk046qdKmk1GwaQkQBWD3IxQrKzeLwvpFYA47L+7MvlhfjQgb4ynCzUNQy9EaoEKg3urGG2+0aBIHLsY7zWvoBpSUUce2f/jhhyulG2LYEVGMSygikuhuivFN1yQiV0ADE9Jqc8lT5uBKR7mc4KQNduzY0aJU4RsiBPF80003Oeedd57lYSdtxAfwPjR/CdJP2ZcM8EcwJQWeoKiY4/jLR5ySLn3XXXet9Dc4HYhYFgodVBnoSi4+DiBqBHkvxDyjSnisWCDgw2nBfDekkebSDRdYQ6gBRlCHQSjmkzZSKDiFAvhOkh5hI0Q6WCOiTigeq22GIecjGSw0hMMrL4RYAefEddddZ40Vca6KVFgrH330UXPyH3vssf6jucHfIhSJKAYQAEMo5hsVJKBFp3uczpn0QKHEKhQxeBA2hF6DDUVsPfPMMyn5t/nCGIxrr73W5pNwoFLoef7551suMDs1Kahdoo4oeiEl3RUBkU+aWzr4UjG6OQlJsXziiSdS0lzpZETtXy7vwz5JB+mr5QBOBoxlmhKFb5x4eGkYe9K3b1+7mO+2226J1EKmA9EW7qSLUEyXihwXLA50u0I4B3DuBM6DyuB5iGuOq3AqAzRr1sz/KX9Y0N544w2LhEWNyCDSyGzDYrHTTjvZYho+DnAiRRvcZGLevHnmmIlmCxDNLUYjG+qQA3BIVDUlWIhCwEiJrhNcl9Jl0dREWMtwFpEZgbMLu6VY1xYhygECIlOnTrUSILK6kp4lXW5Q9sW4PkbY5dKlNAxBAOyWcHNGIom8Tr76AtuUqGISvQ5iXxERbp07d64wfPDOYZQ9+OCDeYsWogOIpyuvvNLyfzlASQekXu3ss882wRa3cg6guBQvAf9HIRW00JROPgNDOceMGWMNeBC8d955p9WThU9ARDdNbHKtW0LMRPcFApdQdE2Ak4bvm9Rm5tPk0w2qKpBzHk795XhIMnLG944QDjedIWrHMRM16KIwfxHxM2HChJUWc8QI41wKhWOLczmTtx0BSfS9WB5HookszOHoK817cnFIzZo1y849tjkMF0S+b46zJME4DTfQwcmjiKIoJpynRApwKEXPaY5PapCr4twtB7g+slaSQs/5iOOZTKFiZawIUQ4QsDj11FOthAyHCqVREot/gqOcshFGseW7diAQ33333YoyFMDeLLRfAbYLdlHcumhV74u/3P85FvDGERWh2yaGGBcbUlmINtAogghZLiILlU363B133GEpb4hMDGi8GkSY6tSpU+WdgZrHs0/jGC6YRC75Gc8iTXMwKNOlGXKB4Yslr5gvmUhLuhvpLLwuqbdclBGepO5RF4WHBsOWky/dScd+IjJLqmUun5N9ylDPcOod+/vQQw8tuW6KGCZcmMNpfwg/xFFl0RyEFCmGpCITYuekyBRNDeD44/vib/OFBYDus6RdINT4rpgXSdQvKc8zzhZem/cN0gkw3oiikY4cPR74HdF2ou4cZzhp8C6Fj4UGDRo4F154YZW2mTrEV155Je05wf7lu6P5EikYScPnYFFkXUFIY/iy6LJ/6tevn3YbWENwWA0ePNjSvcl+CNdPE008+uijnaZNm/qPJAPOBoxTvh8cIBz3XIjjXtxF7QUHIV5urjGstawP/Mw1jVp/0sVpREXKU7p0bR7n77mx9nHe48zkusZ1nXMOuA6XI6yZGLzXX3+9dQzHYYtdge2i81CIP8GOpO6N/4koYtNSh4ddWYhNVdPA9t5zzz2tb0m+ASTWUXpxBNlYrD0tWrQwOyRfOypwOLMtcfZPMbwFMxF+/vln11uI3SZNmrjeh3c9pe16B5t7+umnu96FyvWMOv+Zf8LfeBcld8iQIe7hhx/uegej6xlSrrfD3E6dOrnPPvus64kE1xNq/l9UDU8YukcddZS77bbbup6CdzfffHN7T89Qt/dl96S7eUaq610g3S222MI+U7bbVltt5datW9fdaKONXO+LzPq64Vvnzp3dDz/80N/SyvFEjLvHHnukvAbv54lH/xnJ4i0e7ogRI1zP6PAfyYxnxLjDhg1L2Va+g/vuu89/RnY8g8fdbbfd3F69erlfffWV/2h6PHHgtm/f3vVElP9I/nji3vVEqW0nx/Jll13mfvvtt/5vk4Hz4/bbb3c9cWjvyzHZtm1b9+GHH3Y/+eQT9/vvv3e9xcX1hKHbv39/t3Hjxq4nkOz7HjRokOuJnpT9e8455/ivXDieqHK7dOnieothymtzLnCOnnHGGe7SpUv9ZyePJ05dz3C1c4X9w7ZwHvfr18+dN2+e+80337ie0Hbfffdd1xOI7gknnOBus802rif03WeeecY99NBDUz7Hlltu6T711FP+qyfH/fffb2sI7+ldfN3hw4f7vxEiHjzx4/bo0cOuQRzzHNubbbaZnavrrbeeXY/Dx36m2xprrOFuuOGG7qabbmrXMa5nvOY+++zj3nXXXf67lR/Tp093mzZtap+vb9++7hdffBGbXZEry5YtcxctWmTXQyFKHWwebA1six133NHseOxOURisN1OmTHE32GCDivWWtXno0KFm25QSq/CPt4GJQCQEb+ZDDz1kTVqIjqB6iTbi+ccrQS0WXgk8oHQNIgJJ3QR1YHgwqKs67rjjLG2ONLM4PRh4RjxjfKXQb3XDfunZs6fTqlUr2we5QjqdJ7L9eytS6TyBbV1Dk4ZoFQ15iP5W5gkhInjPPfeYFzeAlL9LL73UmhNVBpFaIjBEzogws78ygbeYSDSNcEjLLATej3RnvGngCTZrtEPkKklIccWjz7nDvmW/EUUj7ZLjgkgAjxHhPvjgg51jjjnGUqc8AW1/E071JsWqXbt2/r3CIKLKucJrEX3n9Yl8H3bYYdZoiu+Q/RJOB00azlsidERJiNSz3hAFptkNaw0eOraT9YSoNecD28t+ZNuDelOeR9SVFPekoyRsA6nnLL1Ej4nShNObhagqZOTcdtttliFDOhTrBVF4rgnc53jPFY5Tsm/4n7WGn4Nz6ZRTTvGfVT4QXaXWfebMmbZmMnaJ6AjR/WJBNhLzoInWsi537969bKOzovaAjY4thH3B9ZNu9DR/y2c9ESsgqwk7+IILLrB1FRjSf8UVVzjt27e3+6VCokIRMC5psIGxjaGNIUYtEwYeoo8LGAcZzyN9jMcwOOnQ2LJlS9tx1N8R0o37YCQlkW3j/1KCizniB0M3HzCSCT0HBx2GAfuPC2PsoegI1A3yvTJOJGmhyPeFAKRDJcdGtrxwRA0pRaQx5zvfJgCHB82GcCrwM8XGpCaTgpo0pOnSEArDD+OCfUyKJZAmRToqAoecdo4ZjDhSGUlbDY4DUipJG42jrpPzltRTBBavTxMijlOaDuH0oTFTMYViQOBoIpUDMUu9Jo1tOO4RhVzMOMYQZIizp59+2hwxwfLH+kLzJFLyOG+Sgu8To5TtYz1jG+i+WkwjVdR8OM64tmGMcJwFxzTHWSHXUc774FzhZ16H8z3cebgcICWf8T6UgbB2knqKwzHbNSRuuB4zD5jSC66FdImnWzzO1nS9BoQoJbjGcrxi69FHY/z48XaNFfmBg5v+K9jCAfTgoCyFEp6SAqFYDDwR6H799dfuO++8Yymk3s5xr7rqKveSSy6x2zXXXON6Rpo7Z84cSxXzjD5LG/SMUf8VRGV4xoHbrFkzC2EHN088uLNnz/afkQy87/bbb29pxp6Q8h/NTFVTT/OBtCJScBcuXOg/UhhjxoyxdAu29f/+7//cO++80/VEmf/b5CHFg9Rs0j9IWeJGaiWPeYab/yzX0kFIEwvvW08AJXoekSbLcUdaeTFTT9PBsUhaLinJbAvrCOmnPB7mzDPPTNlHpIaPHj3a/21ycC6Spst7kobOcSWESB5PlJmtQSrtuuuuazYI62exwAbyBKp70EEHuauvvnrK+kM6X8eOHc0+Cq/nQpQaHJ+eOLRjFlvolFNO0TFbANik++67b8UasMoqq7g9e/YsyVT05FznEfDYkVpBExAiHngkzjrrLAu7cqPjGHP08O7h6cNDQTRA3rXcITpL+ml4n+FRfuyxx/x7yUAKL2mSpAeXWmSEBg5Eqava0Ifjksgd+5boN6mXpEgXC/Yr0Ts8+KRtc8MTzWPhCBiRMr7zMET7kjyPeD+yAYhwsq+rE84BtoPoKinurCNEUnk8gO+PKF4A+4ZuyhSRJw3psUHzELaxdevW9rMQIlloUkf0gxIY1kQyQkhTLwZkepCmR+9AygmiWUxkRNDh/bTTTrPfs0YJUYpgbxD5wobn2kl0/r777vN/K3LB014VHU8DsFPq1atnmXKlRtGEYhiMSRZoUuIw0LjxMymLpSY0yo2gVi2AVElSXKKjAOIEIcqFr02bNiX1/ZGKSFdbUkWrevJR84ZYDFIsSKEmdYATvlRg4UHAho0Q0i2TFkDMEeI9Ea5JpzjHAXNdly5d6t9zbN0hBTTpGiG+H2opSd0DUqFJgxVCJAsdW6mrossxteWkmXNdSNKBFkDfBVJcSTPDMMSplg6u1aSldu3a1daJTM8TorrBfqdUiFRprv2U5mAPidzAuU4pUdipj2M7iWH5cVAtQlEkB4Y6F6RA0CBkvvjiCxudEdSsxQkGN0KUUQOM8kiyvitfiN5wscUwqOrJhwBu3ry5RcSBiz9jT+KaqUg9EfVx1Kkww4xFJF/wmNNmOfw9E61PWoxQN0k9IJkARDiTAi87zR9omNOnTx9rb59uVEdlUB8U3kdEacluSPrYnTRpkkUzOCe50J555pn+b4QQSUEd4Lhx45w5c+bYeY8jletVMZyarI3URNLsi2tl4CQChmqThROuHWeNo/6e5jYjRoxYacalEKUCznOuYZxHOOXPPffcRGzMmgg9HmhiFw40sD8RiiWJt6GihuFdbGw0yV/9FuieSLJRHnHXQ3mLgo1EWGuttazNby6jMaAYNYrUnlA3SQ795Zdf7j9aNdivvFbQzpiazDfffNP/bWGwD3mNli1bWqt2T+hbDVu7du3yem0+b4sWLezzBvvUE+5px9DEzXnnnefuueeeVa4DzcYvv/xi7fg5Ttg/7Ce+h1tuucX96aef/GdVDtsY3ke8FuM0kq6x4Htu3rx5xXgc6jl5TAiRLI8//ri766672nnnCUR35syZRTn3XnnlFRvNxFoVrDfcWH94nBE+P/zwgzthwgS3YcOGK43Ooo6RWupi1lEKkQ8cv4zf4XjlWjpu3Dj/NyIbr776qtlMwbmOjd69e/eSPdcVUayB4OGhYyxeTH72vmeLKtJNiShYXOClJUpCe288o6QUlwp038QzSyQxrjEW7EtqWxi3AaQJ0V20Kl5fIpOMLyEdkjoWXosUJFKFSZvNldGjR9vfBLUtfBdElknpThK85HQ/o1V2HF1VM/Hcc89Z51q6t7J/2E9E56iPJfU1Fzzj0MapBPuIY4OaAEanJB1NpBU/nZ+JKNBhlchxVaPcQojssL4yWuidd96xc5xrVaNGjRI991hfeE/6LkyePDnl+kC669ChQ50777zTRhmxPh955JGWHdG5c+eUTuek9BFV5JoTjPERopTg+OVaBoyhwubg+iwygz0erU+kgzTRxCQzsqqChGINBWOUWgfSGGkkxMHJxZJUAVJwqgoXNubpMAqBxYE601xhWzDao/B4HDDGgnmSvB7GQZzzDkmvZBQIqb00JSFdFBFeKKSc0sQgnJIEpBDn2mgBQUyjhHBzHdJASJVNWrzPmjXLWs4zm5AGO0mAoYXI4hY9RthH4UY12UBMh499jLI77rgj6xzOOOBYv+mmm6xhBTDnktpRIUSyzJgxw26sr3vuuac10svnWpUvGMnUQnKdZaZwsK7jZGQm9KhRo5yzzz7b6qED5xS/Y7zR3Xffbes4a0PwO0QnY8Woj2csgRClBmnS1CpybSbVuhhzu8sZ6hIJMIR7SWA7VbXhYpJIKNZgMKJ79OhhYoZGI5zIGNt4LjGQOVDzEWc8F68Rg5y52PH6w4cPz2v2E69B3WDUQ8oFkcfz3R5uGOJckLmQsmgRIQq8uIhkol1xwedk0DRz+bjA02WUyCL7pRCIIkaLwDESdtxxRzNsKgOxSs0d3in2BduHUUFtYr5zOPOF2h9ELl5F5nXSFCYJEFhEBqJimtrLvffe24rAK4Oo44ABAyo6jnJc9O3b1wzHpMHQI/LJe2MgMj80MASFEMnAOU8mAjNogUZvdK5OCtZfmpzhpOM9g/WY2iOcqQhItiGT847rCZ3fyT5g4HawnvI61KyTJRSOTgpRCuCo7datm/3M8XnzzTfH1ruhJkJfhWi2WKkLRRYhUcPxRJjlRB966KFWL+EZqe5qq63mHnLIIVYf4Yk2mzPH88K1G/zsGec2/4nc6WeeecZt3bq1zc85/PDDbd4lv88Gr0Gd3Oeff+4uXrzY9USVO3ToUKuZ5PALbmwX8/7mz5/vfvbZZ+6SJUuy3rwLp70WtZGDBg1yW7VqtdJsKm6eoPO3JF6oe9l5550tt9y7+Lsffvih/5vcYd88//zz9n3wOtSusB/2339/d/r06f6zMsP3ddNNN7meIWKflddp1KiR+/bbbxel5m7UqFE2W5IZqBxDScEsxN69e1d8RmpvmY3piWH3iy++8J+VGeancex7hpi9BvuZeUVJ7yPgvOLYZJt5f+pwc63lFUIUBusTs94848vO+U022cQdO3as/9vk4NrEWhWs5VwbWMvzXWvY/ocfftjdaqut7LW4sd4KUYp8+umnFT0xuDZ7YtH/jYiyaNEid7fddrN9Fdg0Xbp0sT4MpYqEYi2CJjIjR4408cTJzInNrUGDBu6FF15oovH999+3Qe4MKUewUfh/9dVXW+OW9dZbzy5cNHT5+uuv/VfNDo1GTjzxxIr3KvaNYbBJgEijiQuiGZHHAP5CCpFpeLDpppua2KOY+dZbb3U/+ugj/7eZQYAwvHmnnXaqED8sPi+//LJtW5JgxCCM27RpY6J2wYIF/m+Sgf2KMwBHwH777WcC8cknn8xpMC1/26NHD3OMsJ8w3jgmiiHW2E8PPvigu/HGG9sxcswxx+TVeEcIURhcw84999wKY4zmYBhoxYA1uFOnTjbcf9myZf6jhcE1mMY3NL8SopQheBAIn7322qukhU91gcPo2WefNTskWJs22mgjs7FLmVX4x9tYUYsg7ZOUSeYfkhLnGdOWFucJDEvvI5XAO9ntPv9znzouavMYCEwqJ2kyuUBKJgX58+bN8x8pLkcffbSl8yQBtXneBdzq9EgdYJgz6aK57hvgNUiBpBENDXjYx+zzTHC6UgfDKIyrrrrKUpJIUWrcuLH9PW3fPdHoPzsZSJ3whJsdP6RznnjiiTnXUxYK+7Zfv35Wd8nQatJNSevKhCfSnG+//dZmPT300EN2HJIiS4rMtddea6mnSfP555/bsffKK69YLe/UqVMtpTjb9yuEqDqkb3pCzYbXc/1izSAlNKn0+DCsPVxHuQ7Eca7zWlyLPePSf0SI0oNr9HHHHWc2Cs1ZqLklhVr8CeU699xzj5WfBDBWDnuqpPcVQlHUTvBufPXVVxadGTJkiHvWWWe5xx57rHvUUUdZ9MMThebpeOqppyzCSIREpOIJbovkeQaB7TtSIfPZT56AsTRWT/hYiiJebzxx0dfgvicQLYXXEzoVKUl4o/jeSP0oxvfDtpHuyuiRc845x963GPA+jGLxBJelunLcposKckwTaXzttdfcI4880jx3tO3ebrvtbDxM0tHWgH//+99ur1693LXXXtsi8Z6otiiwECJZWFMZv8R5j4nDmCBKFIQQyUH5Cdc7zjmuuyeccELRrrflAqnpZBuwj4IbY83eeecd/xmliYSiEFWEWX4IGITb7bffnnd64bfffmvir27dupbKef/999vCgShcunSp/c99alRYVFiMN9xwQ6t/IbWRWUbF4oknnnAPOOAA9+ijjzYxVkzmzp3rtm3b1vY1qVikcJCmizjn9sknn1iN68CBA+05zKWkFrZbt242kxIRWQyo6eW7YhtI8SZtNpc0WSFE1aF2HiM1MMSofX/rrbf83wohkoDrHj0sgvOuXr16ljot/oT+EfXr16/YR9iMnTt3tiBAKaPUUyGqCN1aL7vsMkspIO2TlItDDz0057ENQJewRx991FpLM5uQeTpbbbWVpXSSGkwaI2kLdDLdZpttHE8wOZ4BZCmvxYT27aQrk8JJx9Fs6Z9J8MYbb1inXVLL6BjL5w/2AaNG2E9sEy3w6UzLdnriO6/voir873//s/1zzjnnWFrw8ccfbx0Pkx7BIYTwLC/PnHnyySdtthvnH+mfpPYzymmttdbynyWEiBtSpOmIT4o3bLjhhja7m3IlsWL/MJ6L8iJsRmAaAV36WZ9KGQlFIWIAMYdB8vDDD9sCiWhEoORTr4jIQOgwfB+xQf0i9YjUpiCGaO3epEkTp2HDhomPvsgEtTIIsXw+V9ywT6j7QyxS24lAZN9Rg7jllluagG3atKkNty7mdrKUvv/++06fPn2cuXPnOocccojVjSLsiy2ohaiNsDYwzL5///5mjDHvFkfNqaee6j9DCJEEXP/efPNNu/5y7mG3HHXUUc7YsWNVl++Bo58gAk6sAGw6ek2wn0oZCUUhYuK7774zzxBF3TT8ITrIfEGJhNoBs9MGDx5sjaIOPPBAizIzG0kXSSGKw+LFi00YMjsYmCnLOcmweyFEsuAwRygSzcfuQQjh+FZGjeN88cUXTu/eva0RYQBzVXFs0eSulJFQFCJG6LSJQKAj6D777OPcdNNNzrbbbuv/VtRUlixZ4txwww3W2ZSoLw4DnAVyEghRPBiwj8d+4cKFdp+OzHQUrOoaTGnAp59+aj9TXhCc1ziB0mUtkOFAqhlgYnGfGynxRDlXW201+102+LtFixbZ/8D7BE4ntiF4TX5Ppgf/B6UJxejqLLLD8HnEAZGk8HHCscPP0WsD3x/HTPB9B8cQ97mW8N1Wdj3hb3BYcz3iudw4VoBt4H7wmsHxw7aQsUQaZFUhok+qKZ3GgayeO+64w2nTpo3dzwbbRNkNGULB/go+b/icCxMc9xDsL55Xr149Z+2117bH08F3wvkcfH7+hlvwM68Z7Kfwz0DGGOdwZedYsD1MFPjXv/5lWUZnn32289VXX/nPcJzDDjvMoox16tSxz5juuCgFJBSFiBkWIUTDhAkTnE6dOllKqqjZ3H///c6DDz5oEWQuBlyoSnHBF6KmgmE2btw4O/8YAcX5R/0PozGqWp9ImjujdjBgEXkYdICxmK7+GQOW9DvMK7aLn3kMw7Br166WIl8ZGJktW7Y04xt438DoZ8xHMNKK1+c5/E9ZAhFVxhOI6gWRiKOY0WB8b4FzgGOHYyYQ/QEcK4hLvnfg+w2OG8RWo0aNVvqbKPw9NbpDhgypEFvBSBi2gRvP4VgJXp9zgzFfjBKrKrwen5lRVoBjhHr9K664wu5ng+2hxpGMrOC84jNwHrPv0n324LgH9hNjsPhbPj+O+ky89NJL5tD/5Zdf7H3YT+Hvhe8i2Pf8zOsG3wu9IU455RRn/fXXt/thXn31VRPpbFOwPURZP/roI2fGjBnWYyEMdgIjRXDu0JeC92f7+bw777xzTutEUfB2ghAiZrxFwp08ebKNRRA1n9mzZ7uTJk2yDrZCiOJDZ2HGOWHWcKPjMGOfPKPNf0bhMMIoeN2q3E4++WT3ww8/9F81O57h7HqCL+3rZLo1bdrURgeJ6mfx4sXWpTvd95TvjesLNkVleMLJHTFiRNrXyHTjGLvzzjv9V6gabOO0adMqXtsTPjZuzRNZ/jMyw1ibc889N2XbCrl5Iss6omdj+vTp1jk+3d9XdjvvvPPcr7/+2n+lVBhVxqizTTbZxN10002t8zk3Twi622677Uo3OsPye7qzb7755vZ3/L/XXnu5nmD2X7X6UURRCCGEEGUNNcI0hqCRGOClJ5LhiTO7XxWeeuqplIY4mE1EZohcZoMoASlwQXYB0Qi6QrJtlUEEgwwFzyi1LBUiFFF4XZqG8D5EREh7p+YpjjRCUTVIbeT4o2Y9gO/wp59+qogSp4Oo37rrrmvRpQA6ou+77745RRR5LpF03oPO4OlMfN6DjuocO6RSUioRx3nCe3EeMkSe9+f43H333W0fVBblJoLH+UtvhzBEGn/44Qf7Pxukg7J/+EyjR4+2+uRMeMLboqg0D+R9M8kgXo/9FEQd2W/8HVkL7LcokyZNcj744AP73PwtkUF+JkrILQrnON8Z78/n48bPNOY76KCDnJ122sl/ZvUioSiEEEKIsoa0L1LeaJ4BpJ7RyIZ0z6pC6hj1xwGYTdRT3XXXXSbiMoGRfOSRR1YYyRh+bBdCoDJIXxsxYoSJUeqaXn75ZUtjBIxQDGOMybp161oaHIYoApT2+xi3onqhLo2aWYRTAGmIpDFzy2R6kyp6wgknmNhCnMAxxxzjbLbZZiY6soHwePfdd51p06bZ+yNann/++Yq6OOocd9ttN7tRF4eDgdRTHAw4JeKAGklEGh3AgfpKmkvtt99+dj8TbPuLL77ovP766/4jK0BwTp482TqdI6oy0b59e2sOwz6jiyjnRSYQ8RMnTrTO8rzf/PnzLU0UEINbb721U79+favdRBByPgVib88997RbrTrHEIpCCCGEEOWKJxDdHXbYAevbbq1atXI949L/bfx8/vnnKQPG09323ntv96mnnvL/onBI6bv++usrXpe02gEDBrjLli2LJbVWFAfSK0kN9URaynESvnlCxx00aFCVyxhI9/REkNu4ceOK1z3wwAPtPPnll1/8Z8XP999/77Zs2bLi83iCzR09erT/2/zhc5D63ahRIxtQH7xu9OaJXfett97y/yo32NZrr73W9QSzvQb7iP01fPhwSxHn+xKumz2OLYQQQkQg2kHKDl7YcrxlSzcS5QmRvS+//NK/51jKJylcSUGk4fjjj7eoTCYYE0BUiehOVSCC+Nprr1X8zNidHj16WMSjsiiTKB1IiySinC26RmSNFEai2FVZo1ijSdmkqQ6Qjty6dWuLugUNbpKAiB7RzwDWWxq8FArH+xFHHOH07NnTooSZjvcXXnjBMgiCz1sZRCeJUpIWS1MbXpeoaq9evSwNd7vttrPvSyj1VAghRB4sW7bMefbZZ80IxqgpRzA+SIkixSvoRijKF2p7qEuiNT8GMnTr1s259tprE63X+/DDD02wzZo1y39kZUgPpRMps1ULhUHmGPikoWLkDxw40Onfv7//W1FOIEpIKUbUZKpxpSbummuusWM4lzTldCxfvty6r1933XUmgjj+br311thSTDPB56PW8Oqrr7b7pLsivOjcWhVwttxyyy32GRhDlg7SRoMuq9k6HVMrSqo6+5iUctYPnC/UD3NNKHSf11gQikIIIUQuzJgxw23YsKHrGR+WrlOuN7rNffbZZ0rdqwH88MMPrmf0pXy/vXr1SjTFDn788UfXM4Ctu2P4vcM3z+h0PcPZ/emnn/y/yh+6KfJanHPbbbed+/HHH/u/EeXIvHnz3BYtWqx0rIRvBxxwgLto0aKC1ifSNRcsWOBuv/329lp0Nr300kvdP/74w39GctB51RNzFZ/jr3/9q9uuXTv/t1Vj6dKl7umnn26p18HrR2+cb6RpZ/qs7BtSVDt16uT+4x//sL/hWkDHZHUMTo9ST4UQQuQMKX3bbruts/nmm1uTjnK8se14kMOdBUX5QsOLcHSG75XjNOloMdGS/fff35rWZIL0PxqKEIEvBKKWjz/+uP1MxITGJjTbEOULjVKaNm2adSg8ES/m/dG5NF/orDp9+nRLXyWayLy+tm3bpu28GTeknpISHUD07vvvv6+0a2kukNLau3dvi65nSgsl8kjU8ZFHHvEf+RNP81gjG6KbNMhh3SCFvGPHjs5JJ53kbLzxxv4zRRilngohhMgZjBCMXjrGlWutH0Jiyy23dPbYY4+iGE8iWTgWSSOjCylggNPyvxjpmQhBUgkvvvjijKnYGKOki5Iam694veSSSyyFlpRaOp3S2n/HHXf0fyvKFdKVL730Umfu3Ln+IytDx97bb7/d6uVyhfWYzqfHHnus8/bbb1udbteuXe38KEaaPecAjpFmzZr5j6zoQEyKZ7qREoVAPSIjQKjbTXfOIVYbNmzoDBs2zAR5ADXMiEjOV7qzsk7geOnTp48NuBcZQCgKIYQQQpQjH3zwgXviiSdWpJ95BqnrGYn+b5OFVDbP2Hd32223iveP3kgZ7dChg/vmm2/6f5UbS5YsscHcvMZf/vIXt2fPnvZ+ovz55z//6fbr189dffXVVzpegttaa63ljh07Nq8U6p9//tm98cYbKzqENmjQwJ0zZ47/2+Th+Jw/f37K59hjjz1iTZemC/CECRNskH2mEghSXul87Ilm+5vly5dbh1MG4fN70k7bt29vnZFVfpAdpZ4KIYQQomwhrS2cokdEgTTNYkBjJCI+zG4jzS8dnq1lUZAFCxbklYI3ZsyYio6RdFel8yPvJ8qf9dZbzxrMZBuqTvYGA/RpTJMLHGdEyh588EFL+eSYady4sc39KybRyCVRP7qfxgXntycCLWsgU+MZzjM6DtPMZ/HixY4nLJ3hw4dbVJEsEjrPEpUk8pjpvBUr0IojhBBCiLIFQ5Q06ABEYjFTihl4T4obnXQz8c033zhz5syxGqlcoLMjnVwDYUmNGbVtouZASiZCLlutNB2mGQofPr4zwciHZ555xrrkAqnKHTp0yDrCJW4QXdHxG6RNZxuWXwiI0eOOO84588wzM57r1CAyauT88893rr/+ektRR2Q2atTIufDCC519993X7ovsVLlGkTa0S5cu9e8JIYRIAozRww8/PKXmQpQ/Y8eOtZoeIgC1GYzmE0880Vl99dX9R3Jn0aJFVmc0Y8YMu0/96YABA5zu3bvb/WLA2JihQ4c6N910k//IymyxxRb2HIz3ygxUoh98JiKlGMIcIxi2pQLRLiJX1Cv//PPP/qOlDYKMhijU/u21117VLhIwv2m6MmjQIOedd97xH12ZU045xRkyZIhTp04d/5H04Iyg5o7oNUKKuYn33Xdf1lERSYAzhIZnCERo0KCBM3LkSBPFcUOE8IILLnAefvhh259REK6cP4HDhSZm1Au3b98+0XmSNYkqC0VONgpnhRBCJAfDhvGC0hBD1BzwdmPM5RIxqMnQefDmm28uaEg+TS0wFoN5httss40Zg126dLH7xQCh/+STTzpnn312xgHjCBPmLvbt29fZaqut/EdX5scffzQxs3DhQjO227Rp4zz22GNZI0/FhAguaX2dO3e2LpPl4uQgbRdHBLPyWEsR7tUNQocUSkQ3+zUddGomdZJ0yUwp1QihiRMn2ndCmifXC+Yo0tSm2Hz++efWcClINyW99s4770zMyUl3V8T0iy++6D+SHvZJv379bB9l6zgrIiAUq0L9+vWtMFQ33XTTTbfkbp5R495+++3+yitqCszI+/vf/572O69Nt+OPP979/vvv/b2SH55QdA855JCK16LJhSe+/d8WD89gdbt165byuaI3mtM88cQTWRtoPPDAA+56661nz6dZx9NPP+3/pjSgmcjs2bPd1VZbbaXPV+o3mrycccYZrifQ/E9TvdD85Z577nHr1auXdnu5cQycc8451gAnE8z0DGYz/vWvf3UPO+wwmy9aHTCfNnxseELRnTVrlv/bZKApDed98J7pbjvssIM7depU/y9ErlQ5okg4OddCWyGEEIWBB5TUHUY6iJoD6ZLUIGWKJtQWSE8jipZpPlo2qMkiUjBt2jS7Xx2pp0BUh+Yj5557rqUBpoOIEFFkGmlQQxaFuipSBoN0ZGbGecKyqHVmuUDqKREcMsqCtL5Sh4gi+3zvvfe21MhiNTyqDGrnOCaIGmYyyZnxx2zEXXfddaWGRkSdqU1s166dHT+kqDIOo1u3bv4zigufh9mNQeopoyfuvvtu54ADDrD7ScD6yT6gbpEodzpINaV8gwY3+Ywcqe1UWSiSm17bL3BCCJE0GAcY0aWSfibigfSscp1HGScc19RVFdKBkPou5g2SegfUoTGj7owzzrD7xYRtoXdDuoHfATSlue2221JmzQUwXJ8GHV9//bXdHz9+vNWdFbJfkgaByPFbTscu9Wqso6XUPRYbmuOB+tVMPT/4/pnVyWzQNddc0390BTSKOf744+34J72ZLqekQZOyWmw4FugySi1gAE6ge+65J/EaW/YDafzZznscrtRCX3XVVVb3L3IAoSiEEEIIUY6899577rHHHotasVudOnXcm2++2f9tcfGMVXfkyJHuOuusU7E90Rvpj1deeaX73Xff+X+1AlI6jzrqKNcTzfY85s8Vmo4ryov333/f5v5Fj5XwbfPNN7d5hOG0ZX4m7ZK5gDxn3XXXtTmK2VKbk4T3feutt1K2e9ddd7X08KQhjdcT0ynvHb2Rxsv6MHDgQPfXX3/1/1JkQ+MxhBBCCFG2kEJINDKAlM3qSockMkp6eJMmTfxHVobtmzx5skVewjAKgcY8QWMjIovR6JGomZAKS2rmRhtt5D+yMjS+IbU5PGrCs+OtCRQpp0QdN910U4uYVVcEmu2Jzkzk/CxG51UaAt1yyy3+vfSwfYye4bn3339/RXps0tC9mGyBrl27WrYDDXjKhSqnngohhKg9BBfaTz75ZCWDoFwg9YxOfHTYLMWUPpEf1ERdffXVzogRI+w+6WV0kiRNrzrgvKDLI9uQ6RwhRXDYsGFmOGJEc16dfPLJ1t2Uv6GGihrAykYiiJoDToLevXtbfWom6Oj70ksvVQhKBAd1iwhFnAqMVKE+t7rWNdJo582b5xx44IH+IytG31Bnm00EVxXqk0m/pWMwn519gWj+4IMP/GekQuoxDp3LL7/caoKTBJE4atQoq6NG5OPUYltZI8ri+oNQFEIIIXJhzpw57gEHHGCpTuV8o2O3J3j9TyXKma+++sr1jLCK9DK6Pl5yySX+b6sHT+S5Bx98cMU2pbvRqXXRokX2/BdeeMHdfvvtK353/fXXu55gtN+J2gGpk3379s2atuwJC3fEiBHuf/7zH/sbuiYHv6tbt651HK1O/vjjD/fxxx9P2WauF6RkJ8Wrr75q6aTB+7H/HnvsMTsHN95445RtCd88sWidYhcsWOC/UjJ8/vnnlkYefl9SzNlX5YBST4UQQuTMP//5T4vg4MEu5xuDwr/77juL5IjyBg99uDEFaadEFvieq4tGjRo5nhDM2llzzpw5jmfk2naSCkdqIdCZk6H8alxVuyDKdeSRR2btyMl6Raop6clkdtC8BciSYGYiHX+rEyKKX331lX9vRdop52ZSxzLD/Wn2xL4A3mfIkCE2UJ+mPrfffnvGwfqknc6ePdvSVZn9mBS8D+tRAJFVOpjTWKkcUOqpEEKInEEoPvXUU9aKvDoN8aqAsGjZsqUZE4WMYxClBUbz6NGjU8ZhMGyfEQHpRlAUC84RurEuWLDAf2RlEAYMACcF7u2337bHSB1kKL/qE2sfiIqzzjrLUhV/+eUX/9GVoVbxlVdesWMcEGPz5893tt9+e7tfXbDNjJ8YNGiQ3ecY7tSpkzN8+HC7HyeIQ8ZdkLLLfiOdm47DnHMBjHFhNAcpuZnqEVdffXXrlErt4Lrrrus/Gh+knrI+0bWWMTc9evSw8TilNvImIwhFIYQQQohyZcKECe7aa69dkd51zDHHWCfJ6oQB6Z6B6noGbMV2RW+rrbaa27BhQ3ettday+57B73qCsdq6VorqZ9q0aW6DBg1WOlbCt7322stdb7317Ge66Hbp0sX/6+rFE2Zuz549K7Zzgw02cAcPHuz/Nj5++OEH1xOJ9tl5H86x7t27pz1vvvzyS/f000/Peh5utNFGlu7tCV3/r+KHrsblkm4aRqmnQgghhChraGBD84oAUr0yDd4uFp4hb50sGTieCRrXLFq0yCIfQPSFOZBqslR7IWW5YcOGWbMdXn75Zef777+3n0mtPPvss+3n6iaaekr2xhZbbOHfiwfmt9P0Z9asWdZBmEjiEUcc4dxxxx1pzxuyCogokkWSaX4m0cm77rrLOpMm1TGZ7SyXdNMwEopCCCGEKGvoYLv55pv79xwTiYEhXZ1Qi0QHSIzEykDs0g2xGKMEROlCnR1p8bkILIRR8+bNrR6vFEC4hce+kNa54447+veqDmmcV155pQk6nCycVzhjSNXNJsLq1atnKd10iM0kFj/88EPrRErdIp9DrEBCUQghhBBlDdG7rbfe2r/nOF9//XVFc5jqZOONN7aZiow1qIyjjz7a5unlIipFzaZVq1ZO/fr1K41AEXXs1auXf6/6oW49PCOQGsVszXnygfrH2267zWoOicAj+HbbbTfngQceqLS2kOfuvvvuVsNIw59MEfsXXnjBIpNvvPGGRUeFhKIQQgghypwNNtjARFZgAJJKhlDM1MCimOy///4WWcwmAIkiEk1E8AqBwGrXrp05GrKx7777Ok2bNvXvVS8IK0Ri0OQMkUuUn3OzqvCaNPC59dZbraEa5/kOO+zgjBw5MudOr4jqZs2a2TzDbNvEzEdmstJRtRTWj+pGQlEIIYQQZQ1pm1tttVVFJ0GiDwjFoPavOiHSSfoptYeZOOyww3KKIInaAx1xSdvMNGKFY+X888/PmEpZbBBVb731ln9vhdjda6+9MkbvKsN13YoxIJMmTXIGDx7sLFu2zH5H7ePQoUMtopjP52edaNu2rXPaaadlTPEm7XTMmDHOQw895CxfvrxKI5RqgtBc9XJ6MgshhBBClCkYo8zFXLhwYUUzDSIN++yzj7Phhhva/eqEWq3333/f+eCDD1YyPBG3F110kbPHHntknbsoahccM9Ta0riG2rwopFJee+21JZOqTBMYxkCwvcC8QEZB5DKyA8fOkiVL7IaDB0HIvN7XX3/dGTt2rHPjjTfa/eDc4bX3228/E5I0tyFCWJkgJeLJGkFEkjpQIoaZ5ifyupyr1D7zPfB3CNbghsjMdK7SSIs6TW6ffPKJ1Uqz3bxOqYj6fNAcRVF0OOQ4CTmZWPz4Ga8LJzkeMjp44fXhpCrUEyWEEKJ2gWFH1IHh9UDKJ40vSDerbrjGMSidGXPUT4ahGyO1V3HVcomaw9KlS52OHTvaLM5wzRzikGH7J598sv9I9UP0nnON+Y7YbkT7pk2bltKNOBN0/kUMzps3zwQnjWp++OEH+z+bTCFqiTPo6aefrlQw83oPP/yw1Tjymoi/ygbtI0jpmhqN9BNxTNekB2E4efJkZ/z48eawCjqotm7d2unatauJ+3JzBkkoiqJBOB9PEScmJ9O7775r3iNO3t9//908LQhEcto5AfFCkUpEug7iUQghhMgEhurtt99u3Q253mCgIhy7detWEk5HBoMTOZwxY0ZFShrXtltuucU54YQTymcAtygqODuGDRuW0sW3QYMGzty5c81mKgWQEnQNRRxiz5Ea2qFDB4sw5gKfhYH3jLzIF2xF7MnKhCJppJxrrAlVhXO5UaNG/r0VUJ85cOBAZ/78+c6hhx5q3Vh5T74/1ibuU2O5yy67+H9RHij1VCQOF0Q8K3PmzLHuVHhVH3nkEQvLBx4jooqcSAhHTrKJEyc6zzzzjPPxxx/b77iA4jkqlRQLIYQQpQXNKkgLw+gkZY90tp122skafmSbSVcsSIHlmkb0hOsesG09e/Z06tata/eFiEJDGyJziA7AqY4gQXiUStYVdh51hBMmTLD7NGU688wzbR5kLhBlR3xhB66//vrWxZR0Us4ZbvwcvSGSeR7BhC5dulSa1sk598477zjvvfeevQc3IobpXjt6C7aJVFRs0VNOOcWpU6eO/8qOifiLL77YRmvw3fAzQpIGWzNnzrQ0V+xdIpOIyHJCEUWRKHh1OfnHjRtnoXgWNYYPc/HGI8bFkROPk4c882+++cZOYvLS33zzTYs+shgwTBWPK6lEpeJBE0IIUVrQTOOyyy6zOWvAPDpa4jM/rRQg7e3qq682wxHxys9EPCtr7y9qLzg8SE8mLZP0U1KUcbxna45UbEix7Ny5s6V2Bnbe1KlTU0bWZINsMxw8CEbsQV6DOkLSNDOJYfYLApXziBTcykQznVNx0rz66qsVr52rAwmpRKSU/c/r0KEYkRnAsP6+ffva2nPeeedVbAufhzWI7w4hy8zLp556qrxqFRGKQiSBd0K5s2bNclu1auVusMEGbrt27dw777zTXbx4seud3P6zVobfLVu2zL3vvvvc1q1bu+utt57rnVTu3nvv7Y4cOdJdvny5/0whhBDiT3788Uf3qquucldbbTWc4K5nsLoTJ070f1u9fP/99+7ZZ5/trrHGGrZte+yxh/vSSy9lvR4K8dxzz7lbbbWVHTPcOL7/+OMP/7elAXZZ3bp1bfs497p27VprjuslS5a49evXdw8++GD3559/9h9dYct++OGH7sYbb2z7ZdVVV3UPP/xw97///a//jPKg/NrviLLAO7ZscCmZzYT6zzjjDGtlTAes8KyrdPA7akvwEJFLzhBi0hjoZkcjAKKTdK0SQgghwtCNkHS3oDEMnRKpX0rXNbLYcA2jKQnbQtTkqKOOcurVq1dpJETUXojU0TglSDulk+8xxxxTcg1RXnzxRWu8A2R9HXvssbXmuCZ7gXXmnHPOSakzJqOOzDgy5YDfkU1XbiVUEooiEag/JARPcS9heAr48+3oxslEh6jevXs7hx9+uC0+FEtTjEzonlRVIYQQIgwNNZo0aWLGNOlptOungVp1wvWK+iVGZAANOA466CCrfRIiE6RSP//883YcAymPiMVSEmEEBu6//377H7sNMUSZUG2AVFTqMimjIq00DDWR/I79AgQ8mKdabkgoithhQbvhhhucl156yYqZiSIy6qJQqC1hOCoXfxYhLrR0tnvjjTfMYyOEEEIEULuFoUoHbSCSh8EdHi+QLxh71MzTaO2ee+6xbo7UVOUaqSSyQJ0STXa4jlF3T3fvsqpVEnlDcxa+d0a23Hvvvc6UKVPMafE/v+ttNrBvyKAiUsfxx5gGInWl0JgpDJ+Hhi1AF98TTzyx1vSSIOLLuhLtWsz3RXNGxnYA5zxd/GlAVG5ohRKxQ+vvhx56yIQdRby0Sa4qdIY78sgjK7pMIUJZeOlwJ4QQQgRglHHNIKrIzxjazHYL0vfyBaOPBhiUUlxyySXW0ZD/6W6I8V9ZKQRi8tlnnzXnJtDg4+CDD07pmihqHqQc0umdsQ/BccPPQ4YMse7ulTku3n77bev+zsxpIFWZSHSpORfoYo8DhO1i+9q2bev/puZD1sIFF1xgpVKsNQEISDLfgpmppMQTTSzHc15CUcQK0USGpnJhJNWGyCLjMIIc7ULBg9amTRtLaSDlggX2scces3oPOlEJIYQQAdtss421oUeUcb0gfY+O2oVAVIh6eYx+au65nhEtYOYb1zeiRNkgmkjaKQO+MaYPO+wwm6UWNixFzQJbiO8cG4hoG9FoRAPOAqLROBgYlZKJIJrIc4g+0mGTSF1VsrOSAOcLnwfoJIpgymXAfk0BoZiu1pjvnw6wAYzYKFcBLaEoYgXhRrQPDyzeMFJ08J4FrcqrAjWOe+yxR0VKAxdrPFlqbCOEECIMzWKI2jVt2tQMWFJPabCGWMsXxjU9+eSTK6ULch8BwPy4TDXzzE6bPn26RSSBZm4tWrQoqdEGIn44zogoMQYlCo50HBfBMZEO0qXJziJSB+3atTPnQqk1sUHM4oBBJNFE6rjjjvN/U3thXeD7YxQHEOggw65URvTki4SiiBUumAzID0AwMogUAVlVuNjvtddeKaF78r9pnKNaRSGEEGG22GILa4RGLSDGOZE/IoJcl/KBvyGVLB08/tVXX6V1WGIwUsf4xBNP2HWQMgyiCqTFImRFzQXHAc33MsExwy0diMxRo0Y5H3zwgR1DO+ywg80oLLW6P7b/zjvvtG1EDPXq1UsOEA8yGOhUG9jCpJ2SEUf9ZjkioShihe5y0YswHrBch65WBkNcw13iSHtg8GzQEUwIIYQA0jyJKLZu3do6DpL2R7povlHFyqI4pJDiyIyCwKSWnmgmERdqlBj3VJtS82orfN/Zjht+l+73OB6I0hGNJOV5zTXXtPFiROsqOw6LDcd20MWXHhKIIeE4y5YtswwEYA3ifG/ZsqXdL0ckFEWsrLPOOv5PK+AkoZVzhw4d/EeqBnngCMVwLjjF3hqVIYQQIgq1XXSKbNy4sdWz066emsHKGomEadSokV3L0kHNGBGf6JgLMl3uuusuSzulTT5pg127ds36WqLmgMDjuMgENbSkIYdBJD766KPOyJEjnS+++MKOEyKJOBd4vVKC0WeUFpHNReSeRj21pdNpZUyePLmiLwdZBKTAl3OkVauViBVSD2g4A3i/6Dp35ZVXWupPHLBYrrvuuimeNepH8BDnm04khBCi5tOgQQObP0dHRqJ8NJmgGU2ucP3ab7/9/Ht/wnWI2qNTTjmlIqKI4UyH1WuuucYiQ6Sk8r49e/a0qEKpNSMRyUDzEqLZ6cQT5TNE4CilCcCGQXhdf/311t+BdE6OWY4bREbYOV7dcIwPGzbMGu1wDgwYMMDOA7Fi3zBTMgCblUBJ+PsjDZ21IRDapY6EoogVBgjTzQuvGJ5bOsJRIxJXdzdONvK9w/UdFHvjvc1UQyKEEKL2gogj/RSDjawXmqsR6QvGDlQG89GImGD8BwTZMsz4rV+/vo3goAzi6quvds4991zrys34JsoluE9UU8P1aw9EknAudOzYMSWCjHDAYUCtKvZMkJ7MMXLddddZejSP0z2UsQs43kst5ZReFMwTxebq3r27HduKkq+AmZmkmgPfG2tD2CEANMC6++67zaFUDp2PV72cwUBCxAQnRt26dc0Dy43c7LgXOVpO000qPBYDbxYnY7o6ESGEELUbInnUytOFktTTzz77zK4ZDOWvLFrD74nqMPCcboZBqQOGMil4OEWJUvI/NZA0MSHDhZSzfv36WfQoLDJFzYdjBlGIMwFnNrV8RAm5EWWmAy/HzPjx452pU6dafwccC9hM55xzjtUlIhJLrekRDXb69u1r/xMYGDp0qJ0XYgVkEgTNG2lec+aZZ1ptcsCvv/5qawRCu1WrVs7+++/v/6Z0kVAUiYB3qbKLb6FQ5P3aa6+lCEVqAQ455JBYhvsLIYSoeRBNpM4dI5drCOl+e+65Z06RPgx2rjOMaKKDKkKTJmp0fiRCQE0Zhj5CAMclxj6lGIhR1W7VTogWbbjhhnY8bLzxxtbkhGME4UjqM7cvv/zSRqjgSDjmmGOc/v37W00iDvdSiyQSgWf7EDqMK7v99tstYpaUrVeOIPCDTAXqo0klplwqgGOAGlTs1969e9txUeqs4qqwS5QZPXr0sFSNcKdTZgxx8slrK4QQIhPUBD333HMW6WP+W5cuXZxLLrkk56gIUUSMPeqziAIRPUQ4UhJBUw9mpZFuipGIMJURLWichHjAoUA0m/RSHAwcG9QrEjmk2RHHD8KyFDOj+AyXXXaZjcMgUkaJERFzjXn5E6KFrAPsK5wE1Kgywi1IL2VcBinvpBSTBk+crhyy4CQURdlx4oknWg1kuCaxefPmztixY+3iLIQQQmQCb/6zzz7rXHTRRWa89+nTxyIBjNDIFQQnzko6mhJFxBjE6MOIVgmESAfHCccegiKwX4gacsyQDVWqdX7IhOHDh1sNJdt4yy23OIceeqgyuCLw/SL0aVaDgKbLMZ2PgX2IY+rss8+2nxHc2brilhKqPhXVBicVC2Y+MxD5G7y30U5RXKzl8xBCCFEZDAfHuXjttddaFIcOjjgfubbkCgY+KaVEhIhGBhFEiUSRCUQWopBUZ1IOuZEFRf1sKTeDeeihh0wcIgwROC1atJBITAPfIZ1qAXuUOZhAhJG+GkQSST0+//zzVxqNUsoooiiKAgKPdJ2ZM2c6c+fOtU5f5OcTig+KvqkdoTj6iCOOsLz3dPn5nGQnnHCCeYPDEOJ/5JFH7KLNeyEkq3LB5u85NYK0Cl6TbWWbCq0bwJOIgZIJFhPel/fM9aLB8/FkK71JCCHygzX91VdfNQPuk08+sU6EREok9oRYAYPjibxjZ+BQoZNrNjumtvP1119bKdT8+fOtNpEUUxxQL774ot0fNGiQTQIopzVGQlEkCukVDMRnXgzdSon8AR5YxCCd5Dhh8LzQYIAb3rXjjjvO5gchHsMwM5EaxaCrVAAn3qhRoyzsT1OBffbZx4wAvF5hzxcij1bnwKHP9vC8ALaXKCfC8KyzznIuvfRSE26IWupYWDQD2E5+h0jjM/A+QcQzfFoFhc144caMGWM/p+Pdd9+1RWTGjBl2n9fG+4hoDF4/vL1EYhHGGDd77723PSaEqDlwjtMRcdq0aWaAELFibcOZlmvaEq9BXRRdFllfGQSN04po2FZbbWVd92gEhrMuV4cT6xDrFbV+zHxj23hNDCEGiWNMciuHUgAcdNSLUXPFvmD2rwxhIVZA80DO8TZt2lgUrFBHeW0B22/58uXOfffd5zzxxBO23hJBJoOhW7du1qQoCECUDQhFIeLGE0zurFmz3KZNm7qewHG9xcVdb731XE98ufPmzXM9Yeh6gsz1DA7XMzDs/59//tl97bXX3F69erneyeS2a9fOfeWVV/xXXMGUKVNcT2CiwlJunTp1cr/77jt7zmeffeZ6F/qK33nGT8rNE14Vt+jvuAV/d+GFF7qeKLPX/PTTT217gt9let3oY9x47qqrrup6C629ViY8Y85t3bp1xveIvj6/33LLLd25c+f6ryCEqAmwfi5dutRt1qyZ+49//MPdcMMN3e23395+/tvf/uZ6As+96qqrbB3NxJdffunecsstbqNGjdw11ljD1kRPuNn6udNOO7meMHQ9g8XW5+22284dMWJExXqXiR9//NEdNWqU27hxY3f11Ve326abburuuuuu9pqeUKx4zV122cUdPnx4xbpcyrC/+ez//e9//UeEEMA5wbnBOSJyh332yy+/uP/+97/tf+zcct2HqlEUsUOr51NPPdUiaHicvZPDfmYYMXnu++67r3mviZDhuSVaxv9E+ho2bGhzeUhxoKscxdOkqQYQLQxmWIUhQpnJ0+Ud5yk3tie4RX/HLVeif1fV10tH+HWiry+EqJkQBSRlia6aZDUwioEhzmRn4NXnPuvkwIEDV6rxJiti8uTJlv5ESiVrK5kKRBXJjKDjIq/FunrSSSdZxsLixYstg4Oh36SzRyHqxnBoIpmnn366RQ+ZF0aGB3MJGTXB6/Mc5obhMScKQS3O4MGDbd0uZVZZZRXb5qA7oRBiBZwTnBucIyJ32GdkhJF5xv/YueW6DzVHUcQG4oW87EAUch9BiJFy2223mZjjRMl2svA7FibSUhGOjz32mAnARo0ambAkdZMaxz9C6aJw7LHHWvplcLFnsDJDjtu2beu0bt3a3ptalEyQGsDsIuZe8TfcSMciTYBtYhsYhEsNZfD77bff3oykdMIVTjnlFEtf5blsC7Uv2QqYg/cgtYzZXqSGIbrDhiCF782aNbPUXAxJXpfnsp+FEOUPDqGbbrrJGTdunA22DtLfWddYE1kPgjR+0pro1MlsP2A+G2stafKsJ1dffbXdWDNYO3gMYciNNFaEHwPkWccQiPzMWti4cWN7PeB9qP+m2zRp+QjEW2+91TnggAPsNdmu4DXZlt13391KCXgtRCtNHIJZcohWIYQQZYRnzAtRZQiz33fffe5aa61lKZHcSEMaO3as/4z8IVzfp08f1zNI3JkzZ1oIv3379hVpl+Hb1KlTM6ZNeYaXpaN6BtBKfxfcSOc69dRTLQU2VzwR5zZv3txSQtO9JqmmnqHkPzt/2JbBgwenpJk++OCDGT+nEKL8IWV07bXXdvfaay9Lzw/D/YceeqhijWFt6NChg+sJRnf58uXuZZdd5nrizT3qqKNcT6j5f5WdSZMmWWpr8Jqsk0G6KGuwJwotdfXggw92PdFnj1fG+PHj3R133LHiNffee2/XE7f+b4UQQpQLSj0VVYY0pDvuuMPmwwTtgPF843UOWgUXAuF6onB42ElpImWKImHvuPWfsQK81DRQwFueDiKCeMk7duzoP7IyRChJlYo2yckGHnm2D696OigCJ0WsUPhbGkbwefkMRGpptkB0QQhRM6EJAmsqKZ5kUYQhese6GMDaQDTw+eefdx544AFrXd+yZUuL+nlC039WdshICEf6/vnPfzqPP/64rYlEEvv372+ZFJ74s6hgLjByglsA2Rysr3wuIYQQ5YOEoqgSXPhHjBhhtTLBDCpysUmX6tSpk92vChgxdPejFoZuoIzHiEIKKMIUMZUJjCtSp7KJrA8//NBSuqjHyRXSSjfffPO0700q18iRI/17+YEBiDB+6aWX7D4pXdR20qVQCFEzIVWTDtE4n0gtj8LvSUcPE3TY4+/o2NmvXz9n55139n9bOXQmja6LjB+inTup+KTC0xGU9NFcIRWe1PkA1tT333/ftlUIIUT5IKEoCgajhRpCmhUEIyAQTK1atXL69Olj96sKkUCEIu3XZ82aZTU5UaiJCXvZ04EnfqeddrKW7Zn47rvvLKKYTxQQg2zXXXddyfMfMHr06Iw1jNn4/vvvrZEFDX0AY43PSR2QEKJmwvrDPD/qpXEORaFeMNoY5vPPP3eefvppE3xkdeQa9QtAJEYbLVBXSHMbBoKTLUKNdz4QoeQ1wyASA2eiEEKI8kBWpygIIl4IGXohhb3EGCs33nijCbO4oKEMQpT006g3HXIRioCXm1TYbGIrmA0WTW/NBg1qMr3/0qVLnSlTpvj3coeOhHj02Q6MLqKJ+UQJhBDlx4QJE2x9IlMhHTSy+eijj/x7KyA1n6wGOpiSIpovNKjhFl7zWAeZLXjllVeagy1f2E5uYcg+SddRVQghROkioSgK4ssvv7RupkTfAgMDA4fW6HQcjRPSsIheIhYxisLgtUYoZorohUHMBZ1MM4F3ft68edY9MBcwsGgNny1qSEoY258rRA3w6PO6sOOOO6qzqRA1HNIzp0+fbimbmTIfqAEPjwsC0u7pXkqqaiEZB0Qw0wm4ww8/PG36ay6wVkfXUNrER6OMQgghShsJRZE3NDmgZoX25/wcQPMCGjDEnR5JRC1TbSHebt43UyObMKRWEfFkvlgmEHSINKKluUCqGN738H6IQqOJqHGXDZpTvPDCC5amRWSWsR+MBxFC1FyI4H3wwQfOgQcemNYphEOOlHRq/QJY05g9i6BLl6qaC8w/jDaZQawOGDCg4LWcEgHKBcLg8EMsCiGEKB8kFEXeIKTohkd3vDAYK5k6gFYFvN2ZGswwy2uttdby71UOz2X2YLa/ee+99yzts7IOfWwXaaXp6ibD8Dyiirmks/I5EZXMioQ6deqYUMwWBRVClD807CJj4qijjvIfSYVMA9JOg3pwIJrIzEO6IRcKQjHq6GL2bIMGDfx7+cEatmzZshShiODEoUenaCGEEOWDhKLIC4yVBx98MCXlFEgpoq4ml8hevmAYkeIZhSgj3vdwd73K4G9ojpPNsCJlinbuixcv9h9Jz5IlS0zQBSlWNH5I9/kx/iZOnFipoAQa6hCp5bWJFhBJpJFNuNGEEKLmgehjtAXNwNJBejtiMsxmm21maemFpnSyhqcTil27dvV/yh/WQwQt0c8ABCLOLkUUhRCivJBQFHnx1ltvWbOXsFcbEF90/4w77RSIXAbzGcPUq1fP2WWXXXKqTwxDJ9X27dtnTGcFRlPMnz8/YyQT6DSIoMPYIpJ6yimnZPSY412fPHmyfy89vA4jOujuys8YjhiBhTSTEEKUFwcffLB1kd500039R1JhDaShVxicU1VpckVzMBxi4RpqHG80zyoU6ryjDXeos0bUyuElhBDlhYSiyBkiY1OnTl2pPTsweD48tDkueE/eL+ydDmAAPTWH+YIAI6JIt9JMIACpP0w3txHwms+cObPi982bN3dOPfVUM4jSdXwl/XTMmDErdQIMw+8QqNyA16KpRS4dXYUQ5U+mNZR1kO7SRP8CWGcQldnWscqgjIC1LJwdgnMqnyyNKGSbRLMxcOjRmVUIIUR5IaEocgZDhShbVLThJW7atGkiHe3weCPaovO3aPaAB37dddf1H8kdtpe5YG3atPEfWRkiiXjvo6leAQzCp5aQOkaMO+qKqMEh/TadsMPQo4tptiY5fE7EJ2m2RDtpUrHHHnv4vxVC1FZYZ6idDteFU2e93XbbVUnUkeYeTetnXS0UUljpokpUMYDrQv369S36KYQQoryQUBQ5g2giuhdNx9xwww1tyHOcsxMD6ADKKI6wxxvweheSdhqAwGRURrbmO3QXJKoYFamkac2YMaMiskrTBwQdApGUVhrQpEuxwiCjvhPRGIXX5P1oogOkaZH+JeNKCMEahHMqDNkUrIGFwpqKMywqFHH6FQop9nSBDq+ZRBIpE1B9ohBClB8SiiJnSFMKD9cPQLRRm5dE/QledFKZwtAwhmggUcFCCZra0DU1EzSPIAJI3WAY6m94PGhiQzQxEHTbb7+9NdhJV/+IGCRiiPiNQhMbGuMgitmPeOBJj01inwohyguEF06rMAhF1olCITOEcRzh7s44zqg1LxRSTrlOhEHMbrXVVv49IYQQ5YSEosgJvM8YFYE4CkNXziTSTvF0U5MTrYmkdg8RVZWUK0DcMag6W20l3U/xuocHUj/77LMmFtknRP4OOuiginEbCLuTTjopbfopz6fz6aRJk/xHVsDjiGGa4wDRTsQ3olMIUbshA4EZizjNAnCWVbU+kcZkiEXWnwBG8aSb4ZgLOMK4RkS3kxR6CUUhhChPJBRFTuDRJq2I8RhRdt9990SEIrUupDGFG8CQ3kp6J7U5Ve2wSlMbUkazdQ0kwocnn/+B5jWkhwYzwkhfxVgLj8VAxOJFT7d9iF9GZYQFN5FLBCmfFXg9xGcSzYGEEOUFay5p/6wTATimyIgoVNQBa074NYFsiELXVdZEHHvhtY2RGKyFhdSSCyGEqH4kFEVO0EQBsRj2PkNgsGQbNVEIvA/GUSCeAnivymoLc4Xo35ZbbmmzyzKBN3/evHkV3QYRjW+//bY1bSBqyN9SoxkGAXrcccelnalIZDJciwiI0GnTplU0xiH1i4iiEELgXKKJWBjWP+rCqwJCMVxLyHpYFaH48ccfrzS+g2gi432UQi+EEOWJhKLICQyK6FBm2GabbRKpTyRyh3EU7p6HGCWaSF1OXI1zmKlInWK2ekdqFKlJJG10zpw5FTWGDMPHWEuXZsp2ZnpNZlA+8sgj1hSIdC1en/pEIJWV7WG7hBACoRhtZFPVWkJqoll3wvWJpOIj6goRirwODrCwYw+nF0KRa4QQQojyREJR5ASRtWg0EbbeeuvYo4mAZxrxFE513WuvvZxWrVqtFMGrCkFTmyZNmviPrAzbQFTxiSeesBEXwfB/tiXTbDBSrvh9OgHN62H4Be3uqXnEcMNAo/6yKl0HhRA1B5xJy5YtszT8gKA+sSoCjKwI1pxwB2bWV7IhCoGsiHCDL6AuEUdaUL8dhVRVZstSn52uE7QQQojqR0JR5AStzdMJQqJm6VIsqwINFl544YUU7zRRy44dOyYyhgNRRzprtlEbGEF33323zU5EMGMENW7cOGvtTdeuXdPWbvL3GEk0tVm6dKkzdepUe3y99dazxkCIbyGEIOMA51TYYYbwIvJXlXETOOKijclwlhW6liNkcaaFoXad+sRM2SZ0gL7xxhvtbyUUhRCiNJFQFDlBqhONE6IXfVq0xy0UMYxmzZpV0cSG9zz88MOtHrCqnU7TgcFFilS2mh+872wX6afAUGq6kmYTrRhKzEJMB1HJxx9/3JkyZYrV9gDis3nz5rHvTyFEeUJKZzTtFOdUVeoTcVRRnxhkRgBrLCnvhaw9lCUQoQyPEWKdJjU/U7dTIqV0eabEgOtKEjN4hRBCVB0JRZETXMyJdEVTk+JOOw0au7zxxhv+IytqAU888UTrBprJO10VeE1eu1mzZv4jK4NxhdFGMxr2ARFI0r+yQY0OUcV08DoYV/fee6/9TJ0jNUd0YRVCCGDNiTayIfOgKkIRZxfOqXCUkqwK1sBC6hNJjWUbw6+HEw3nW6YsDeYtkp3BmoezMYl1XQghRNWRUBQ5gQHBhT/abZQau7jShmiWM3v2bEvJDLrxUY/IXEK68SU5LoLPRdrnFlts4T+SGTqSNmjQIGuqakDbtm0zviaGVdCsB9GJ+KxKu3shRM2BdRURFmQcABE/0v3r1avnP5I/zE8kQyJcc059YqGprKxhQTOuANbHbM12WOf5bIcddpgadwkhRAkjoShyhnRLRE/Y+4tnOF031EIgtfOBBx6oaNxA5I5IYocOHaxGMUkwwOimygzEykDQ5VpHiBHE9mcDEY7h16JFC/8RIURth0wDUkTDnUlZE1mn0nVazhXW2R9++MG/twLWvUJm4eLsogv0kiVL/EdWRDwRipm6PlMb+cwzz1gKLan5hTbQEUIIkTwSiiJnEEfUsYQbuCxcuNAu/GHvdCFQ3zJy5Ejn+eefNwMpGIVx+umnW1pUMVKTqKchcpnNs0561t57723GUK5069YtqxGGmOR9s43oEELULlgHo/WJOMxIxS8U1ulFixalNLJhbd1vv/0KForLly+3bQ1gvSb1NFO9IyKRubRHHnmkdW4tJN1VCCFEcdAKLXKGC/8pp5ySMmuLFCZqCsP1KfnyxRdfmEgcP368NbDhfVq3bu306tXLxkUUq9EBXnpqf7IZYgg6tikf44bxG9nqHxmxweeVwSSECKDj6YIFC/x7K0AokvpeKKR7Mo4iHKXEAbjlllsWtM6yZkX/jjT6TOn2NK9hnaeM4IgjjlDaqRBClDiyTEVe4Cnu3LlzRfSLOpo77rjDUo8KiSpitFx//fU2egIvN15tIokDBgwwwZbJK50UO++8s4nBdBFM6gdpIZ9LHWMYoqOZmtoETWyqMjxbCFGzYC1lTFB4RBBrYdB0plB4PerKw2s1tdmF1ifyd5tttllKUzPGd6QbG0Sn0/vvv98a33Tp0sXWPHU7FUKI0kZCUeQFxgrNZRBzwagK6hTPO+888xbnSpBW1bt3b+eee+4xowgDo1OnTs4VV1xhkb24O6rmAh5uPPbp2rqTcspcsHxTtBCdNG1I14CiTp06loJVSNqXEKJmggOOWsJw5I/1ka7IVVkXEYrp6hMLrXnkesBaGXZ0se2IwjA8Nm7cOKtBx9lGNDGJUUdCCCHiRUJR5A0GC2LuuOOOs0YEGAUzZsxw2rVrZ97ibJFFDAaa1Vx++eXWqIa01Z9//tm85IMHD3auvfZaS+0sdiQxgFQqRCo1O2EQewcddJBtWyEQjTzhhBP8eyvAm07aF/MhhRAigHUyOhaDdZfoX1WICkUEIkIxlw7OmaC5TseOHSu6UjPiKNzchnmNd955p63vRB/PPvtsZ7vttkubtSGEEKK0WMUz6qvWhUTUWhB4w4cPd4YMGWINDRA+CEe83ohGavOImGFAUBtDw5qZM2eaAUT6E95yvMrU52E88HdJjsDIFaKdI0aMcC655JIKo4rRINddd51FBgsxcDjNaHPfuHFj21fA/LB+/fo5559/vowmIUQFdJLu2bOnc99999l9HFiIxMmTJ9u6UShkbFAjGHSqZp1mDa9KIy3WNkoIbrzxRueuu+6y+2wrddnUnL/44osmUJs3b+5cdNFFzu67766UUyGEKBMkFEWVoOHCe++9Z3WGjz76qBkGGDVEBPkfAcQNDzmHGiKMn2nK0KZNGzOGmOFFOhXPLxUYSj1x4kSLeOJtJ/rJ+IqqtKVnX82ZM8dqOonC0kH2jDPOsEiBEEIEBBFFInWsRayRN9xwg2U6VMWpxHqGc+rtt9+2dFEifbx2VTM4WNspH+D1EYtB2mxQg03nZxyCiNxSWueFEEJkR0JRVBkOIW5EDZ988kkbpowhQvoRaUd4j6n9I80So4F5jNw23njjCiFZigTiFgLRW1V4PV4XeD0ZTUKIdLBWILZo8rXBBhvYOlrVNYjXpEM12SBkc1AbHef6G6xvOAz//e9/W4YJDW/iWj+FEEIUFwlFIYQQQgghhBApKJwhhBBCCCGEECIFCUUhhBBCCCGEEClIKAohhBBCCCGESEFCUQghhBBCCCFEChKKQgghhBBCCCFSkFAUQgghhBBCCJGChKIQQgghhBBCiBQkFIUQQgghhBBCpCChKIQQQgghhBAiBQlFIYQQQgghhBApSCgKIYQQQgghhEhBQlEIIYQQQgghRAoSikIIIYQQQgghUpBQFEIIIYQQQgiRgoSiEEIIIYQQQogUJBSFEEIIIYQQQqQgoSiEEEIIIYQQIgUJRSGEEEIIIYQQKUgoCiGEEEIIIYRIQUJRCCGEEEIIIUQKEopCCCGEEEIIIVKQUBRCCCGEEEIIkYKEohBCCCGEEEKIFCQUhRBCCCGEEEKkIKEohBBCCCGEECIFCUUhhBBCCCGEEClIKAohhBBCCCGESEFCUQghhBBCCCFEChKKQgghhBBCCCFSkFAUQgghhBBCCJGChKIQQgghhBBCiBQkFIUQQgghhBBCpCChKIQQQgghhBAiBQlFIYQQQgghhBApSCgKIYQQQgghhEhBQlEIIYQQQgghRAoSikIIIYQQQgghUpBQFEIIIYQQQgiRgoSiEEIIIYQQQogUJBSFEEIIIYQQQqQgoSiEEEIIIYQQIgUJRSGEEEIIIYQQKUgoCiGEEEIIIYRIQUJRCCGEEEIIIUQKEopCCCGEEEIIIVKQUBRCCCGEEEIIkYKEohBCCCGEEEKIFCQUhSgzvvzyS+fGG290Wrdu7YwdO9Z/VIhUfvjhB2fo0KHOoYce6jz22GPO//73P/83QgghhBCVI6EoRBnx5ptvOldeeaUzbNgwZ7XVVnP22Wcf/zdCpLLWWms52267rfPTTz85AwYMcK655hrnt99+838rhBBCCJGdVS/38H8ueX788Ufnn//8p/PNN9/Yz//v//0/5//+7/+cVVdd1X+GEDWXefPmObfccoszdepUZ/fdd3f69Onj1K9fX8e/SMtf/vIXZ+ONN3b+8Y9/2LGzcOFCi0Y3adLE+etf/+o/SwghhBAiPau4Hv7PJcUff/zhfPbZZ86CBQucN954w37+/vvv7fH//ve/ziqrrGLGztprr+3UrVvX2XnnnZ0999zTDOi//e1v/qsIUTOYP3++c9tttzkzZsxwGjVq5Jx33nlO06ZNTQQIkQmWd8ThI488YmmoOBWOP/5459JLL7WII+uoEEIIIUQ6Sk4o/vzzz5ZeN23aNOfVV191lixZ4nz99dfOr7/+akbxmmuuacYO9//1r3+ZcFx99dWdjTbaqEIwHnLIIc5hhx1mj8sQEuXOW2+9ZammU6ZMcXbYYQfn7LPPdtq0aWOGfnXCuYmjhpvOs9KF2kQcbQ888IBz0003OWussYbTs2dP55xzznHWXXdd/1lCCCGEEKmUjFDEmFm8eLEJxKefftqMYzZtt912c3baaSdn8803d9ZZZx0Ti6RUIRARlXjL33vvPROX/D2/32WXXZyDDjrI6dixo9OgQQOr5SoGS5cudd555x1Lj0XMciO6yfb+/e9/959VOXxuoqb/+c9/bL/wWfmfNNs99tjD2WKLLZRuWEv49NNPTSSOHz/ejv8zzjjDOeGEE5w6der4z6gePv74Y+fuu++2bWrXrp2z4447SiyWMKwnH330kaUu871tttlmzkUXXeQce+yxznrrrec/SwghhBDiT0pCKFJrSPTw4Ycfdp566imLFh5wwAHWqAOhSBSFiCFCKQybTmc/BOLrr7/uzJo1y5k9e7aJR6ItdIU88cQTnQMPPLAonvPRo0ebQc/7Iw7ZXtJjCxWK3Ng3gVDktXr37u0cfvjhFsURNRuakCASMex/+eUX57TTTrPbdttt5z+jevj888+d4cOH2/HOMX7yySfbbfvtt5dYLGFYR95++21LW37++eedXXfd1Rk0aJDTrFmzao9OC1FMuJ6SkYQjV5lHQgiRmWpvZoMQeu2118wYRiTSfAFxd+qpp5rQ23rrrc2IQWxFYXEngki0kSgi0UMWflLivv32W4tKkraKx3yTTTaxC0KSPPvss1ZT+d1331U03kE0ImTff/99+z/bDY8/Rjjbzg0RzMWMToXc2Af777+/Ced8hKcoPzgvGGlAqiDHECMOunfvbsd5dRk1GFc0kuJcHTlypPPVV1/ZMUokHcG45ZZbKjpVwpCFQASY7+iFF16wqDBZGawnRKijjjghaiKsrVynaQrGGsb5IMerEEKkp9qFImmjt99+u0UDEXpnnXWWc9JJJzmbbrppXgYxRg7GDg1t4IMPPrCIDMYQYpHXQ1AmKbBIccVY5nM0bNjQoqF0peS9MdIwstPBtrNtNOIhitq4cWP7HPy89957231+RiyQUkt0VR7QmguR5EWLFjn9+/c3B8JWW23lnH/++datsroaNWFccR499NBDzg033GBOEI5ZnBc8jlgk4r3NNtvI6Cph+I5wvvF9vfvuu3aj7pto8Prrr691RdRoyFai+y9zaO+//35n2bJlVtpSr149/xlCCCHCVGvqKV1Mr776aufxxx83cUVzhRYtWlTZWPn999+dwYMHO3feeacZtHxEmn+QclUdxjZRQboOnn766f4jqXCROu6440wgU+slz37thagdEcQLLrjAmTBhggmxCy+80FJOcUJUB4hEnBykVVPXRnQbQUj3TGoon3vuOTO4EBtEPTt37mzODFGacIyRuUCtK9kcZGzgL+Q+YlGImgbONxxaOOBwdL300kvOv//9b8vQYU3DPhBCCLEy1RZRxFjBEMarR+pHUHsXh0cboUXTFwxYjG4uEkQWST2lK+oGG2zgP7M4IFQRxURjohBppL6rV69eVnuWLsVW1B5IWX7iiSeca6+91o5b6siILJIeWB3RHs7T5cuXO5MnT7btwCNPMyUGuHft2tVp3ry51b7RVRPRyI10cM4zpUeXJhxH1Gyz1rz88suWfkcKKuKfm9YgURNg7WK9ohSEzIx7773XHCJE0VmzgLWMHgasr0IIIVam2iwCFm9qnfBs0zWRFEu6fMYV4MQQQnySHgcY3RMnTjQjnPcpJkRgSIVNBx580lMZ7SFqNxyj1KnSYAQjBycCtbpEEqvDeOdcJCLPOdO3b19rqEMNMZ0ziYBz7FL7y+B/HB2kNH744Yf2+7Fjx1YYY6I0ISIcCHqa21CzheAXolxgnSTjgbWT6zrZRKxTlJ2QXj19+nRzcLVs2dIZMmSI1f7zN0IIIXKj2oTiuHHjLMrHoj1q1ChLC3300UetOUZcEKHcdtttKyIbpMfNnDnTvOjFBK8mKV7pQCRiYKs2SHB80kmUqByQytmqVatqSwfE2EIkkppFmhbnErMcOa/CjaGoSezRo4cNcWebEbvXXXedpaqK0oXvEMFPVAWnAI40GorJkBblAAIxqLWlazpjte655x7nkksucdq2bWs1/x06dDD7gqwIIYQQ+VMtQhHvH6KQuicMUKJtkyZNMkOTtvtxRRVJQcWTSDOZAArZn3nmmdjeIxfwcPK+6SDlJYh6itoL0TcMnjFjxth9HAdExKurcREikXOUWl/SEmmmRJSQBk00RIlCuukxxxxjKbM0XyJTYODAgVabi0EnSpP27dtbejONuEjTp6nYK6+84v9WiNKFNH2ykRjvcsQRR1gJB06tESNGOHPnzrVyD+pvcWwRTcQOUFq1EELkR7Wsmnj/SHHCOEawIRxJz8S4ZIwE4jEu6BJKulwAnkXen8H4xYB0GAQxNRJREADUJUooCqLrROA4PnFw0NyJ8TB0pCw2iERmmjLDEWMLZwudiRnNkU4kAsfyGmusYTWLiEuMM85nnD9PPvmknd+i9GBcBscZDbWIJL744ouWrqe0YVHqBKnxrJmUsgRzEVmnaMx0/fXXWwbEHXfc4XTs2NGcIcrcEUKI/Ci6UGRxJw0TMRiN6uHtI02UBT0u6CJK8xrqvYDoBnVU8+fPt/tJg9HNPEdqJ6IQLSLtS8OuazccGwxCnzZtmhnrnAPMEt1www2L7gEn+k0U8K677jIjjBQuIoPBjNJsYIQhbPfbbz+rC+IzfPLJJ5YKRsp3nA4gEQ98Z4h7HFaskdRwMWOxWOujEIWCY+rKK6+0ma44tqixpUEe3c5xUHXq1MnZd999bbwQDhGJRCGEyJ9qiSiSMpKuDgZjhfmBcY6H4GJCM5CwGGMgP3WKRDKTBi9npvpE6rloBhKIWFE7oSZx9uzZ1n0SYwaj5uijj66WmYlE2okocdxSv0btcKZ000xQ+8Z5TIMbmvHgmKHjL15/UXoEM1zJvMCRxggBjoFirI9CFArrI2MtqEM88sgjbc4w4684lrElcMRWxxoqhBA1iWoRihiR4SgfYKTQuOOQQw7xH4kHDG8MofAQcGquSPWjED5pMLhff/11/14qdBysU6eOf0/URjDGiThTN4vzhFo/OgCTClgdDgSORyJMzDRldiMisZDtICuAvz377LOt1pL0VUXOSxMcc0SBcVwBqXzUKVIGIESpEjjVuOGcksNVCCHip+hCkcV9r732cnr27GlpbRSi01DhrLPOsoHzGMhxw5zGcDorBjnRDZqHJAkiAKMrk8EloSiIImKU0ykUcGgcddRReUXw4oToO01pOBfpyFuVdC0+AymrnNvUCDGyRpQmRGH4vnFUsG5RUz1jxgz/t0IIIYSojVRLRBFjmJQ05q9x69evn3PGGWdYpDEJryDpp9EUFMZwkBKXJNQnErmkIUgU9gGiWMZz7QZnxYIFC6zpEZEdOvMR0atOqI0k4h8HCE3qcBEgVRGdIllwWNEEJGisRQfU5557zupUhRBCCFE7qRahCAgl0p3ojkjBOcZpUmCkRuseST+lK2OSELUkrTAd1FCQbltdkSNR/TBf880333TeeOMNu49Dg1EFRPWEKDZEFIP0U5oa4UjLVF8thBBCiJpPtQnFYpJuZiKGEGl/SULaaSahSP1WdQ1SF6UBTZU4Pug0CaRIM4NQiOoA59U222xT0WmX9evZZ5+1n4UQQghR+6gVQpG2/KT2hWGuW5JpVdRBIgDee+89/5FUiBwhDETtBZEYrpMlDZn6XSGqg80228zS4YPGX6yPzFXUWBMhhBCidlIrhCLRw+gAaRo2kH6aLtoYB7wnXVXTRS2DgeqqT6y94EhgFEVQJ8sxQTt36sSEqA6IJG699dbOtttua/dZM4l6K/1UCCGEqJ2UvFBEyHHDsA7fgsdzAY94VCjyt8wMi0Ya44JmEESL0m0j6V00LdGMp9oLx8cHH3xQMVuQNGREIvW0QlQXCMUddtjBv7eilpsB/EIIIYSofZSsUETYMYh82rRpzo033ugMHDjQueCCC5yLLrrIGTJkiPPwww/b2IlchB4dTkk1TUeuYjNfiCRmGouxxx57OGuuuaZ/T9RGcCJ88cUX/r0VnUYbNmzo3xOieqhbt27KiCKcbPPmzfPvCSGEEKI2UVJCEe81RsmAAQOc1q1b2/B9hn5fc801zh133OGMGjXKueeee5wbbrjBOf/8850jjzzS6dChgz3OYPtMEL1hVEUYWvUziiOprqO8ZzahqOHjtRuOjWXLlvn3HBsaHaT8FQucJEQ0OeeefvppZ+7cuebgINIu8oP1h+61NH+ZM2eORYvJfCg3GItCrWKQ7YCDjc/1448/JuZUE0IIIURpsop38a/2qz/d9WbOnOlMnjzZjJJvvvnGIoqkaB5wwAHW+IVZbEThqKNhrAC1My+//LKzcOFCE4GM2mCwNyIsDB5xhn1Pnz49xXCjJox5dU899ZT/SHxQn3jXXXc5/fv3XynlFYGKUd6kSRNntdVW8x8VtQlOufPOO8+57777zACHli1bOiNHjrSITtL8/vvvVh/5wAMP2PmDyEEc4jhBsO6zzz7mgOH/uBwpzBNlXiSfndfdaqutVhpZU44g+Fm3Zs2aZTXJZDhwjpNCzPp10kknOa1atYrtXEfIv/rqq9YoixRRuuTGPZ9y3LhxTt++fSvGByEeJ0yYYGtsTfjORO2DWcY0Cvvss89SHGH777+/ZSm1adPGf0QIIUSYVS/38H8uOgg+hNrtt99uqaQYrSzoCENEX7du3ZwWLVrYIP6ddtrJ6meYMceN6AvPI10P4+X5558345fnBEOjAWNn/PjxdoEIgyHH32IQxw0ils8VTdnCoGPbevXqZY1L4jbwRHmAkc/xvmjRIhNORG84xhEViLUkIYI4adIk59prrzVHC4INAdCoUSNzuNCJldtHH31kIhExUpVtwih76aWXHJaZiRMn2nnKuUjUKnyelhs4nUiLv+2225wZM2bYvuI75IbYfuWVV2w9wvGFs4j9uPrqq/t/XRgcLzig7r33Xmf27NnO66+/binLwezDuECM0sCGdQxYX5mxiBNOQlGUI0TGR4wYYU6xsG8cB/SBBx6YUpcrhBDiT6ot9ZRuj8OGDXOGDh3qPPbYY87bb79thuOZZ57pXHbZZc6JJ55o0UQEIWMkMMQCYYWxgjGGgURU8PTTT3c6derkLF682Lnpppucr7/+uuJi8Mknn6yUdgoIxaSG/GNgEUGJwvbvvvvu1n4+mFUmah8IJQRbEOHmeODYT7q5EZH7J554whwzpHkT1cSbfsYZZ1iK94UXXmgNdYjoI0RGjx5taZRVAQPt1ltvtYh+IEKffPLJjGnZ5QBrC46g4cOHm6A+/PDDbT/iAGIt6tGjh3P00UdbNgPi7s4773SeeeaZrOnxlcEaRtbF2LFjLaJIjSsCnNcNG75xQGMlnHEBdIjmcyglWQghhKhdFF2tYNQQVaDOEO84UTcMKlKoEIkYWgcffHDOw+gRkAyKPv7448044/UeeuihiiY31AqlE4p49zfZZBP/XrwgFDEgoyAU9913X6Wc1nJo0kSDpQDGpCSdcopIIT2SdFOOwz59+jhdunSx844USd7/oIMOMufL3//+d0ufRoiQVpnu/MkFzkEEIRG3cDMpBEc51u8FzJ8/36ITCG/WHNYsMh923HFHi1AQfcOBFYBT7MEHH0xpXpQvOMH4PkhvDWAtRcTFDY658PHIexAZlVAUQgghahdFFYoYi3jiiSQi5hBUGK1EDolqHHfccdZxL4gc5grPJ5WNNFLmE9LwBqMMwwbPezpPPvWOGHVxQ5oZ6a7pjEK2k/osCcXaDRHF8DFJRHHjjTf278UP5wGGPumuiBuEDQJnjTXWSDnXiGjiQAnqEhm4TnojzpZC4HynQQ6fNSwMESHUvZUjRIKpJX3vvfecI444wtYssh7CGQJkPEQdXc8995w5j6gPLQTWsej3gKAnJT/f9bIyOB7r1Knj31shFMmQ4PuMO3ophBBCiNKlaEKRVDc6Al511VWW/sZ9jCvqXnr27GkdTKuSCkodFcLvhBNOsIgNKXMYqHjz00VE6DpKfVbckLaHAObzheGz4qnfeeedNT+xloMTIWhiAwi2XCPohUB3VRw0pHcjbnCopKs1Q8whZIIoFaIAYcTfFQKvRYQ/Gj0kAyCpaH6SsD+mTp1qzajIDEBsh1M0A/i8ZEmE4ftGbIW/91xB6LOmBTWDAaTPUxMZNzgLWKsCAcrnZruprVVUUQghhKg9FEUoYjS9+OKLzuDBg+3/wBAleohIPPTQQ82LXVWIEpI+R3SROig88IypiHrxMYB4PxrfxA3GYNAtMAyGOfVfGGCqT6y9YHTjTAgLicAwTwLONQam46RBoOFIyTTDk3RYmkmFzxd+JrKYL3xO0ldpmBMVijSO2HTTTf175QGfgdpn6jsRaNREE0lMF80j8hZtngXsx3AKbq7g8GJNCX8POMZwLuB4ihsyHqgBDzu0+D4Rq7nMrRVCCCFEzSBxxYJhRPOF66+/3mpsAjBWu3btaiIxrmgKRhuvSxczOqhSC5kumogBRGpVEl0XaZ4T9fwD70l3yaS7WorShtRkxFhYMCA8qFNMAsQNzhkig5wXu+22m/+blaGeEBGLKAjAqVFIp0sEKk4a0i3Dr4cIQWAl1UgqKRDMU6ZMsU6mbdu2NYGWKYWcbALWvCjsx0KcROxDahPDgpsoNNuQxDxW1lGcF9FjErEqoSiEEELUHhIVikGNIE1r6M4XpmnTppYCF7dYQ5AxLwmDN1OnQeqjiGYWYgBnA0OOiGI6oUjdl4SiIH2PSFtYPCEUieAkAdFEnCaIChqupIuABTASgTTVMAiSQhrtIJZ4vWiqIo1zSDstp/RrvitSL+lyyppBymm4hi8MzyXyR8ObMAhEMh3Yn/lC+nz0eyEjIjozNk4QweE6Uj4XYzOUeiqEEELUHhIVikQz8MLTRCMMTRh69+6dtr6nqmDIkWKHQUy6Xbi7ZAAzDOOePQa8FyIx3XtieNHIJm5xWl1gOGI0EmEgSha+8RgRpWjKYSZ4Hs+vDUYo0UT2UZh00Zs44H0Yck8kiEgisxIzwf6n8UzYycE5ROSPeaP5glAk7TQKzaY4/8oJoolvvvmmNfahIzMp65mELinFRGaJPIYhtZg1pxCHQCahyKidpGC9imZ64HzjOBFCCCFE7SAxoYhYIKJHNDEsADA+jz32WBuWnyl1qyrguQ+G2fO+4chNAPVRGKxxQyfEqEEHCGOMxJoyZB9hRzocoxOYW8kMOUabUG/KbD6GuTMbkxrRXMQir/X444/b+IaaDpGpcPoekWaEYhIRNsQNooWmTYi9bNFsRBDfA9HOAMQr50khtbwIRYbORylHoUhWwqRJk+xnmm5lS/ck3RYHVZRDDjnEIqn5nv98H3wvRKIDeI2khSLHZbiWlXUUoaiIohBCCFF7WMUzABLpd05dFLMSERNh4wIDhFbxpE0lYRzj8cawohtgtPMgENFjfhwCp5A0sGwwo47RH4wiCEM0gXpM9ke5Qq0ndVc0CULQIYiD6CHfbyAIMWIRJHzP7F8E8lFHHWVjBIhORQ1laudI6Xv00UedY445xhkwYID/mz/heCHtrTqjGYg55uRVtXkI+w9hHRwjpJ0isDlu4ub+++93brzxRhOJvGe2bb/uuuucO+64I6URE+co8xaZUZoPfE+kXlJ/HK7FxIlDdgFiKwknUVKQTt6+fXtbVxDUpM9mEt0cq926dbPnhmHuIqn2+TYtYtB93759rdNqACKROknWm0JqHnOBc/2KK66w9Rs4b1u2bGmjh0ihFaKcIJODkhSaTIXtkf3339/WxjZt2viPCCGECJOIUMQDf+utt5rxywIdgHhgsSYdlbSmfL3ruYBwwbgiRSydUGSExtlnn20GcNzvf/HFF9uMtbD3H6jxGjp0aN4GdylA+jARkgkTJth+5fsMWvwT0SClEQHCHEAiEAhGnkOHRGrUGK2AoMS4ZlYmBm4g0Hkug8gRMwhBBPw111xjvwvTvXt3czz8+uuv/iPFB5GL2OW4qQqPPPKIGeBBaiL7jP0yZMgQux8nGEDjxo1zTj31VOeCCy7IKM5IrUSk8z0Hwo5zg8doQpXvGBlq9MaPH2+fK7y8cAyMGjXK5qYmce4nAesJkVFEEts9ZsyYjGnCfO6xY8daVD0cNUZYIbhI/c23RhlhjYhHoAbwfbBv+/Xr5z8SP5zrV155pTlwgO+LjtLMv02iCZgQSSKhKIQQhZGIOzroOBqt1SMFkwWZ6ExShiLiA6GWSf/SxIa017jfH/GEOAoL4wA+LxepcoKUN2bvIX4xGKdPn24dXYmAde7c2Qz+m2++2YTTSSedZN8rEaTDDjvMoi8MdefveA4CGSHI/f79+1s6JFEn6ucwoEnZ5XvL9J3R+AjR0q5dO3sPxozw/XHRD9+IhrH/qQVFkPK+bFu624knnmgp0DyPJi8YDNTMsh1sa/S1iSoVOng+DKI5bKgQ4caBkgR77723fQ84TbJF8BD0HLvhsRg0a2E/FxI94jtAaES/T847ImrlIhIBYYcT5OSTTzZxxrmcCeZj0tk5LBKhefPm9hr5ikTAoUDKZxicbOzLJGFbWa/D4ERIwK8ohBBCiBIldqGIwKDTIqlLUaMCkYGgSLLjIUY4aZEY/FFI02KGWxJG1uLFi9OmR2JsEcXkVi4guEiVo9aQSCKda/nuEF5EiYmYkE6KICO1FFFBOhzPwZAm4kLUgWgjwhEDm0ghYxEQhvyM8CQ6wbESTk9MR6tWrSyqSCSY9x44cKDdjzYkwrgl8nPuuec655xzjqV0IpTS3Xr06GHbxfN4TdL7ELJEwvkfAYlxH4CISld/mi+IiPB5wTYn1eCIcRiI4mwjMWDGjBnO8uXLU7aLfUvqaSEiNhCKUYioJdG0J0lYM6hp5jghopZpf7DvcChEu50iilnzCvncnBc4J8LzE4FupIj4JOFzR9dptifduiqEEEKImknsQpFoEWlS1J6Fwegg9QyhllRdDWCII2zSGTQ0kyBNkv/jhhRLjO0oNL6ggUfUO580dLCkW2JlIixKMM6EG69BGvFOO+1kogsBRlSvfv36FqHKJTLE904UF+GFGCN6Rx0XqZakIEejJemg+QkNVehmy3sjUEkD5HXDcFwhRnAEIHT4G9L0Mt04Hnke3w9/hxBAAFNPyraedtppFU2PiATiCAhHAwsBR0L42ExSKLLfcFBka75COu/s2bNTxsiwTZwn2bqkZoL9w3nAOhCGYwXBmtQYkCThWKc+lW3PdMwj5jh3wjWeHI8cYwhunCj5gvDEORE+h0nb5jtNYg0LwzEQFYocK4ooCiGEELWH2BUbHnWMxHTRRNIvcxUYhYJQRKimM+gRGXjikzDMSRGL1iYCxmUhBnehsN8xLmlMMm3atLSpsJnge6PGkrRSfmYfIpSoceNGg6BC9x2RmCZNmlhkhv8R1hjChRqeHE9RAcRxxeNVPb6I2CBE+cxEUTHMEXikFwf1mXGBmEjScZINBOtbb71l0fBw2ikihHOFSFq+sH9IUY5GwYg6I9yzpW6WM3xmUnjD+5FzBccIgh3hlS90rY2ev9TK4mxLMisDOIeixyXngISiEEIIUXuI1ULF40zKWbqB83jCqQNLEowYGtggQqIRRSJ6ePYxgOOGz02KWLr5iaScFVMoIu5oSkJ9YbpU2EwgLuloSDootVbsS6IhJ5xwgqUvxjXzkn1BdBKnQVVEA0ZsIcZ3PiBsGK5O6ivvR1SR/VQVYxnxEDbAOU6rGqUsFN576tSpJu7Cn4loIudJIU4BnCU4TaL7iGgi9YnVJYqThP1I9B6hGAbnSFU6vNIZNyq4SYcmwp80fKbo2sF3l6STTwghhBClRaxWGwKRKFG02yjGBTVspAwmCd58mo7QqTNqqCJ0EClJtHYn3SyaIgYYikRSorV0ScI+oOMkhh7NTKJDs6Own6grpVsj4xTYd0AkFCO3Y8eOBUWWsrHffvvZqABSR0vd8CTd9YgjjrCoEIYzIroqIBrCYonXjDY/KQZ87zg4qBUNz05k2xCKpFoWQiAUo+AYiHscTalA2i4NmYgqBuDE4JhhzSukzpPjgmhvOCUYiPYWSyhGj0s+h4SiEEIIUXuIVShmSr8kTQqxQTOTJGHW35w5c1YSiRg3pBKSRpmEoUOqa7poImILoREeXJ0kGJeIdUZJUIOHQVmZcY4xSKdGRlQEdaXso3333deEItsfN7w+nVFptoIDoZQJamvZH+yrOIRiOBLKd8at2BDFZNZfML4kgGMWkVjICATEBY6GdPWJpC3XVKFINJG1L7wf+Z5xiOCoKSSKSu0unWjDIp6sCNZRIt1Jk04oFrvOWgghhBDVS6xCEcMmnWBCKBGlSDLtDHHIe5N2GQXjl7q4pCJ7pNum+9zF6E4YhgjRxIkTnZ9//tlp3bp1pdFEjEGEPXP9MPC5D9T+0XwmyQgw+4axAcWIjlSVIDKEoAvScgsFYzsqFKsjokjkmSY2YXEDpJzi0Ckk7RRRs3TpUouuh6FulPOgptYnUuOJWAzDZ6UDb6FrHl2joynBZCfgtCg0lTUfcCREj8toNFwIIYQQNZtYr/oY0UT1oiAUg+6RSYHBTU0eMxyjNGvWzGnYsGFBnQcrA3GFUIymiAGNJ5L+3AEYlBiWDHTnZ8ZSVNaSn+/qySeftChsOKpFpI96zqQjodSsIiCSrjXMBvuK7zCb+GM/ImgxnpOIKFaXUKT7bLQ+ko6xhUasvvzySxNM4X3JZ63p9Ymku4fTToFz55BDDik4gwGhiMMnDFHeJCL86eBzRZ0InAcSikIIIUTtIdarPqmL4VSpACJURBSThPdmyH+46yAQGWHkQVKRq2A4O9G8KAjFJJrnpIO6UFJIaYCBKCZ6WlmqGGMMbr/9dv/enyCsi2GQkkbHttatW9d/pLgE4poaU/ZfEFGNQnSIzqc4GtI1asoHXqMUhCL1tMywjApFOmoWknYKRBNp6hSGz4pDIOkundUF4phMCo6jAM47aqI5ZgoVii+//PJKTjfOk2IJRY6L6FqK2K9Op44QQgghikusQhGRGI5MBQSpp0mCkfr444/79/6EyBoRjaTqo1555ZWVmvcARhVpYqS9FgNE35gxY8zjT/1fZZ8XwxZhSY1aGEQCUT5SQ4sBaY7sp+qA4/Xee++1COrMmTPTiv0AIoE0QuI4yxZ9rAzSgcOiCXGKaEvnYEkKPiffO86V8GchxRYxUmgkmZTTqFDkeKRWr6bWt/F5w7MTgf1XlU7HQXOc8PHIfuS7ic4OTQpEYjhLAsGriKIQQghRu4j1qk+qUjRCgQeaiCLRtaTA4F2wYMFKogex1KVLF/PCF+rZrwxSXaMpYkAbe6IzxTCsEKqkvz7zzDNmkLdp06bSejBqExmhERX2iEQEQ7EMQpruEHmpDhBpRIQR2RjG2QQgwp8xGaQSV0UoIsCjogmRmK7GNSkQIMzoi0ZQOV757gs5VxC7iGhuYRDFdN+tqRFFookcQ2GqIhT5ToK00/BxRn0iUcpiNQTi+wyaWwXQcbWQ2lUhhBBClCexqgHS6qKGBEYxUZQkDQxqhJgHFx1PceyxxybebZEUsXQRRYyqQkcM5AvG6n333Wefn6YrROgqSxHDCCT1MApCCFFULIiSIBRpvV/IGIGqgFGOQIsKpnQg/Hv06OFcdtllVUq/I8KMiA8LcYRidF5ekiCKacASheMVoVgIRBM5DsN1bXyfgfisqSmLpJ5GBVVVhCLikEh/dC3DocKtWA4c3j887B/nAeeqhKIQQghRe4jV6iA1KdqRD/GYZBojKZSMp5g3b57/yAqjBu97586dLV0wCeMKgw4DkeYd0VoeoP4OIzlpiAzOmjXLGtKwr4MB39miQggT6iqj0R+gkQkR4GLBe5GaePzxx5uoLyZEU4lC5yIUiYhhqJNCXZXoNOKJ6Ho44oujIWyUJw3HK6IuCt99ZQ2QMsHxFG3ogpOIaGKxHQDFhPMvKqgQioWOAuJYTCcU+W44/ooBaxtR52iDrsChI4QQQojaQawKCnEWrcnDA11ZGmRVYH7ZtGnTKiIyGGoYqGeeeaZ59aPCNS4w6IKxGFGhgfjBqCJdLEkw5ubPn+889NBDJpgx8kmPrCx6w3OJwka7GgI1isVKbwNEPDMKu3fvboKxWCCWg3TlaLp00uBECNcBFjuiiECORsGA7SrUSZBOKHLuNW7cuGhRsGLDcUOKaFjU4VDAMRb+fnMFgcbrsa6Ez03WNIQi62sxwJFAI53wNvAdsqYpoiiEEELUHmK14OgsGo0eYvwkZYhTG0QTknAKJSIRsXTCCSckGhnjMxHFTCe2MLhJ/0yyLgtxSofTsWPHWkMdool0EKUeszLDHGM0XfdOBCZpwtEauqQhNZFjh/TOJOE7QyS/++671vjotttuM6HPMVpMSOFbe+21/XsrIorFFIp83nSdVkk55jjKF4RFNEKNuOG1iCjWVKHIOcgxFT5+glT7QqLOCPj333/fopThNZPvBZFYrJRwjkccCcHn4vsjCs6tpqYQCyGEEGJlYrXgmMEWrWMh6kWzkLjBi49ApDYRwwoQZtTY9e7d2yJjSRo1GHJE89IJRTzvSXYnxEAlkopInD59uhn9QTQxF48/30m6iBL7jyhQuRr2fCek7T3wwAPOPffck3IbMWKEM3z4cOfWW291brzxRuemm26yZj7VAcdHWCgiXr/++mv/XvLw/UYj7cFjhUSMqNNDKIbHOfA6OEw4DwoRTVF4D1KsH3zwQft+mf/50Ucf+b+tHthnpGKG1xk+d6EZFAhuRvxEG0wRTWQ9K+S7KQScJ+zvAN6X+lWOjzi+SyGEEEKUB7EqAgya6GgFRAlGR7pB/IWCUHrrrbcsKkQzGcBgwyjt1q2b07Rp00RFIp72dCliAUkKRUQh6ZI0r3n00UctEsVnJc2V+Ye5gCFKumOUchaJgFBEOF9zzTXO5ZdfnnK79NJLnf79+9vPd999t0VhoynDxYJoczg6hGHOIP9iRTYx/KOR/0IFANtMjXB0LAbpy4yliSM6zfrBuX7llVc6F154oXPBBRdYUyHOARwm1QXnHSmmUdFdyL7kWOQ4ePrpp1cSisxELXS2ZSFQc8nxGMDxggMuyTVViKQp1vpaE6iua6MQtRXWp1Jdo2JVBRgSBx10kBkVgeDA6Pnmm29M2MUF0YvRo0fbOAiEGu9LJJOGKKeeemriXm/EGoYxUaDogophjFBMwrCjuQTC+JZbbrHISpDqh7HKPs+1eQ7bHE5tC2A/lnPEgGOufv36FlllREhwa926dcX/hx56qKVDkspXXaIYh0o4jQ8nCl1D03XPTQIix9F6N44HnAf5Dv/nHCDSRzpvGI7JOJoTcaySNUA0mDRz3o9oOOfBnXfe6dx+++0Wka0u+B7DddnsP5xI+cJ3/+KLL9otLBQ5HxGKNOUqFumEIvXeEoqinMFWiBpinGvproW1EfYN6xCOaJrjkeEgcS1E8nCe0YmevhnY9aW2JsVuKdOQ5IADDrA6nQBSQ4n0VPXDszMxFEeOHOlMmDDBXhfjBSOqXbt2zrnnnluU+jqipBjH6bxupNshFAup9coE74fhRrrdRRddZM1rEN8B1PY1b948Z5HHPktXP8mFtJw9iRi0HTp0sLRShEVwQ1AwWH/cuHF23JC6ePbZZxfcmbKqUDuLIyGooWWfE01KVzeaBET7GKMSPV5IEU8Xac4Egoio9owZM1aqsYxLKPIeCMVoxBIQjBMnTnTmzp1bbQYNIo7zPYBziP2Yj+AmjZ6o7HXXXWfnehiilWQnFDq2pBD4LsNCkW2g4ZSEoihHWBs4H3G0RtcJ1rtoh+HaCPsFhxvlPGTe9OzZM+3+EkLED9oI+xS7lDIpmk3m67RPktiFIsYv0ZtDDjnEDHdA1GDQff7553a/EDCm8XTffPPNzqhRo8yoDkTiSSedZKmF0Y6rScB2YKBS35ZOVBGpqWo0kcUZgxMjGaPzueeec84//3znrLPOMk9f2JgkKoY4zTXtFBCJ6Rr98Lo13buKI4ERF3TFJUW1utr903SI7y2Ai3S0a2hSIOL2339/q2sNi8X33nuvot63MjCuiOiT/hmNJnJeklpLlLuqEGnlfMu0aLLfxowZU20GDXXZRPIDEYUXnlTZXNc6PhfZFjfccIPz2muv+Y/+CWnKHCfFOk45/xGKNAoDPhdpypwzEoqi3GBd4JxkHBCiMLpOcH3F+cx6VltFEZ+brBYcfuedd56tQwhFzvtyLkURolxAK2HDk21GltQll1xizvFSsccTWQVI7TvqqKMqBs7zYQmr9u3bN236R2XwfMQm9Ul33XWXebsxcBFkZ5xxhu3UcASzqvB+3BCC4Rufg7AwzVFIEUsnFBFgNLOI/m2uN1JhEMQ0tbj++ustUojwHj9+vD0eBWOfutB8ZqyxfWGREoDRSupJtEaqJkJUjVpWDP3qMIAxvEmXDsB7W6zmLFz8iUKffvrpKZHl2bNn2zZUdn5ynE6aNMmi23TejUYmOQf4fHGMxSGale37wbmBF7y6FlREIhkU4fMPYTt58uRK9yPbvHDhQmfgwIH2/HRGGanUxYwmYjizxrFOA9/hXnvtVeH0E6KUyHStDm6sDwgf1qp05yMOkccee8yyFhCS6V4juFV2PpcrfG7WH+wzbAxGVSEY5RgSonhgR6Bn9thjD2fKlCmWIZlu3nV1sIq3+CWy+uGheuSRR5yrrrrKIiUYkxjnpIgSyUGo5LIQ4eljEbv66qttuH0QTTvwwAMtTHv44Yfb60aN1apAgwyMT6IZvB+RvaAzJe3rEa2Z0lWIpPBFE00hcpMuxTMMBhmvxf7i9YmUYqjxvgg2fp/NCKZ2iIvgscce6z9SOUQMHn74YYtQRiFai8gPd+UsRTCwicIQrg8gWsixddppp9m+rwzEGRdEUnmp+eRYquzvMBg4Fvheq9L8B4O8X79+lhILHDekzZJ2UAz4HEQP27Zta2mPHGecjzSD6tWrlzkforBUYFQMGzbMtpMIPoLwzTfftPMigFRJFrlzzjnHf6RwcF7g3WYtyVT7h7Pk1VdftWh+dRg3nK900+XG/kFU4STjuKKhT7q1iWPoiSeesL9hnSFln/WNzxEGEYnhFk5vTRK6BnNe4ZgCMjYGDRpktd9ClBqUgNCYDAcnaxjnHzfuc53jekp0n8cyOUA5X3GI4Dxj7WIt5j7rG2s8az3nMDYH6fTFyFwqFtgdXPtwSmNznHjiiXa+x+HkE0LkB/YO2Yqcg+gQSj4ITJFZVK0gFJPAM0Td7777zvWMJdcTTohR11tsXc8Qd/fee2/3uuuuc9944w3XW5z8v/gTb5F3Fy1a5HpGlNusWTPXE5XuX//6V/v7DTfc0O3Tp4/78ssvu57haO8TN56x7NatW9ddf/31Xc8IdT3RZNvtXTRcTxjYZ8l04/f/+Mc/XO9i4noXHHuNbDeew3PXWmst11ucKz5nuteO3jyj2D366KNdz1D1tzw3vIPRnTFjhr1f9DU9oeV++eWX/jOLw2uvveZ6J4PrXfT9RypnwYIF7nHHHZey7Z5QdD0R43oXP/9Z2fGMdfeCCy6wv/OESKV/5xkirmeUuNtvv707ZMgQO74LxTNa3CuvvNLdaKONbNv5Lps2bep6AtJ/RvKwDZ7Ic1u2bOmuscYath0ci554dEePHu0uXrzYPuMXX3zhPv/88+7VV1/t7rPPPu4GG2zgtmjRwvUWNNt/nphI+R4432fPnu2/S9WZOXOme/DBB6907nGebb311nbuzJkzx/3999/9vygu7EdPKLsXXXSRrRdsG8dUw4YN3ZtvvtnWOfbjN998Y+vWHXfc4bZr1871hK3rGZ72nOnTp9vnCH8+jokxY8akXSOTYty4cbbdwTbstNNO7kcffeT/VojSgjVphx12SLmWBtdr1gdPBKacU9lunG/8DWsh52L0Gj548GDXE57+O5c/v/32mztixAi3QYMGtqaffPLJttZXN9gDXGdzvY4LUZPALn344YdtXWMdO/zww92vv/7a/X//7//5zyg+iUUUgZcmakPqB5Efoljcp96GcQ50DOR/cuGJCgBNPUjdIrrGz0H0bpNNNrFIF50riaLh/assWlcotOHHU0nUBy9lgruoIPBuEj2jzq1jx47OMccck3dqGKM9iNQwCzJMly5dLNLFAPxiQZ0bDWb4bvv06eM/mp04IopEqJipSLSaSGplEUWeTzMc9hHD+vG+esaE/9v8IX1z6NChlsYMRKFpxOOJMLtfDPCyE8ki9YrPFqSSku7IZ+NcJfoYRNZ5nM/tCTdLtyRqSOoWdUBAhJV0aWZ8cl7HAdEBuoFNmzbNIm6ckzQiYh0gMueJdqtTPOyww4rSzCodeAKpTSRlnOgndcXsLzInPCPTtot1hLWMx1nvqEkgoksKMg15TjnllJS1hs9I4y5SpPlOkoZjgfOB9Y/9SqYG+5RzrFg1kkLkA83K6H9A9JBjFJuANYjrIeccP+cD5x9rGeczcL5yXvA46/7RRx+dtmyj3CBLiTWaeihqpFnPGTlENlS++ywuuM5wHSLLhpRg7L3OnTsXteOzENUNaw3aA3vs4osvtrWoffv2ZiuimYphC0RJVCgGsNgy0gJxQh0U4oRUNYzPYEEPRB9GIAs1iwYGFilw1DySv4t4IQWLdJAkdxYdh/ii2I7qqn3KBp+dxRxDnkWUgydfSHe74447LDU4DKk1jN+g2UkxYP+S9sLFgfQ26iRyIQ6hiAHAcUjqJKl/1LxmE9wYI2wr3SlJD2jSpEmVutuSks32MtcR+C5pskPNbTFhCeDCzDmKaKROkXRKxALnIYIBRw1ClhQI6vIQgaRGkKZKg6VgGeFxhCSCI840UNYKnEeky7JNpEazDjAygzRX0qcYi1JdQhHYB+wzvldqC2jyQ+obxw2LPccKQptOqdwQghxzCEz2F+ddmOOOO84ZMGBALE2BcoHab45HugSzj0nlJTWb/StEKUJaKesC5xfXRG5cH7mx/uRrJ3AOc+xzA65Pwc+cq6yD1bnGxAWNa1hzWLuxsTjPMUar67ORGswajsOPwAL3cUQiFrt27Zq2FEKImgprDmsbjhxKfbD1CaL06NEj1n4suVIUoQi8DSIwMKIwSjCQMPzwsLPQs6hjTOFtJ2IYLMwsGPwsr3Z8IN6JYmCMIooDMMDx0lJLWow6Bd4b4UW0CIOUeqxciEMoAoYANwRiZZ5UxDWvTbdPxCWGflXEEI4I9jURTc4DBBndgvEkxSmy8oELNMKGyD/HCOctThyOC87JsDAmdx7hTLfUAGryEPt0Ik4aMg8wLBDWRGdxJiWVZZAvOCHYPppDsE85xli/OC4RizT8CY43oqRcAJgNGYb6RWbDFuIIKgREN9FZRhmxbTjo+I6LJVSFEMmDc5RrDg0zWNe55tLYjOyu6oBrH+sM13KuJVx3AHsQ+4+sBiKLZGDkK/yFKFfQS2R4kbVF7wDsTexbzgfO22JStBwDTnAMeaKCeP5J46DDDxEJvFmMf+D/3r17W5MaDHJEDGlXtIyVSIwXojFEhlq2bOk/sgIiIogwRFExCBwHRKKqo2AXQRakK2UDwYRDA4HIxQtnRlXFHOcDRnjDhg3tPlEzugOnmxlYLHAOkArJdhFdpuMl4o9zMCwS8XixeOHND2AfEoViRmMxQHxxvLK2cPxU9h0WExwPCGvWO9K5EF2kypIujncw2Fa+c86BcDMgIL2N46Iqqc35wPcZbkrE+/K9s71CiJoB1zAidziFcGBhXx155JHVIhJZv8lgIbJJVg2D/gORCFxzCSbgBGQsGk0Ng5RgIWo62KXYD2SZYW+S6cXUB84TRGQxqTbLCkMKTzmGCCMKdt99d7vRDp70UjzuIlkwrvHUYZSGjWzSg0krTHpR5kJAfQQXC75zOmiWKhj0nKjUzJI2GJfjAkFGmi/CHWOdCCtpraUO4p5jBKEWwPGU76iWqsBiyfeBYGctKSWhmCsIbRwzdB8MgwHHOVEsBxkGGd7LwEHEe1NrWhPS7IQQKyDllJpOzndsLeryq+O6SzYNmRSIRFLdcZZlsjfoVUEWT9CNmWsOtoMQNR2yzI444gjrZcC1mFRxekJQ0lJMys+yErFBhIjaPEZrhKNFeCwYD0KdWpKQ4shoBjybCCYidaUKFytOUmD0QbZaxnzgMxO5CyI3CAbGJrBP4rwY8lqkkyLMSTnmIs1nKvQ9ELOkj+MVBqJ6iETSg4qV/sk+wsBAJJK3X6y0JLzeODeotUbkcZ4U4lRh31EPTeOsMKSV0DQD4V0s+BzUVCK+WQswHknlFULUDHDu0RyLNZM1mswunJTFTNcPrkOseUQJGbNEen74OsR6ToQzvF2s9fPmzXMGDx5sTRFxaAXXHiFqKtg0ZPeQfkqmF8GERx991JrmcR4VCwnFWg6phqT/IlaC6AFGL0KAyCIdJ5OARR4xilAkvM6MqlKNCFFvhih6+umnLXrF9sZVQ8hn5vWI3iA+ESE0fSINMK4LIa9Doxo8yXhlL7/8cst1Z8EpxDvLAkV9C7UlAQg1jI7GjRv7jyQLCybbTpSXFE2MimIIRT473m263jLriGZQpHKRLpzvfsRAonED50AAxwNNkrgVK6sCcYjoZV8C0UTenwuTEKL84RrGOkW5ANd0oolccznXiwVrNtcM+hHQWZk5s+FrHPYHTlg6uXfq1Mmc2GFnWdB8jpp0PgtlGsVOwROi2GAXYp9Tm0iPA2w5oopkABXLWSKhWMtB8FAb2L9/f4siBF48hAq1AUSekkhBJXSOUKHbJlEoarhKFSKfjLDgxMSQjzOiCOx/hGJw0SbNFa8p6TlxwD7mwkqTmfvvv9/Sj1hoLrzwQvtM+V5s8QZzfODlBY4h6hL5HotVZM0+wkOO4cF7F0MkYujgLKCWmm5kGDycIzRj4ljO5/vitYjuPvvssxX7n2OLYd+MrQnGBRUDIgw4J9iXpLpSm0hTJSFE+YMxyTnO2k8WCYKMukRKfoqVhYHII/OC6w6OymAkVADrHuv4RRddVOHIREzSVC+cgo8zjvIMnkO9FtchrgVC1HTo/su5gL2Fsxo7jIZ5xUBCUdjFgloFwts0uAkWZQxhiszx4rHQxwVRGWYnMhuP+U2Fzr/LN4JTCET4SMsjZYcLLgKRGsW4IorA/iZtk3mYvC7vifCg/q6qHiP2EZFhOsrxegE8jmeZTpu5Chz+higeYxzCCxQ1ruTRF2ukCiB+Sb8gIl6MFEk+O8ftFVdcYQI1/L0QGeSxfBZtnA9sP99NAJ+FWaI4DcKp4EnC5yA6HERE6S7N91jK9cJCiNxhnWcUVpCuyTWe6y7nejHA0RykvQ4cODClcRfXO7pA07iQWkW6ZQdpp2Q10J2VEUFk3VCvFcA1kpnDZHSQDRF3qYYQpQaNBeldgBOZ45+sP9KxcTonjYSiqKBbt24WLeFCwgKOgECwUBfA4h6HaOE1afvPgH3ehxSTQtrv81pJXhiCbaUukYgRjVuI+JAOSEpenEIRaABDXRpdQznx8b4SVQw3iykEvK1Erqg/i4KDgNSeXD8LixPfG8KZnwGRy9xEiq2LJW74bohI893QMpp016Q940T9SJVmtlHUacJ7I/LChkw2+H7pOkgqcOANZz9yPjBUt1j7EXAeMA6DdBaO74MOOshEf7EiDUKI5GCt4tzG4cuazXl9wgkn2FpTjHOctZqRF1xDWduCUVy8N2KQ6x1p/PyOdNhopg6ikUgKjk5SUnEoB9vNazNKiigkRnM+GR1ClCPYy0FJCIGW5557LqUEKCkkFEUKdEG99tprLUrDoo0hi0HLrCXaUxfqvWBRJ+JywQUXmFDkYKc2kjqEQmC7op0ieQ8uhvxfVbi40pGNsS00fwGM+arOTswERnq9evVsLAzwGZixSOSsKh4jFhH2e1Tk835chPFQ0XG1MjA48AqTDhSknAIRMAY1F7PWhX3Cd0JUDoHKZ0ka9h9Rt3TOElKHiQjnOsqC13nyyScrahMxfNh/eMfxrhfDgAtA+AefK6iVJWIuhCh/yHbgHCeqyDWF9YU1n9E9xSC4jrIN4RTRYH4j6zjXj2xzj7FDKPcIxmgQCQ1fg3FcEl0kHU+ImgxRRc4FHNNcs0k/pXwlaSQURQosyi1atLCOZMy5pCsn0RRqFRmIj5Ckxi3XukVEDgb9qFGjLFJBrRz1Twz2ppg+6kFMB8KEyBqCh6YyRHZok41HJQwnDgY4dQt4LkkVrOxGzQbRKSKGRHnwbhJZpTYCL2hYHOABTdKIptsbUUUu5ECq0OOPP14ljxHbni4ChsHA5+P7rUz48h0SSeP7Z78GwpXo01lnnWVjbYolbjB2qKejNpDZjh06dPB/kzzpPNakgdA1mJqfXPYB++/ee+91pk6dWrEfcRD069fP0sGKKRI5vnD+0CqfYxvRjVAshvAWQiQLaz/n+NixY/1HHCvzYM0v1jmOQ5iMD9Y4ICJIPwK6nZKphLMyKHXJBtuLI47rI3XiOFRpoAb8PenyXIeEqMlgL2M/B4557FbqffMpeymEVTzDS4ndYiUQh6SlkQP9yCOPmNcCYYXnD28kCz/NS+g4SSSCiw+RKQ4nPIdcoBizQQ0cKYIIDYxRhCYijHEQuUSyAIGCKEQwYlxjsHNi4C0NjO0APC2cRLx2rkY3F1RuiF/eg6HE/B8Vw6RpYtDTBCYpg573xUtEzQY/kyJ0zz33OPvuu29OojoKIpMLMoX/eGJJ8yUqSk0qF3A8u5V9FiKJCHu8wmwT8LeXXXaZ1ZFk8wbHDWlMNJJB1OORJiqdRIQ3CpFquvRxLGKwcPyyHzkHcHiwbyv7fjgvcMAELeo5dvEOMlD35JNPtoYOxYToMI4RZjkidIn2B5kEQojyhvOaXgCXXnqpXd9Y58eMGWNZIMWcU00GCPWHpImyVpJKynWt0G3gs+DcwinM6zZq1MgagO2xxx5au0SNh+7k2AwEbLC3OaewSzmvk0JCUWSFSB4ijzo3BB/eC7wYLMgIRoxbxAYCjdoqDifEBEYx0TrSQxEShx56qB3INMng7/JZ0AOhGNTFVRcIxT59+thnSUoosv8QwaT/Ioi4KJ566qkVtaP5gtglLef666+3Lne0FicSh7CvrBYOIUNtKhdj6iWDZjh4tBDLxRzhABxPRKbxRiN4Ea/FGu5PVJZ9QbSXWkS68tGymmOZ478yDz1ODdKm2H6i1Oxbvg++W6KifB/FgvcmKnvKKaeY8Mbrj+gnBaxYXWuFEMlCZk2PHj3M2Qs4dOk6inOqGM61ANYbnI3U3W+22Wa2Zsch6MjOoPae6zLXNGwQIWo6BHFw/uC4xyYjE40sOBy/uUTnC0FCUVRKIP5I0aTmgBvGLv/jLcSAD0QcFwAWbFJKuCBwUeICRcomtVyFXKAwaklfRTRVJ6TNIHQ5MZOEz8kgdrrQUqxMeiOd3yjmL+S9ib7RLIAoFq9J2g7R3WzwfVL7gUea7rd4pxGFxx9/vDVDoJV5MS/MLI54pKlvRZQh2HE8FCuFinOAfUJEHIcJBhgRzVyEKkYS4hYjjZ9ZzEkzpTAd4UnX2GLB5yAzgEgs28P+I5LIhYbGEkKI8gcH7RNPPOGcfvrpliEDnPMYmJQdFBvEIsS9XnOt5DWTctwKUYqQ5YdNR8YeNjXBC0qJGG2VBBKKIi84XEj9JPUDbwYikQsRhjwXAw5aIlWIGy5IeBCLOROupsB+phsl8y2J4NL0h2ggqY75eo2IUFLTSWSQvyWSRL0owj16gUUMffjhhyZQ6SRHswEeI/rVpk0bqxEptkeafUE6LmmbpDQj1rjl2jwmLoLtuPjii+2Yp6aPNGqim9GOp0F6FPuP75F9SRowKass6kcddZQVphc7gsd2k0LLsYRgpB09DZvSdRwUQpQnOHJp/sKaD6zz1HVTg6zImxDlDec3tiHOcyAYQ+YdDuwkkFAUokQhbZTOp9SRIToYQ0HzmEIGJRNNZNQJUSTEPREtoqMIeUQOIh/hQHoQKUtEE3EEICZpFMDzuZHmU2zo2Mf8QpoYEUUkEleslNMoOERoDoHYYl8hsKiRIRpHGjbfC9F3Iu0s5i+99JLV6lLDSBSWCCL7kf1abGFGOjhpaKQxk0rOdjC4GsFazJEcQojkCBxaZI8EY51YtynfYJ0qVhaGECIZuJbjsKacBfsIpzlzuJmXWshM8sqQUBSihCHllhpDatsQc0TSSBMMusjlA2KTAmhSSRExpCfROY6FhQgYCw4RJzzO1K0R/QrETTC7pzqgTpYmDGxjy5YtbbuqEyLq7EeihIy4oP6QfRhEFYnAIrqBxkqIWjry0U2Y7y2JhbwyELgIVuo6SVshCkqTIyIMxWxGJIRIFtZ1nFkIRc57ygxwCnHeFzsLQwiRDPSwwDZcvHixOahx6CMcCQDEzaqX41IWQpQkRHqo7yQKSBSItFA6uiKW8jXwqTFEILCgIPxIDUa0ENkiBRJBQ3dVOmAStWPsAw1bqrvBCdtI1I626knXh+YC+4vGQmwP3w31uIjEoD6XmkOEIa3oiQJ36dLFGv+wv6sjvZNGPESUcTaMHj3atpl0U1JnJRKFqFlwrpNmSjYDcL3AwUhH46SaXQghigsOIZy/9LMAznOaOiUxJkYRRSHKAATiLbfcYqmjCBFmXCLk1KVSZIMoNLNHicgOGzbMxCpNLYhKy2gUoubB4Hman82fP9/ukxI/ZcoUyw7ROS9EzYBpBIMGDbK5zMg40suxCYk05luaVBkSikKUCYhFahZJK6LGjREV1OxVRyqjKH1Y2mmgw/GCSCTtLOh6K4SoeeAYImuAOmRS4jEYqY+m1CCf2cLZILWeEgVq6Hm94DX5P1v9I+tRcIvex4GVj4hlGyhJoBwBotvBLfxe7BegCRvN9Srr+i1KE65nZMik+76D++ng+w+OheC44FglAyifEV+kchPJ439Itx3h4y74meOOrKNo07uqwPlH+Qij1PiZbCXmWz/99NOx9xyQUBSijKDOEA8S4xYY+M58RAYNCxGFixlNd5j5SFShb9++VvAuhKiZ0OGahhYDBw60+zgRiSTSxTouSGkls4XaKMQdRikGcpB6HxjOURB1CDyMWsxOar25jxFPh1acn7k22iFaynWQhmv8DSIY8cd78z83morxntwQtrwnZQI4y2gIJ8oPmvlhA3HccWzz3Qc/ZyvroP8CAjM47rjhMKADOeO+coVUzwcffNDmdwbHWiDKguOO1+YYDx/vHHd0Oo97KD6NDq+++mrbJ0D3U675sduECEUhRPngLXruU0895V588cXus88+6z8qRCo//fSTO2bMGDtOXn/9ddczyPzfCCFqIpznnTt3xvlvt7XXXtvt3r27/9t4mDJlitukSRPXM5Rju7366quuZ1j771A5TzzxhFuvXr20r5XttsMOO7izZ8/2X0WUG57Adz1hmPa7zfe2xRZbuIMGDfJfOTeef/55t1mzZmlfL9uNY3X48OH+q8TH+PHj3T333LPifK9bt6579913+7+ND/VJFqLMwINFF7uLLrrImqQIkQ7SXNq3b2/HCU2MvAuW/xshRE2EyMJnn33m31sR5aDxVtx4tmOst0JI9zq53ET5ku77rOotH9L9fa63JNh4441txFkAYzOIdsaNhKIQZQYGP6kWdKzEEBAiHRwnpGRxnFRHt1UhRHEhFZPmVQFcJ0hHixNS9nA8UQ8V3EhvpWt2ZamjpAnSjC38t9xIWc0HUunZBjo4s75lcoKxPRjTjAygG2TDhg3VAK6M2W233awze/jYoQSH61xlbLLJJtY9Pfg70jPzHfvFsYPjZccdd7TRYpngeOT3HJ9sM+/LcRg3vCbnUwDp1qTHxo1qFIUQQgghypig1u+yyy6zmixgbuvUqVNjFYs0kfn6668r3gOo/6LZGo2ywo9HwWG11157WW19uLEHhnc+DTjYBro+Yhgzs3by5MnOxIkTK0QyQpLxRHSBRCAgUGkogqDYcsstNRaoTHnvvfes7i/MK6+84jzwwAPO888/7z+SHsQaNY4cf8AxQadQjo9c4dhetmyZNYri2GN7GHzP+DKkFMfYEUccYSPGEIk4QHiMY5s6xbjHezFnm3P+yiuvtPs4Rhid9tprr+XtfMmGhKIQQgghRBmD8Xrdddc5Q4YMqUh1QyAuWLAgr86OhcD78f4dOnRw5s6daw090kGkheje0KFDzaCOA5qGBMPHmSFJlg2zgm+44Qanfv36OUWbRPny1VdfWVMXjqmgG2k6EIU0fqF5TRznA84RGjoRncRxwTnA3GmaxuGkIPpYWYS9qtAo59Zbb7X35DwAUlFnzZoVa8q5Uk+FEELUeLiQY8DiCa5Jt6CLpKjdEF3gFhwLRO8wiONsyZ8JBCApqZ06dcqa2sm2EZEZP368HbdxQETx008/dZYvX273ScVr2bKlRZAkEms+jFYhSkgqcjboCEz3X8RdHHAtwQlDhJPjmnOArqb77befnQtJi0QgKkp0PHyOI2CDIfxxoYiiEEKIGg21WxMmTLBGH8FMtZoCERS82hgopNyJ2snLL79s0UREGJDu1rRpU2fatGl2P2kwJYnuEFUkHTBTVJFUPNLymPcYpAFWBebGMQJo9uzZ9tqHHHKIRZeoRxS1A4QRM6ZJwwwia+nYeuutnUsuucQcGlVxInCsL1261Onataszc+ZMu6ZwTBPZ5pwrZu8IxmGQ/koqNlAbyXzFM8880+7HAkJRCCGEqIn85z//cefNm+duueWWOEVr3O0vf/mL265dO3fRokX+Jxa1kRkzZriHHnpoxXGxzjrruJ5B7P+2eDByYJNNNkk5RqO3dddd1z3vvPPyGomRDkZF9evXz61Tp4697qabbup6QsD9448//GeI2sDvv//uPv744zaGInqshW+slaeddpr77rvv+n9ZGD///LM7adIkd/XVV6947V69ermffPKJ/4ziMWHCBHe33Xar2A5G4vTv39//bTwo9VQIIUSNxbvOmceXCAsRtyBVp6bc+EzBZxS1F1IwqZUKCJp1FBtG8tABNVun5Z9++sl54oknnCVLlmSNAFUGHR4XLlzofPvtt5b6R01iixYt7LOL2gMRPOpxmzdvbsdBJlgj58+fbymjVTnuON6I3JP6DzSpoeY2ic6mlRFcAwL4XMEA/rhQ6qkQQogaDfVLjz32mPPqq69m7cpYjpBqRE0WDTyUelp7ofMjDVzefPNNu09Ti549ezoDBgyw+8UCk/L888+3lDgM6kzQlXHQoEHOGWecUVCHRmoc6fZ47733WrdT6sK6d+9uXV/V1bT2gWh78sknnR49elitbiZwItCdl3TNzTff3H80d6hJpNbxpJNOqqiLPe644yzdeYsttrD7xeSFF16wlPMpU6bYfVJqmbMda8o5QlEIIYQQQpQnw4cPd7fbbruKFDTPaHWHDRvm/7a4zJ492913330t1S/Ynuht1VVXdRs0aOAuWbKkoBTUjz/+2PUMYnsdXu/AAw90J0+e7P9W1Ebefvttt3379isda9HbPvvs444bN8793//+5/9l7nDc9e7du+K1PGHmTpw40dJRq4OXXnrJ7dixY8X2/O1vf3P32msv/7fxoNRTIYQQQogyhkh5kAoHdF0sZlONMAcccIANGs82hoAUOVJHic6EtzsXPNvVefzxx20cBq/D59x7772toZOovRDRI7pXWerxW2+9ZcddvtklHGsfffSRM2nSJLtP8yS663LckQJaHbAN4TRvzo24s2YkFIUQQgghyhi6jIY7jVanUMRwPfzww3Oa5UbqaLZUwXQgLEm1Y9QGMBph3333jX2guSgvcEwwy3D33Xf3H0kPx8+iRYucF1980X8kN6j9Y7A/41iA84vuotWZ6sy5Fj7PEYq//vqrfy8eJBSFEEIIIcoYoh3cAqpTKAKNRXbddVfn73//u/9IeubMmeO8/vrreUVBHn30UYsmBrMYmzRp4uyzzz72s6jd4CxgbEVlEM2eOnVqXk3A3n33XWfy5Mn2MwKNcRtHHnmkNUqrLtIJReoo46TKzWwoohdCCCE22WQT5+STT7bOg0JceumlzmuvvWZDoEVm+vbta+lrhTR1Cbj88sttjlzQ+XS77bazZjEnnHCC3S82mJajRo2ybSJ6kw3m2tGEhm2uDI4lBpsT2SFywt/w2Uk5DKfglRI///yzM2/ePOfhhx+2qNQff/zh/6a8oKMoooiZgW3btrWZgaUGwg8nAtqE/zMJQRwpOBhoQpOLk4HGNffcc48zcOBA+/5oHMZ5e8EFF1Rrl9333nvPufXWW5077rjD7vO5iHDSBTkuqiwUq7KwCSGEqDnQFj8YaCxEu3btnFmzZlVEfkR6Ro4caZGJbDV9lUF3U0RZEJkj7fPqq692jjnmGLtfHXz22WfOFVdcYYIxHO2MstFGGzn33XefRSGzDULnNWbMmGHdTUk7xXylg2Xv3r0t/bRUwVlyyy23OBMnTjSRkU8Uq9SgJo56PDprInyzjaOoLnCWDBs2zLnmmmuyivJNN93Uoo9XXXWV/0hmGKzP6z3zzDO2Dzi/iEgSVazOfbB48WLntttuc26++Wa7z7bgMInVGYFQrAq8hG666aabbrp5F033/vvv968OorbTqlUr969//WvaY0W3P2+ekHI949bfa4XhCUV3zTXXrHhNz5B1H330Uf+31cN//vMf68bKtoQ/b/TmGbfWSdIzev2/TM+vv/7qHnvsse4//vEP+7uNN97YfeCBB2zwfinz6quvuieeeOJKn7tcb55QdI855hj/05UeHHcM1afzb9AVN92Ntalp06buhx9+6P9lev71r3+5Q4YMcdddd137uw022MA977zz7H2qmw8++CClCyvnkicU/d/GQ5UjiswsEUIIIagPITLSuHFj/xFRmyElirqebNEk4TjdunVzGjZsmDWaVhmDBw+2KMoPP/xg96s79TTgjTfesDlvY8aMsQhgJojQEBE99NBD06byESFhDioD/b/55huLynmi0enfv3+lzUuqm++//95ZuHCh1WPm27in1CBaVadOHetse8ghh/iPlh40durVq5cdd6T+ZoJOqZ7os1sm5s6daymqRIRJ7SR6fffdd1sDperm/ffft2h1kHpKRJF1JN9OwtmoslDkIiCEEEJg4JFGts466/iPiNrMkiVLLBWyimZGjYfh+KSdYoQWyrXXXmtCMRhyX69ePUtH7dKli92vLjBYqe1i+4IupelAgCD6SCXdcsst/Uf/BLFFLSIGMXWK1GHddNNNllrLsP1SB+Hy3XffVdSQliukXXKsss7zc6mCIwGBR838559/njHdF1G1//77m6DceOON/Uf/hDpYjjmcGEuXLnXWX3995+ijjzZxVp1NbAJoysO2jBgxwu6zhvD9BA6jWEAoCiGEEEKI8uT66693PcFp6WfcSAO/6667/N9WL57B7nrGdcW2Zbo1btzYnTZt2koD+P/44w/3lVdecbfaaitLreO5zZo1s8c8AeA/S4hUfvvtNxtG7wmnlY618G3TTTd1H3zwQf+vUnn99dct3dkTYPbchg0bupMnT/Z/W/0sWrTI7dq1a8VnIdW2Tp06/m/jQeMxhBBCCCHKGFrkh1M2iaCE5ypWJzvvvLNz0EEHVZppQHdUT/xZ5C0MHRynT59uzXE8u9U+K1EdIo+k2gmRDkazkJ5Mqmy244Tja+zYsStlP5Ayz2B+mhFxPhGpY+QLabelAtsY7irN54x7+L+EohBCiBoNF39qnKgPwgitSTeMHI2fEIjEUhWKpIY2atTI2WOPPfxH0kOaH4Y5dY0BGMKkMI8fP95/xLHxDAceeKClAQqRDWpecVRkSxPluGN8ycsvv5yylpJqOn/+/IoB+3Q45fVK6bjj/Ah3OCX1NO7tq3KNohBCCFHK/PTTT9YI44MPPqhxoxrwcmOEb7vtthpXVYt54IEHnOuvv95566237D51jzQbZO5bKfDVV1/ZNjIvMZuARVQyn45GJERGcO4wYL9nz57m8MEQplaR+9TJCVEZw4cPd2644Qbno48+8h9ZGaKPHTt2tAZcQeSbkS3UJnJOBVFsmtrUrVvXfl8KUIdJs6hJkybZfWoucaI8/fTTdj8WEIpCCCFETeS///2vO2/ePHfDDTesqOOoabe2bdtaLY2ovTAKgxq/4JjwRJR77rnn+r8tDebMmePusssuKcduulu7du3snKX+kDrE5s2b2+PUJzKagLqsUhhNIMqDL774wm3ZsqWNjYgea8GNY2v11Vd3X3vtNauJZSQGI02CUSzbb7+9e8stt/ivWDo888wzVq8bfA4+wwknnOD/Nh6UeiqEEKLGQmoOtSdEFemsSKe+mnTjM9HVLxi0Lmona6+9tkWXA0hHCzqglgrbbLONjbeorK5wwYIFzgsvvGBjDejqSDoqcKwff/zxNtKAn4XIhc0339yibETZM+HpIevQS/dT0vkZrM+xR1oqxytZGy1atPCfXTqw7rO9AZwX2T5nISj1VAghRI1m+fLlNgNr1qxZzm+//eY/WjOgHqVDhw7OfvvtZ2JB1E4QV6SgPfbYY3Y/kRS0KoLThpovjldSUTOBYc5z2rVr50yYMMFST4GRGIjGXXbZJe2sRSEygei78MILnaeeesp/JD2bbLKJnTOMc5kyZYo5GHmMOYv8fVVG2CTBww8/7FxyySXOxx9/bPfXW28954orrnDOOeccux8HEopCCCFqNDT2wDPMraZd8ogqUptIDU2pGTGieFB/hXE7cuRIu8+xsNtuu1kX0VI6Loh+X3fddRUDwjNB9BEDnYHi1CnSjOSII46wOkeO98qikkKEoTYdAcX58fXXX/uPrgznypFHHuksXLjQ+fLLL+16gcOCulmccaUGM0r79etnjc2Aul0+Y9u2be1+HEgo/v/2zjxIquoK4y+VVJkq848JiGgiKIshGIQoSISAgAFZDKsgSBAQFwQLFZSgERIDGEwZg2hEMAKiAUTZAoKyiOxgwIhsRhSNiGUkRUIkW1Wq078zfSev33TPdPfrHt4bv1/VFHQz8+a1dt97v3O+c44QQgghRIzBfoZQ5Mtx0UUXWTdHsgxRgYw+DTh69uxp1tJskDHERkfjGwI9jDhAJNJ1kuCIEPmCo2Tq1KlmK60MLNwEFemASnMlhNjo0aMtox0lkG+PPfaYN3bs2PImbXXr1rWMKFn3YqHwoxBCCCFEjOEQ+7WvfS2t8y11imRFogTdJRs3bux16dKl0qwgB18O64hEXhOjNa644gplzUXB8B667LLLTPxVBnZTNyajVatWXsuWLYs+m7AYcJ9k29298tlgHSAbX0z0iRNCCCGEiDFk2WrVquXVqVMn9UyZUDx8+HDqUTRAHFJXe8MNN5hdOhdcHS41uLKcikJh7AX20Vyzba7OlyH7UXzf0azqz3/+c3k5BUEYZj1q4L4QQgghhEgDkUhHUAe2zUOHDqUeRQcO4C5TU1VTGg6/DNgnAylEWC699FLv8ssvr3QAv+OSSy6xDCQBmCiCUPQ3heI1ffOb30w9Kh4SikIIIYQQMYfmL+eff37qUZlQPHjwYOpRdMAih/2PrGJVB3ZqExlLEKUh5yK+UMNHkAL7c2VQH0s97Le+9a3I2p3JJvqFIhZtGlgVGwlFIYQQQoiYg1CsV69euU3OZRSj2LOQTGKPHj28Bg0aZM0qclhv2LChdaEUohgg+lq0aOG1a9eu0lmc1PlRE4uwjCpBoUh9InWYxUZCUQghhBAi5tDMhholN3ifhjCMozh58mTkxCIHdoQtoweyzf/E8odNsGnTpqlnhAgPnxFqFbNlqQm0dO3a1bKOUZ3XSQMbxnxgPwXuk+x7VZnSQpBQFJ9r6KhG5yg+cB988IENLX3nnXesAcD7779vHeNoO+66SgkhhBBRhOYwHH7JwgHi8B//+Id34MABG3YfRQYMGOCdd955FUZeICQZ78GBParWPxFPEFU0tOnYsWPGJjU0T8J2eu6556aeiR7MTTx27JidX4FgCwGVUozw+OJPkqT+LsTnAsQhm+fx48e9o0ePelu3brW5Oi+99JK3Zs0a+9qwYYMNXMW2wweSTZafAzZjdV4TQggRNdjbCHi++eab9hgBho2OphxRzI6QNdy3b5/37rvv2jgMBwdfGtgMGzasUougEIXA+wtrNmc//vTTu3dvr3///pahiyp/+MMfvJUrV1piA6hNHjRokDXgKTYK04jPDURX3VypFStWeDfffLPXunVrb8iQId7kyZO9Z555xlu+fLkNK129erX33HPPedOmTbOC+w4dOtj3LViwwHzhLCzFsvJwHYQoNiHuj2szlJgN/9SpUxYxwjpEZpM/+R4hhBAiCNk5Glq4LBz7yvr16yO9b1x33XV23/4ALBkfmtjQ9VSIYkMTJRrVXHnllalnyiAoQZYbW3SU+eMf/2i2cuBzU7t2ba9Nmzb2uNh8IXlIjV6VsxAlAKGFCHzkkUe8nTt32nPMm2nbtq0VN9NWnOgmC8WJEye8jz76yKI2ZBwpGObDSHQWa8/EiRO9Pn362FyesCD++MDzO/CbM0CVLCb34ObkkP3k7yxeo0ePNvEqhBBCBGGfu/HGG80xw75FN8S3337brHRRdMPg1iGDg6uHrCKZTwK5U6dOzVq/KERYOGMtXrzYu+WWW1LPeCYc582bl9Y9OGog2yZMmOD9+te/tkQCdtO+fft6c+fOTX1HcZFQFJ8LsJA+9dRT3rPPPmvZOgaoDh061CKWbERsTERg+WIjZeMiy0dtIgJt48aN9qFEOCIW+WDSiW38+PFekyZNKtRX5MqqVau86dOne2+88Ua5vZWPJH9m+rrwwgu9cePGpS1sQgghhAMrJyILBwywry1ZssTqrhCNUYNAKVnFHTt22P7HrLuxY8fac1EUtqJmQC8Kzl+PPfZY6hnPzog9e/YsSa1fsSCJcffdd3sLFy60zwuZ0bvuusuCQ6VA1lNR49m7d68tBvPnz7dWx9hMiRj169fPsohnnXWWLQpsoAwCxuqCLYHnmPWEOCPa+fTTT5tIY9MlO4lNlcebN28u2NaDDRYRS8aQ6Jazl3722WdmPUXUcm0EK0KRjGKUC6yFEEKcXtgj2rdvXy6y2Ds2bdpkpQxRBBHL4ZdDL/fMIH5GE0gkilLBZ4KGhfSkAIL9DKvncxPFYIof6o8JrrjPC11cgxbaYiKhKGo0RFZnzpxplhaGrBJlJUqJ+MM26uo4KoMFhO8lCzly5EhL+dN+nJT/li1bvF/84hf2ZyFd5Tp16mQi9vHHH/ceeughb9KkSWYrZaPPdG/MyOJLCCGEyAT7FXWKZBoc7IF//etf7XAZJQiO0pSDEgug0ykjMRQQFaWEwARlRa7OjyTB8OHDbcRMLufC0wWf323btlnzJ6DhTvPmzS3pUSokFEWNhTo/GtJQr4GVZcyYMRYtog6xEKhdJHIzYsQI7/rrr7dsIxFaMop4w3fv3p36ztzBB09nN8QrzXK49p133mn1GcEifhYvRGKUvfNCCCFOLwQ32Sf8g+rphLpnzx5zq0QJ9mcac7jOkzTkIKMYxQ6touZAzS7vPRxbnO1opoRzLOrNk8iC4pLjfAsEVuizQTf+UiGhKGokRF2whlIDyIY5ePBgs7KEtRQg1ojc3HrrrTazhkWFzCILDp1UP/zww9R35gYbOvfE3J46depYoxw++AjCYFSLrlb8bhX3CyGEqAwyI507dy4PjHIgfvnll63MoRhwHfa9X/3qV94DDzzg/fKXvzQbH/thLllLvofSCoK5HHp5zGGdQeiM8xAiEzQ7wsGFU2zKlCneww8/bGc9lxnMBbLXjD9766237DFlRt27d7ezYpSziUAW9MiRI9bNmPsmm0gipJRIKIoaCbNlli5dahsQ86OwjRYzUsT16DKFuAMG9mPtoelN2OH8WFi5fzz0frDLIiSjvpAJIYQ4vWClcwPrHa+++qoFMzlkhoEmILhoKJegdOLRRx+1PynDmDVrltXeVyUW2Sc58NOB3M1PJJvIHLio14iJ0wPZcJrNIA7pXs/7jkAF77vZs2eXzw6tCgQinwWCGgTr6f0wcODAyNfEknXnjIltFvh8E1ghiVBKdOIUNRJqHlgM+GBhMVi0aJEJOUZQFAPEGkNZGzZsWG6ROXDggLd27dpy73ihsIljYw0KTn4XQlEIIYSoChq1/fCHP7SsInvWBx984O3atctGMBUKP0sm8YknnrD5jFjhCMiS0dmwYYMd3HmeeshsICI59HO4p4kbj7lXavbZ54TIBCKJDqU4xbArkxlkBAxZNpoN/va3v630fQe8f7dv315eKkS/CcQWmbmow5mWzvvU9dJwkfumnrfUAldCUdQ42HgYmE+Wjw0MS+hPf/pTsymw0BQL7KHf+c53zDYKiFLsDGyWwWxgrrBhUvdIZMzfHIeFoEGDBirwF0IIkRMcJjlIduvWzQKa7C8EUckIFtJ8DXC7kI2h5jETHNxx87isRyawnLJXsk+7juEcerHQUfsvRBDeu2SxCcRnyogfO3bMW7dunbd///7UMxXhGghEOgAjGMkmco5jwH7Ua2J5zc8//7w5Ajhfkk383ve+Vy3NDSUURY2DmYR4uNmMHGTn6IBaTKGIeKM5DnUVDn4vdppC60BYDIj6kvn0i02iXjTSoe5ECCGEyAVsnKNHj7Z9ioMx2RTsnoVmFckcIjQrg0BntusjUBGTZCTJKnJ4Z1+jkQjBUCEywRkOkcfYsGyQJCDjlg2SBwQnCFIAWWzszqUcLVEsCNBQA0zyg880wR+CK9VRiiShKGocDO3N1NkNYVfsDxXtx7H1uNQ/WUU+0Nh7CoFF0C1ifho1amQzINnohRBCiFygoyN1+r169bKxGQQjf/e731nnxEKcL+xxfFUGNYeZMpaIQmddJbPJYzI5dGelc6OyiSITvE/IPPO+4+/Z4D3n6l2DkDjAsorjC3sqXUJbtGhh48ii3umU14W1lgALn1lssojbUo7E8COhKGocRI2C1gSEHB8qmtAUE7pkEQ1lM3Y4z3xlC1o2WOQyCUUGwTIvRwghhMgH9r/x48dbYJMDMvsTWUUyMPmCu6WqztuUSGB79cN+SCCUQO6DDz5oGSLui5rE22+/vVosdCKe8D4hi8b7rrJgOe85v8PLwXvt97//vXXYJUBCwqBx48bWkJD52lEGYYjd9IUXXrDaRDqd0sWf4E91IaEoahx4t4ObFJsjaXqiqsUEgYgA9UdCP/30Uys6drUX+ZAto9ikSZPyDqtCCCFEPhBoHDVqlO1XLqvI4O58ITiKwyUbHOo7dOhgnST9sB++9tprJlipX3SHf5rfsL/5g61CBOH90rp1a+/MM89MPZMO4o8ARbt27VLPlEGAgkaDkyZNsrIgHtMltE+fPt7QoUNT3xVdSB7QXZjGPdw7M7f5fGGbrS4kFEWNg2H41DuwUbG4sLHddddd3j333FMSsUWUyy9MiV4hFlmc8oHNm2xosGsq1hyiX24elhBCCJEvdOq++uqrbS8hw4JYpCt4PuBu4cCezSZK3T57sN8Wx75Gh9M777zTulWyL/Pz2OmoEWOUhxBVQQdf1zzQD+8nbKQEQijRcSCsyMQNHz7csuicsXjvjxgxwr63lEPqiwF2WWqKn3nmGfs7ARWsstXdGVhCUdQ4EG733nuvdWajqJ5W3WPHjrU5hKUo/CXCFVxwmM9DrWI+nDx50gqxg7UdRG+JBiviKoQQolCoxbrjjjusWyIBSOoElyxZUmmDkCCIOjIaZDb8+ymHdZrR0DiHgCxdKDnkMoifzM3kyZOtUyrfx0GXMQc05CCryHNCVMUVV1yRNr/awfuJDCFdcwnS09AQcdWvXz9v3Lhx5aPSSBrw/r/55pvTektEESynlDHRsZ/PJ+faiRMnWvlUdZ8Fv/iTJKm/C1Ej4MPP5kPkCYHFnzwuVSMYPO9EZ1mgHGQYWbwo0M8Voq5Ev/bs2ZN6pgw2ZaLAsp4KIYQIAwdO6urp0E02EWsbVjyyFbnA/so1cOzgnsE544KbHMYJzr744oveggULbEwGncYPHTpk9VXUN1511VUex072Na4jkShyheAGpUUIJ7rvEpAHsm0E5mlWwyxF3n80TEIg0oGezCLBEZxlCM04NAYk0EJn4GXLltnn68c//rE5ArCcVvdnRkJR1Fj4MLmvUkJNIY0B/CMxiNwyzqJr166pZ6qGsRizZs2yBcLPwIEDLZLGJiuEEEIUCllAAqi4YDhsM3eOg/YFF1yQ85xeMhqITYKhX//6162LJCOdsPZRS0UN4scff2zBU5wyCEKCplj+hg0bZpkfmnIIkS907uV9R9Ma6l7pootgpDETZye+CLq7wfvMuiaDyPsOsUhQpBTOsmLCa2KMx4wZM6yD/5AhQ7zbbrvttAncLySVdv6tGYUQ5VCM//jjj6fNlmJj7NGjh3XZygU2WCKvWCXYWB1syAxZJaMYbNAjhBBCFAKHabJ+1A4S5MS6h00vn1mGrh6fLCKZRTKUCMVTp05ZsJQ6RIQkB3syQdTaq3u3KAa878hUMx+buldsmm4uJy4yrKVkyXk/N23a1N53UR+qD3x2KJuaMmWKZUTJwP/sZz87rQ2fJBSFCMnUqVO9J5980qKzDkQdH/AVK1aknqkcIkiLFi2yqJEfspIIRVohy6IjhBCiWLz//vvewoULrZ6LrAyZizFjxuQt5jhGcsBlDySTg52VQzkuGDI4HNrVsEaUAt53BD0Qjq7WlvcdQQoaKpE5j8vZCes2db3Tp0+3DsHOLksn19P5GtTMRogkeMD5kBIhzTd2wkIVHIVBITJ2nlz5y1/+YpGxIM2aNbMFTyJRCCFEMSEQOWDAAOsmiRWU+i5cMK72K1fYn/h55jRSJtGpUyc73NKJkoyiRKIoFTQTpFHh5ZdfbnWvfBFYJ4tNVjsuZydcZfSnmDNnjvW86Nixo80XPd0iESQUxecKRCBRJ7qvEbnBB+4iqvPmzbM/eUw3uF27dlmtBR/gysAqSgTVD78nH8GZTSjir1dtohBCiFJAbSJ18HQmpf5r5syZ1kCjqn1PCFEcOCtSK8wZlHMpmUS6B+NKi4LQlfVUfC4gW0gdxocffmhzChlDgf+bx3Rjo0DY+b+dZQbbAkKNQf143IMDhIFMInNt6FZKNtJBBJWIEF24qoJs5ksvveTddNNNZqFwUHBN63IWCzdklo8rPnyEJRYfXhfPETnje7AMUR8Z9WJtIcTnG9Yt1i+aT7i1jHWY9cutY/nU5PDzBO24lnN5sLZyTbem04CF6xbSEIIsG9d2gUHnPsHaxnqP84PrxymL4QfrHqUS8+fPt9dE50iyhHF8LULECRxo1AqTpGBOKWdKZpVGBQlFUaMhKoqoosgezzfCDYFIDSG1E4g/iuzr1atnBwk2RQ4E1G5QKE1GkfoKmswwxB/x6N84OeTceOON3po1a1LPlMEGSwOaxYsXp57JDgePZ5991iJI/o8jBdlbtmyxhQMQtHSSI/O4Y8cOe010+uIwxO/j3rApNG/e3CxFhR6IhBCilLBmsXZhtWLoO2stddoIOixjrGNYybCUVeWoYL1G5LBms7bzxbqNWETQsQayPnJdLGl03GS9J3tW1frIAY79g+uz7tK0hTb8PObavA5GLyFsL774Yrtn9hO6h8apNspBuQT/LzZv3mxdIgk+SigKUVpYZzZt2mRrIGsIHV2jhISiqLFwUKAbFtk+BBuZRCK/DF3t3LmzCb9WrVpl7YSFKFu3bp3VbRw8eNDr0qWLdZ/yF/ozGoNiYwSdH2bdIC4Zd1EVHDwYPvzoo4+mnimr+SAjOXfuXBOzZEOxydKljrmN3DNCl3shkk4TAQ40HJoQlnjbGc3BgSXb6xNCiOqGQxGdMXFLMJ0L9wNrMqKEEUGsuwT42rdvb829WHcRekHI6CE2N2zYYJF46noQOgg3l91DrLlxDRzC+Bm6BxKU6969ux3IMmUtORZxLUY+cG2ya3RV5F65Nmsvv4cyBq6NcGTtZa3t1auX7QkIR75HQksIEWsQikLUJJIHkcRnn32WSIq0RLNmzRLJzd2+kgeHxMCBAxM7d+5MfWduJAVmIrnx28+PGjUq8Z///Cf1L4lEUoQmmjdvTrAl7atu3bqJe++9N/VdlbNp06ZE8jCU9vPJw0ViwoQJiU8++SRx4MCBxKBBgxK1atVKJEVg4p577kkkD0WJ5KHHfv6///1vInmgSdx///2Jr371q/azycNPInnISuzbt8/+XQghokBS3CVmz56dSAouW89WrlxZvkax1nXs2DGRFHi2DrK2zps3r8IalhSSif379yd69+6dOOussxJnn322re0LFixI/OlPf7I9wJEUc4nVq1fb72Jd5Lpcf9y4cYl33nkn7XuBx3/7298SSXGYaNCgQSIp9hKXXnppYvLkyYndu3fb3uJgDX7vvfcS9913X+KMM84oX7/5OX7nqVOnUt8phBDxREJR1DiOHj2auP76603YIRDZuDkkTJ8+PXHy5Mm8hRMHB8TiLbfcYoeb5cuXJ/71r3/Zvz344IOJevXqlR8Q3Ff9+vXt9+XC4sWLK1wDsbds2bLEwoUL7ZDCa0H47dmzJ/Hvf/+7wmvgHhGwDz30UKJOnTp2DQ5DI0eOtMOXEEJEgfXr1ydatWqVuOiii+zvLuAFrGvTpk1LXHDBBbaGsX537949LbjH2rtq1SpbM7/85S8nhgwZkti+fXvi73//uwnIoPAD1kzWTgQlayvXPvPMM239Pn78eOq7yvjoo48SY8eONYF4zjnnJGbOnGmBONbXTHsHv+/YsWMmPP3rd8uWLRNbtmzJeD9CCBEX1PFC1BiSm7hZQQcNGmR1L9iSkpu0NaO5//77rasbFibsQ/mQ3PTNGjVq1CirA0weZKyhDGBtpcFBEGxU1MFUBXUuWJf4cvD7sMhSDzNx4kR7HVheJ0yYYHYm7FTB18DPYHuiIQ41itRg0swBy+3SpUvThvgLIcTpAIt8Uhxa0y4smm3atEmrE2Rdowsn9YPA+r17927rQg2sY5QSjBgxwtbOhx9+2HvggQes6RhrLjZS1sIgrJmsnf7GYNhGad6ybds2e5w8D1l93n333Wfdr+k8yD5CR1CspqyvmfYOfh//TgMKZzXlWqzfr7zyillWhRAirkgoihoBdXoU4I8cOdLEIvUiHDKoQXT1KDR3yXSIyAUOIIhEDgN0TN25c6fVvlBT40SjHw4jHHiqgnocRnVQO+PgkMFj2pRzv9Tx9O3bN6d6Qw5YvNY6derYY+pyaOCzdu1aeyyEEKcLWsBv3LjRq1u3rnfttddah9AgNK9B2Dmoz+bnqOVmHWM9ZG2fMWOG1YEzp4/vr2ptZ+1kP0DMgRNzfCEaqUPnmq+++qrVsPN35thyP1UFF9kfWHOpD3ffS6CO+klq44UQIq5IKIrYwyZPM5kf/ehHtukTaeYQQPc5Mmw0Q3AR6jCQjUSEceDgMEGkGyFGJtMPBwVEaS4ZRTeuIwhCkYMPr4nuqXRereqwAvwMUXoaOQAHKroA8t8nU+ZTCCGqA7KBrM9k2C655BIbzp4Jgn7+NZW1EMcFs/0eeeQRE2C4OhBzZPLy6eyMqPQH29g7CNTREXvRokWW7WRgPO4NuqTmIkAdXJdgon+dRuBy76zDQggRRyQURaxBFCLYfv7zn1sm0WXmiAIPGTLERJYTTWEhakxWD5sTHfa2bt2a0dLpRlVU1dYdODQFhSIHE6yj48aN87p162b3n4tIdHDAQRi7nyG7ilgkEyqEEKcDBBnrEGN/6GjKGpcJMogIOD9kE+kAjegaM2aM2VZZ43IVcQ66UQeFJeUDjCfChooLhOsjYvO9Nt/Pa/Ov1Yw04vWwTwkhRByRUBSxhagzm/wTTzxhEWF/1BaBRfYPi1MxIWrMLC7EHVbXTFk6DguNGzeuUtwROSejGKxhwY6F1RRrVr4iERCowWHVzBh74403Uo+EEKJ6wdrJF04LZoVlg/WQ4JYf6rSx+nfq1MlqBgsRiZAps0ddIg4R1t1hw4bZnMVCrg0EKnGzOPh9lCYwakMIIeKIhKKILYgsGhtQg8fcLQfikIY2DRo0yMuWlAuINkSgy9IFDzSAuKNWpSqYvcVr8Nc4cr9kI6mrZH5iIffPIYc6HL/FikPW4cOHK9hkhRCi1BAUIytIdo2sHWtcJhBWR44csUycH0Tct7/9bW/48OGhgn+sg8514mD+LEE1ShSws/oDbPnAvfP6/EJRCCHijoSiiCVYPjdt2mR1JUH7Z48ePSwqnGlIc1gQiu6gQpTbL1ABkUZTg2z1N344ENEF0A92rJYtW9pXoQcW4DDkj54jRhkenckqK4QQpYQupzT+Yk2mdtwfxPKDQ4PgWdB6Sm1hz549vdatW6eeKQzsr9Q4+qEOkSY3P/jBD2yYfqEQhOM1+tddF7Sji7UQQsQRCUURO9iI9+3b5y1fvtyi1A42ZTb6wYMHF60uMQi/AzHHn5ngUMAojfr166eeyQ520KBQpFtq27Zts14/FxCJCEL/gYgoN2KRiLcQQlQnCDTqC1kbmzZtmnq2IqznBOD8zgfWVAJnvXv3ztuGH4TmMkEbKHXnjMKgwU6hsCexvgaFIgKRPUlCUQgRVyQURezgIEFNybp161LPlMEhgtoXsnml2pgRXAiwbPYiDh1NmjRJa++eCQ5CZBSD9YkIRaLbYcAOe+rUqQo2U+47k1VWCCFKCesc6za2UzKK2UDIBV0P1DS2a9fORGYYCKBRj4gN1kFAjppzOp2GcXCwtlK3zrrr3xsoH8jUQEcIIeKChKKIFWzCdBxFKAYPFGz011xzTdZuesWA309toT9q7IfDDLU0VYHFimwi4zUcHCZohJOLbbUyuL+gvQo4KAUtXUIIUWoInFHbTcfos88+O/VsRXCKBNd1xCViLgys17gpyGr6ywW4LzKJuazZlYFAZLZuEO69VO4WIYSoDiQURazANsRYiuCm7CyhXbt2LanNhwMHtX6ZhCJCj9EUzZs3Tz2THRrLMGzfD91KL7744tBCFwGaSRCScc1WGySEEKWCDs5z5syxrqLZYE3du3dvmlB0NeGNGjVKPVMYBMn27NlToaacpjoE98LuGay3u3btSj36P7hLKhPGQggRdSQURaxgFiBjHvydQgEBRFT4vPPOK6nNBzvngQMH7OARhIYLZAOxGlUFtTjHjh1LPSqDlu804QkL9qpMFlMyrqXMtgohRCYI5LH+VGbvpGabjJ/fGorDAiHH2hgG1usdO3ZUEIp0xs7WgTUfEIqZMorsScUe0SSEENWJhKKIFURtEWpBiAjTBKbUtSAIRcRqJqGISGzWrFnqUeUw/zGYUeQw1KJFi9SjwskmFBGJtWrVSj0SQojogNDCwukHEYeYCwvr9fbt2zMKRQJ8YUAk4hBh9IYfBCLWU5wiQggRVyQURWxA/NDsINgABhCKdK4L2xWvMrBGMd+LbGCwUYyrdcmlcx6HIRrZML/LwX2TicR6GgZqKBGKwYwr12cIv4SiECKKEATMJBQRW2FgTUTM4UTxC0WCighFGpCFgT3h9ddfr1COQAlC7dq1Q3WwFkKI042EoogNCDRmbAUbtSCCyMbRQr2UmzKWKGpoqJP0d7YDBuwjEnOxSBF9Zq6YPytJ1JlDS9joM1lKrh38b0SLdg5EqlEUQkQN1lPEVlAoYju98MILU48Kg7Xw7bffNkHnX7dZDylVYPxGGAj4bd68OfXo/9C4R4E5IUTckVAUseHgwYPWSCYI2UQ66lHPUkqhSFR6w4YNGRvZMJYDoZhLRhPrbNCmxL3T+CBsRpSoOZnXoJCloQKNdhTdFkJECdZT5g/ShMsf4CK4RUYxbNfQf/7zn9YpO+gCYUwH9tAwayL3i8OFddfPGWecYZ1a1fFUCBF3JBRFbKDZgX+chIPZg9QGhhVZlYHwQoAFZzcCUWlmHzLvKxeIbvttp4DtlKxkWLZt21bBdgrcYzGuL4QQxQQB57KJ/gAXIpGvsC4IHCBcPwhCsU6dOqlHhcE6Ts064478NG3a1Cyzah4mhIg7EooiNtAlNLghA9ahsLV9VcFhA+srTWiC2TpqI2lCk6uFieh58HWQUQwr5Dhw0dkvaN/ioIWIlVAUQkQN1i1GHvm7nQJCC6EYFlef6F+3CSoWQyjicKFJTnBP6Nixo9lO5eAQQsQdCUURC9iIySay6Qcho0gEt5ScOHHChvwjGP1gLerUqZPZOnOBwxCDn7FDObApcWAJ030P+xbWLcRs8MB1zjnnWEdWzfMSQkQNGswgtoJ11dQmhhWKXJMAI8E5P6zbBM/C1IRTY07NPPMZ/dDYrH379jmNSRJCiKgjoShiAYcJRFpwLIVrZBO24UFlEPFmvtfLL7+ceub/kE1k9mGuc74YJo011F8vw4Gifv36oYY+899ly5YtGesTybZyj6W05gohRL6wDhI4w47vX9uxbLImhs34sda+9dZbFYJnZBPpSBpmnBKBS+rN2RscZBDZiwjMyXYqhKgJ6OQoYgFC0S+uHIgrMmWlnFWFTZQaF2pR/HDQ6N+/f15zvrCFBsUu0e2wLeD577NmzZoKB6KvfOUrJhJzGdshhBDVCRm/N99805wi/gAX7grqqsMEz4DAWTDjBwzCD9to5r333rPZj8HAXNeuXS1wmM12ipuEDCc/L4QQUUdCUcQCIr98BTdfbJsItlLBIYANfdmyZWndTsnOXXPNNdbtlPmEuZKpYyo/H8YWioCmiyqNdoJCEYHIPcoGJYSIGrhEmJ8YFFuNGjUyy3xYcHAEO5Kyh+CyCCMUWXPfffdd66bq4LrsR927d7dyiGzQlG3GjBnezJkzU88IIUR0kVAUsYDIMs1ivvSlL6WeKYONuZSzqsgA7tu3z9u0aVPqmTIQdsOHD8+7rhA7UtDuxOsKI+SIxmOLxQrlF6L8t+ncubMJRSGEiBpOKAYDaIw7CisUEXN0JcUe6oe9BOsp4zcK5dNPP7XrMhrDwbqO7RQHR7ZMKG4SGqItWrSoQt2kEEJEEQlFERuwIgU3dxoHlDJbxmFg+fLlaZk6Isfjxo2zOhR+fz5gkQ22e0f8IuoKBXvVCy+8UOGw1bZtW6uhLGXGVQghCoEsIjbM3bt3V1i7ipFRZMD+oUOH0hqHAfNqCS6GqU/kusFSBMRhv379Kl3LP/nkE/s5XnvLli1TzwohRHSRUBSxgcND0KLJhkt9XikgQ/faa695r7zySuqZslET3//+973BgwcXFJEme8iBwt9YBuFZaKMZBCydTjdv3px22KJGZtCgQTbfUQghogbZRLJrCDo/rgN0ZfbNXGD9ppFNEEYZ5VMukAmEYtDSyrret2/fSoOHdKYmg8reQWdUIYSIOhKKIjbQgODcc89NPSqDw0ZweH0xQHQxDmPhwoX2O4AINFnNadOmWX1LsF4yFxCEdPPzi0zsSMHawlxhjtfTTz+d1lqe+8IWSzYx19mOQghRndCRNDjfEHBqFGMGIUJx7969qUf/J6xQ/Pjjj00oUhfuIIuIXZZZtdkylazz1DVSysD3NmvWLPUvQggRXSQURWygAQG2ITp5OqghpDlA8LARFpoUvPjii2Y95doIPETqlClT7CATrJXMBw4J/kYKiMTgkPxcoFEDXfdWrVqVeqYMMp5YoJgTFvawJYQQpQChGLRvghOKYSDQ5+oI/bBuI9DCdMkmK8iXvws3e1KHDh0qzSYeOXLEsonUqXfp0iVUuYEQQlQXEooiNrAZ05iFRgQOsn0MPS5mYwCivmQS169fX55NRCTefvvtXrdu3fKuSwxCRLtu3bqpR2WCjyh1PnBIIar9m9/8xiLnDg5B3Cd/hr1PIYQoFQTHGI0RpBhCETsrwozRRn4YZUTtY7BOPB+4ZtAui032u9/9bupRRRCuZE+3bt3qNWzY0ISiEELEAQlFESuwU9KkxVmH2ICxX2Yahl8IDE+eP3++NbBx1qJvfOMb3pAhQ7yBAweG6pTnaNq0qR2G3Gsg8o04zQfqEp977jlv27Zt5RlPDiB33323/TfyZ12FECJKYJWnsQuZOT80JkPMha0hZO1miL+/bhvoSIqoK7bTgvpESiOywXq9ceNGq6fH8cGeIoQQcUBCUcQKagSvvvpq6xjnNnsyathEEXlhLKhEoKn3W7BggdlZuT7ia+jQod4NN9yQ9yiMbHAYwqbkMqPUWB48eNAOTrnAXEfaqy9dutTsW0THseSOHz/eZjuGPWQJIUQpYd1CPAU7klLjRzObMNZ+IPhGo5wgOFLC1m2zfvsDhuwTXDNbl1YcIwQyX3/9dROqzFkM03FVCCGqEwlFESvInNHJs0+fPlbrB8wRpKbwqaee8k6cOFEhilwV2DipHXnyySe9OXPmeIcPH7aNnMwfIpEv97uKBVnRjh072uGCGkVqaeiuWtm9829EyckkImax3HJAwfJ0xx13WCdWRKLqEoUQUQb7ZrB+EBBSxXBtIBRZx/0gPi+77DKrEWn1MO8AAAQ6SURBVAwD2UDqv521n/WWfSmTuEUIb9iwwVuxYoW5PHr27GkZUyGEiAtf/EmS1N+FiAVs9K4ZDJk/Dh1Ymfbv329CiYMGf1YVlcYGRHaOYfqzZ8/2Fi9ebLWC/DxilCzigAED7FBQbGimwMEBYYvgI6tI3QsDmzNF1Pk+alwQidRPkv1EZF511VXeTTfd5F133XV2cJFIFEJEHdYv1jL+dLB23XrrrVbDnW1gfS4QeNuyZYvNlqXTKBD4Yx1n/i2jg8KskwTncLEgdBGkwJ5BAzG/5Z81nfFK7C18P2s0QjGsUBVCiOpEQlHEEuw/559/vgkqxB1CCjsT8wQRjWTfODDwxWNEIdFdbEBs7gjEPXv2eM8//7w3ffp0yyjyMxwmqCG57bbbbFP3dyctNjS04frcE7ZZRC8HJw4y3DfPU39JZJxRHWQ8V65caf9GB1juj8Y1zOMioi2EEHEA2+ncuXPTms2wFuKMYHxQmPWMvQCBtm7dutQzZeMr+vfv73Xt2jV0t1HuDUHIOoy91dn/mfFLAPD48eNWc7527Vpv1qxZJhgRifz+4BxgIYSIOl9IFHuugBDVCJsw4yFmzpxpmzOPsZJy6KAeBfsoHUvJMPJW5xCBKCM7R2t2snhEeGvXrm01g7169bI6v+pqNoA4JRNKA53Vq1ebiCXaTVSdzCKHEA4jCEZEMfdJtpPoNU1rFJ0WQsSN7du3eyNHjrSB+KzLCCzWXsYPha0FR6hRa861CLYh4hCfPMeeEKbjqR8yipQqUB/PvkKmkXIC1nQCfgQwCQYOGzbMgnoSiUKIOCKhKGIPwhDxx0FgyZIl1vGO7CFZRKxH/Dtvc1dLgg2JwwJWTYQWHUgHDRpkTQaKMei5EKizRDDSbZWs6NGjR+3+uRdsTTR5oBaRgwh/1+gLIURcYY1GYOHmYJ1r06aNN2nSJHN0VFUykAvMl+XaCFKChnStxn1R7LUdSymlC5QD4FBhnBK/g9fRqVMn79prr/UaNWpUNHEqhBDVjYSiqDHwVmY2F7Yjvvbu3WuRXbKMbOAIREQX2UKa0xBdvvLKK62zadS60CFuXbYTq5SspUKImgTrNSKRL0ZWFBvWUOyhCM/qCKyRSXSZRWosT0fAUQghio2EohBCCCGEEEKINJSmEEIIIYQQQgiRhoSiEEIIIYQQQog0JBSFEEIIIYQQQqQhoSiEEEIIIYQQIg0JRSGEEEIIIYQQaUgoCiGEEEIIIYRIQ0JRCCGEEEIIIUQaEopCCCGEEEIIIdKQUBRCCCGEEEIIkYaEohBCCCGEEEKINCQUhRBCCCGEEEKkIaEohBBCCCGEECINCUUhhBBCCCGEEGlIKAohhBBCCCGESENCUQghhBBCCCFEGhKKQgghhBBCCCHSkFAUQgghhBBCCJGGhKIQQgghhBBCiDQkFIUQQgghhBBC+PC8/wHJYZiLx+H9JwAAAABJRU5ErkJggg==)"
      ],
      "metadata": {
        "id": "vX5RsI1bLo9d"
      }
    },
    {
      "cell_type": "code",
      "source": [
        "def compute_gradient(x, y_true, y_hat):\n",
        "  grad_w = np.array(np.dot(x.T, y_hat - y_true) / np.shape(y_true)[0])\n",
        "  grad_b = np.mean(y_hat - y_true)\n",
        "  return grad_w, grad_b"
      ],
      "metadata": {
        "id": "Ej6YTgyMJByQ"
      },
      "execution_count": 10,
      "outputs": []
    },
    {
      "cell_type": "code",
      "source": [
        "def update_params_with_gradient(w, b, dw, db, lr=0.001):\n",
        "  w = w - lr * dw\n",
        "  b = b - lr * db\n",
        "  return w, b"
      ],
      "metadata": {
        "id": "pQASS8GIOl_u"
      },
      "execution_count": 11,
      "outputs": []
    },
    {
      "cell_type": "markdown",
      "source": [
        "Mini-batch preparation"
      ],
      "metadata": {
        "id": "fwX438CsqOUq"
      }
    },
    {
      "cell_type": "code",
      "source": [
        "def prepare_batches(x, y, batch_size=32):\n",
        "  x_batch_list = list()\n",
        "  y_batch_list = list()\n",
        "\n",
        "  for i in range(len(y) // batch_size):\n",
        "    x_batch_list.append(x[i * batch_size : i * batch_size + batch_size, :])\n",
        "    y_batch_list.append(y[i * batch_size : i * batch_size + batch_size])\n",
        "\n",
        "  if len(y) % batch_size > 0:\n",
        "    x_batch_list.append(x[len(y) // batch_size * batch_size : , :])\n",
        "    y_batch_list.append(y[len(y) // batch_size * batch_size :])\n",
        "\n",
        "  return x_batch_list, y_batch_list"
      ],
      "metadata": {
        "id": "t6jvT58VqP0n"
      },
      "execution_count": 12,
      "outputs": []
    },
    {
      "cell_type": "markdown",
      "source": [
        "Train (fit) function - using mini-batch gradient descent update"
      ],
      "metadata": {
        "id": "UlilPNqiQYag"
      }
    },
    {
      "cell_type": "code",
      "source": [
        "def LR_fit(X_train, y_train, batch_size=32, patience=3, lr=0.001, epochs=100):\n",
        "  # split train data into train and validation set\n",
        "  X_train, X_val, y_train, y_val = train_test_split(X_train, y_train, test_size=0.25)\n",
        "\n",
        "  train_losses = []\n",
        "  val_losses = []\n",
        "  val_accs = []\n",
        "\n",
        "  # prepare for mini-batch implementation\n",
        "  X_batches, y_batches = prepare_batches(X_train, y_train, batch_size=batch_size)\n",
        "  n_batches = len(y_batches)\n",
        "\n",
        "  # prepare for early stopping\n",
        "  patience_counter = 0\n",
        "  epochs_without_improvement = 0\n",
        "\n",
        "  # random init weights and bias\n",
        "  weights, bias = init_params(X_train) # weights has shape = (number of features, )\n",
        "  # prepare for weights and bias update; record val loss\n",
        "  best_weights = None\n",
        "  best_bias = None\n",
        "  best_val_loss = float('inf')\n",
        "\n",
        "  for epoch in tqdm(range(epochs)):\n",
        "    for i in range(n_batches):\n",
        "      x = X_batches[i]\n",
        "      y = y_batches[i]\n",
        "\n",
        "      y_hat = predict(x, weights, bias) # y_hat shape = (number of train data points, ) (same as y_train)\n",
        "\n",
        "      loss = BCE_loss(y, y_hat)\n",
        "      train_losses.append(loss)\n",
        "\n",
        "      # calc gradient\n",
        "      dw, db = compute_gradient(x, y, y_hat)\n",
        "      # update weights and bias\n",
        "      weights, bias = update_params_with_gradient(weights, bias, dw, db)\n",
        "\n",
        "    # validation for each epoch\n",
        "    y_val_hat = predict(X_val, weights, bias)\n",
        "    y_val_hat_labels = np.round(y_val_hat)\n",
        "    val_loss = BCE_loss(y_val, y_val_hat)\n",
        "    val_losses.append(val_loss)\n",
        "    val_acc = np.mean(y_val_hat_labels == y_val)\n",
        "    val_accs.append(val_acc)\n",
        "\n",
        "    print('Epoch {} | train loss={:.3f} | val loss={:.3f} | val accuracy={:.3f}'.format(epoch, loss, val_loss, val_acc))\n",
        "\n",
        "    # early stopping check\n",
        "    if val_loss < best_val_loss:\n",
        "      best_val_loss = val_loss\n",
        "      best_weights = weights.copy()\n",
        "      best_bias = bias\n",
        "      epochs_without_improvement = 0\n",
        "    else:\n",
        "      epochs_without_improvement += 1\n",
        "\n",
        "    if epochs_without_improvement >= patience:\n",
        "      print('Early stopping at epoch {}'.format(epoch))\n",
        "      break\n",
        "\n",
        "  return best_weights, best_bias, train_losses, val_losses, val_accs"
      ],
      "metadata": {
        "id": "iK-CHjr5Qae0"
      },
      "execution_count": 13,
      "outputs": []
    },
    {
      "cell_type": "markdown",
      "source": [
        "Main program: Logistic Regression"
      ],
      "metadata": {
        "id": "8jx7lLRVQDbd"
      }
    },
    {
      "cell_type": "code",
      "source": [
        "epochs = 100\n",
        "\n",
        "# hyper-parameters\n",
        "\n",
        "batch_size = 64\n",
        "# learning rate\n",
        "lr = 0.01\n",
        "# wait count for early stopping\n",
        "patience = 5"
      ],
      "metadata": {
        "id": "xES5oODOqlVr"
      },
      "execution_count": 14,
      "outputs": []
    },
    {
      "cell_type": "code",
      "source": [
        "X_train, X_test, y_train, y_test = prepare_data()"
      ],
      "metadata": {
        "id": "3EcwzMNpHhgo"
      },
      "execution_count": 15,
      "outputs": []
    },
    {
      "cell_type": "code",
      "source": [
        "w, b, train_losses, val_losses, val_accs = LR_fit(X_train, y_train,\n",
        "                      batch_size=batch_size,\n",
        "                      patience=patience,\n",
        "                      lr=lr,\n",
        "                      epochs=epochs)"
      ],
      "metadata": {
        "colab": {
          "base_uri": "https://localhost:8080/"
        },
        "id": "jbDMMPWX1GB_",
        "outputId": "faaddc69-2f34-4226-ac0f-2ba09d7081f5"
      },
      "execution_count": 16,
      "outputs": [
        {
          "output_type": "stream",
          "name": "stderr",
          "text": [
            "  1%|          | 1/100 [00:00<00:20,  4.76it/s]"
          ]
        },
        {
          "output_type": "stream",
          "name": "stdout",
          "text": [
            "Epoch 0 | train loss=0.655 | val loss=0.652 | val accuracy=0.801\n"
          ]
        },
        {
          "output_type": "stream",
          "name": "stderr",
          "text": [
            "  3%|▎         | 3/100 [00:00<00:20,  4.66it/s]"
          ]
        },
        {
          "output_type": "stream",
          "name": "stdout",
          "text": [
            "Epoch 1 | train loss=0.626 | val loss=0.620 | val accuracy=0.802\n",
            "Epoch 2 | train loss=0.603 | val loss=0.593 | val accuracy=0.803\n"
          ]
        },
        {
          "output_type": "stream",
          "name": "stderr",
          "text": [
            "  5%|▌         | 5/100 [00:01<00:18,  5.07it/s]"
          ]
        },
        {
          "output_type": "stream",
          "name": "stdout",
          "text": [
            "Epoch 3 | train loss=0.584 | val loss=0.572 | val accuracy=0.805\n",
            "Epoch 4 | train loss=0.569 | val loss=0.554 | val accuracy=0.807\n"
          ]
        },
        {
          "output_type": "stream",
          "name": "stderr",
          "text": [
            "  7%|▋         | 7/100 [00:01<00:14,  6.50it/s]"
          ]
        },
        {
          "output_type": "stream",
          "name": "stdout",
          "text": [
            "Epoch 5 | train loss=0.557 | val loss=0.538 | val accuracy=0.808\n",
            "Epoch 6 | train loss=0.546 | val loss=0.525 | val accuracy=0.808\n"
          ]
        },
        {
          "output_type": "stream",
          "name": "stderr",
          "text": [
            "  9%|▉         | 9/100 [00:01<00:14,  6.37it/s]"
          ]
        },
        {
          "output_type": "stream",
          "name": "stdout",
          "text": [
            "Epoch 7 | train loss=0.537 | val loss=0.514 | val accuracy=0.807\n",
            "Epoch 8 | train loss=0.530 | val loss=0.504 | val accuracy=0.808\n"
          ]
        },
        {
          "output_type": "stream",
          "name": "stderr",
          "text": [
            "\r 10%|█         | 10/100 [00:01<00:15,  5.74it/s]"
          ]
        },
        {
          "output_type": "stream",
          "name": "stdout",
          "text": [
            "Epoch 9 | train loss=0.523 | val loss=0.496 | val accuracy=0.809\n"
          ]
        },
        {
          "output_type": "stream",
          "name": "stderr",
          "text": [
            " 12%|█▏        | 12/100 [00:02<00:16,  5.43it/s]"
          ]
        },
        {
          "output_type": "stream",
          "name": "stdout",
          "text": [
            "Epoch 10 | train loss=0.517 | val loss=0.488 | val accuracy=0.810\n",
            "Epoch 11 | train loss=0.512 | val loss=0.481 | val accuracy=0.809\n"
          ]
        },
        {
          "output_type": "stream",
          "name": "stderr",
          "text": [
            " 14%|█▍        | 14/100 [00:02<00:14,  5.78it/s]"
          ]
        },
        {
          "output_type": "stream",
          "name": "stdout",
          "text": [
            "Epoch 12 | train loss=0.508 | val loss=0.475 | val accuracy=0.810\n",
            "Epoch 13 | train loss=0.504 | val loss=0.470 | val accuracy=0.810\n"
          ]
        },
        {
          "output_type": "stream",
          "name": "stderr",
          "text": [
            " 16%|█▌        | 16/100 [00:02<00:12,  6.81it/s]"
          ]
        },
        {
          "output_type": "stream",
          "name": "stdout",
          "text": [
            "Epoch 14 | train loss=0.501 | val loss=0.465 | val accuracy=0.810\n",
            "Epoch 15 | train loss=0.498 | val loss=0.461 | val accuracy=0.809\n"
          ]
        },
        {
          "output_type": "stream",
          "name": "stderr",
          "text": [
            " 18%|█▊        | 18/100 [00:03<00:11,  7.14it/s]"
          ]
        },
        {
          "output_type": "stream",
          "name": "stdout",
          "text": [
            "Epoch 16 | train loss=0.495 | val loss=0.457 | val accuracy=0.809\n",
            "Epoch 17 | train loss=0.493 | val loss=0.454 | val accuracy=0.808\n"
          ]
        },
        {
          "output_type": "stream",
          "name": "stderr",
          "text": [
            " 20%|██        | 20/100 [00:03<00:10,  7.44it/s]"
          ]
        },
        {
          "output_type": "stream",
          "name": "stdout",
          "text": [
            "Epoch 18 | train loss=0.491 | val loss=0.450 | val accuracy=0.809\n",
            "Epoch 19 | train loss=0.489 | val loss=0.447 | val accuracy=0.809\n"
          ]
        },
        {
          "output_type": "stream",
          "name": "stderr",
          "text": [
            "\r 22%|██▏       | 22/100 [00:03<00:09,  8.58it/s]"
          ]
        },
        {
          "output_type": "stream",
          "name": "stdout",
          "text": [
            "Epoch 20 | train loss=0.488 | val loss=0.445 | val accuracy=0.809\n",
            "Epoch 21 | train loss=0.487 | val loss=0.442 | val accuracy=0.808\n",
            "Epoch 22 | train loss=0.485 | val loss=0.440 | val accuracy=0.808\n"
          ]
        },
        {
          "output_type": "stream",
          "name": "stderr",
          "text": [
            " 25%|██▌       | 25/100 [00:03<00:08,  9.22it/s]"
          ]
        },
        {
          "output_type": "stream",
          "name": "stdout",
          "text": [
            "Epoch 23 | train loss=0.484 | val loss=0.438 | val accuracy=0.809\n",
            "Epoch 24 | train loss=0.483 | val loss=0.436 | val accuracy=0.809\n"
          ]
        },
        {
          "output_type": "stream",
          "name": "stderr",
          "text": [
            " 28%|██▊       | 28/100 [00:04<00:07,  9.27it/s]"
          ]
        },
        {
          "output_type": "stream",
          "name": "stdout",
          "text": [
            "Epoch 25 | train loss=0.483 | val loss=0.434 | val accuracy=0.809\n",
            "Epoch 26 | train loss=0.482 | val loss=0.432 | val accuracy=0.809\n",
            "Epoch 27 | train loss=0.481 | val loss=0.431 | val accuracy=0.809\n"
          ]
        },
        {
          "output_type": "stream",
          "name": "stderr",
          "text": [
            "\r 29%|██▉       | 29/100 [00:04<00:07,  8.93it/s]"
          ]
        },
        {
          "output_type": "stream",
          "name": "stdout",
          "text": [
            "Epoch 28 | train loss=0.481 | val loss=0.429 | val accuracy=0.809\n",
            "Epoch 29 | train loss=0.480 | val loss=0.428 | val accuracy=0.809\n"
          ]
        },
        {
          "output_type": "stream",
          "name": "stderr",
          "text": [
            " 32%|███▏      | 32/100 [00:04<00:08,  8.13it/s]"
          ]
        },
        {
          "output_type": "stream",
          "name": "stdout",
          "text": [
            "Epoch 30 | train loss=0.480 | val loss=0.427 | val accuracy=0.809\n",
            "Epoch 31 | train loss=0.480 | val loss=0.426 | val accuracy=0.809\n"
          ]
        },
        {
          "output_type": "stream",
          "name": "stderr",
          "text": [
            " 34%|███▍      | 34/100 [00:04<00:09,  7.17it/s]"
          ]
        },
        {
          "output_type": "stream",
          "name": "stdout",
          "text": [
            "Epoch 32 | train loss=0.480 | val loss=0.425 | val accuracy=0.809\n",
            "Epoch 33 | train loss=0.479 | val loss=0.424 | val accuracy=0.809\n"
          ]
        },
        {
          "output_type": "stream",
          "name": "stderr",
          "text": [
            "\r 35%|███▌      | 35/100 [00:05<00:11,  5.78it/s]"
          ]
        },
        {
          "output_type": "stream",
          "name": "stdout",
          "text": [
            "Epoch 34 | train loss=0.479 | val loss=0.423 | val accuracy=0.809\n"
          ]
        },
        {
          "output_type": "stream",
          "name": "stderr",
          "text": [
            "\r 36%|███▌      | 36/100 [00:05<00:12,  5.08it/s]"
          ]
        },
        {
          "output_type": "stream",
          "name": "stdout",
          "text": [
            "Epoch 35 | train loss=0.479 | val loss=0.422 | val accuracy=0.809\n"
          ]
        },
        {
          "output_type": "stream",
          "name": "stderr",
          "text": [
            "\r 37%|███▋      | 37/100 [00:05<00:12,  4.87it/s]"
          ]
        },
        {
          "output_type": "stream",
          "name": "stdout",
          "text": [
            "Epoch 36 | train loss=0.479 | val loss=0.421 | val accuracy=0.809\n"
          ]
        },
        {
          "output_type": "stream",
          "name": "stderr",
          "text": [
            " 39%|███▉      | 39/100 [00:06<00:12,  5.03it/s]"
          ]
        },
        {
          "output_type": "stream",
          "name": "stdout",
          "text": [
            "Epoch 37 | train loss=0.479 | val loss=0.420 | val accuracy=0.810\n",
            "Epoch 38 | train loss=0.479 | val loss=0.419 | val accuracy=0.810\n"
          ]
        },
        {
          "output_type": "stream",
          "name": "stderr",
          "text": [
            " 41%|████      | 41/100 [00:06<00:11,  5.18it/s]"
          ]
        },
        {
          "output_type": "stream",
          "name": "stdout",
          "text": [
            "Epoch 39 | train loss=0.479 | val loss=0.418 | val accuracy=0.810\n",
            "Epoch 40 | train loss=0.479 | val loss=0.418 | val accuracy=0.810\n"
          ]
        },
        {
          "output_type": "stream",
          "name": "stderr",
          "text": [
            "\r 42%|████▏     | 42/100 [00:06<00:13,  4.33it/s]"
          ]
        },
        {
          "output_type": "stream",
          "name": "stdout",
          "text": [
            "Epoch 41 | train loss=0.479 | val loss=0.417 | val accuracy=0.810\n"
          ]
        },
        {
          "output_type": "stream",
          "name": "stderr",
          "text": [
            "\r 43%|████▎     | 43/100 [00:07<00:15,  3.73it/s]"
          ]
        },
        {
          "output_type": "stream",
          "name": "stdout",
          "text": [
            "Epoch 42 | train loss=0.479 | val loss=0.416 | val accuracy=0.810\n"
          ]
        },
        {
          "output_type": "stream",
          "name": "stderr",
          "text": [
            "\r 44%|████▍     | 44/100 [00:07<00:15,  3.68it/s]"
          ]
        },
        {
          "output_type": "stream",
          "name": "stdout",
          "text": [
            "Epoch 43 | train loss=0.480 | val loss=0.416 | val accuracy=0.810\n"
          ]
        },
        {
          "output_type": "stream",
          "name": "stderr",
          "text": [
            "\r 45%|████▌     | 45/100 [00:07<00:17,  3.19it/s]"
          ]
        },
        {
          "output_type": "stream",
          "name": "stdout",
          "text": [
            "Epoch 44 | train loss=0.480 | val loss=0.415 | val accuracy=0.810\n"
          ]
        },
        {
          "output_type": "stream",
          "name": "stderr",
          "text": [
            "\r 46%|████▌     | 46/100 [00:08<00:16,  3.22it/s]"
          ]
        },
        {
          "output_type": "stream",
          "name": "stdout",
          "text": [
            "Epoch 45 | train loss=0.480 | val loss=0.415 | val accuracy=0.810\n"
          ]
        },
        {
          "output_type": "stream",
          "name": "stderr",
          "text": [
            "\r 47%|████▋     | 47/100 [00:08<00:16,  3.27it/s]"
          ]
        },
        {
          "output_type": "stream",
          "name": "stdout",
          "text": [
            "Epoch 46 | train loss=0.480 | val loss=0.414 | val accuracy=0.810\n"
          ]
        },
        {
          "output_type": "stream",
          "name": "stderr",
          "text": [
            "\r 48%|████▊     | 48/100 [00:08<00:16,  3.18it/s]"
          ]
        },
        {
          "output_type": "stream",
          "name": "stdout",
          "text": [
            "Epoch 47 | train loss=0.480 | val loss=0.414 | val accuracy=0.810\n"
          ]
        },
        {
          "output_type": "stream",
          "name": "stderr",
          "text": [
            "\r 49%|████▉     | 49/100 [00:08<00:14,  3.48it/s]"
          ]
        },
        {
          "output_type": "stream",
          "name": "stdout",
          "text": [
            "Epoch 48 | train loss=0.480 | val loss=0.413 | val accuracy=0.810\n"
          ]
        },
        {
          "output_type": "stream",
          "name": "stderr",
          "text": [
            "\r 50%|█████     | 50/100 [00:09<00:13,  3.67it/s]"
          ]
        },
        {
          "output_type": "stream",
          "name": "stdout",
          "text": [
            "Epoch 49 | train loss=0.481 | val loss=0.413 | val accuracy=0.810\n"
          ]
        },
        {
          "output_type": "stream",
          "name": "stderr",
          "text": [
            "\r 51%|█████     | 51/100 [00:09<00:12,  3.81it/s]"
          ]
        },
        {
          "output_type": "stream",
          "name": "stdout",
          "text": [
            "Epoch 50 | train loss=0.481 | val loss=0.412 | val accuracy=0.810\n"
          ]
        },
        {
          "output_type": "stream",
          "name": "stderr",
          "text": [
            "\r 52%|█████▏    | 52/100 [00:09<00:12,  3.77it/s]"
          ]
        },
        {
          "output_type": "stream",
          "name": "stdout",
          "text": [
            "Epoch 51 | train loss=0.481 | val loss=0.412 | val accuracy=0.810\n"
          ]
        },
        {
          "output_type": "stream",
          "name": "stderr",
          "text": [
            "\r 53%|█████▎    | 53/100 [00:09<00:12,  3.83it/s]"
          ]
        },
        {
          "output_type": "stream",
          "name": "stdout",
          "text": [
            "Epoch 52 | train loss=0.481 | val loss=0.412 | val accuracy=0.810\n"
          ]
        },
        {
          "output_type": "stream",
          "name": "stderr",
          "text": [
            "\r 54%|█████▍    | 54/100 [00:10<00:11,  3.90it/s]"
          ]
        },
        {
          "output_type": "stream",
          "name": "stdout",
          "text": [
            "Epoch 53 | train loss=0.481 | val loss=0.411 | val accuracy=0.810\n"
          ]
        },
        {
          "output_type": "stream",
          "name": "stderr",
          "text": [
            "\r 55%|█████▌    | 55/100 [00:10<00:10,  4.09it/s]"
          ]
        },
        {
          "output_type": "stream",
          "name": "stdout",
          "text": [
            "Epoch 54 | train loss=0.482 | val loss=0.411 | val accuracy=0.810\n"
          ]
        },
        {
          "output_type": "stream",
          "name": "stderr",
          "text": [
            "\r 56%|█████▌    | 56/100 [00:10<00:11,  3.83it/s]"
          ]
        },
        {
          "output_type": "stream",
          "name": "stdout",
          "text": [
            "Epoch 55 | train loss=0.482 | val loss=0.410 | val accuracy=0.810\n"
          ]
        },
        {
          "output_type": "stream",
          "name": "stderr",
          "text": [
            "\r 57%|█████▋    | 57/100 [00:11<00:12,  3.45it/s]"
          ]
        },
        {
          "output_type": "stream",
          "name": "stdout",
          "text": [
            "Epoch 56 | train loss=0.482 | val loss=0.410 | val accuracy=0.810\n"
          ]
        },
        {
          "output_type": "stream",
          "name": "stderr",
          "text": [
            "\r 58%|█████▊    | 58/100 [00:11<00:14,  2.86it/s]"
          ]
        },
        {
          "output_type": "stream",
          "name": "stdout",
          "text": [
            "Epoch 57 | train loss=0.482 | val loss=0.410 | val accuracy=0.810\n"
          ]
        },
        {
          "output_type": "stream",
          "name": "stderr",
          "text": [
            "\r 59%|█████▉    | 59/100 [00:12<00:15,  2.59it/s]"
          ]
        },
        {
          "output_type": "stream",
          "name": "stdout",
          "text": [
            "Epoch 58 | train loss=0.483 | val loss=0.410 | val accuracy=0.810\n"
          ]
        },
        {
          "output_type": "stream",
          "name": "stderr",
          "text": [
            "\r 60%|██████    | 60/100 [00:12<00:16,  2.45it/s]"
          ]
        },
        {
          "output_type": "stream",
          "name": "stdout",
          "text": [
            "Epoch 59 | train loss=0.483 | val loss=0.409 | val accuracy=0.810\n"
          ]
        },
        {
          "output_type": "stream",
          "name": "stderr",
          "text": [
            "\r 61%|██████    | 61/100 [00:13<00:16,  2.32it/s]"
          ]
        },
        {
          "output_type": "stream",
          "name": "stdout",
          "text": [
            "Epoch 60 | train loss=0.483 | val loss=0.409 | val accuracy=0.810\n"
          ]
        },
        {
          "output_type": "stream",
          "name": "stderr",
          "text": [
            "\r 62%|██████▏   | 62/100 [00:13<00:17,  2.16it/s]"
          ]
        },
        {
          "output_type": "stream",
          "name": "stdout",
          "text": [
            "Epoch 61 | train loss=0.483 | val loss=0.409 | val accuracy=0.810\n"
          ]
        },
        {
          "output_type": "stream",
          "name": "stderr",
          "text": [
            "\r 63%|██████▎   | 63/100 [00:14<00:18,  1.97it/s]"
          ]
        },
        {
          "output_type": "stream",
          "name": "stdout",
          "text": [
            "Epoch 62 | train loss=0.484 | val loss=0.408 | val accuracy=0.810\n"
          ]
        },
        {
          "output_type": "stream",
          "name": "stderr",
          "text": [
            "\r 64%|██████▍   | 64/100 [00:14<00:20,  1.72it/s]"
          ]
        },
        {
          "output_type": "stream",
          "name": "stdout",
          "text": [
            "Epoch 63 | train loss=0.484 | val loss=0.408 | val accuracy=0.810\n"
          ]
        },
        {
          "output_type": "stream",
          "name": "stderr",
          "text": [
            "\r 65%|██████▌   | 65/100 [00:15<00:20,  1.67it/s]"
          ]
        },
        {
          "output_type": "stream",
          "name": "stdout",
          "text": [
            "Epoch 64 | train loss=0.484 | val loss=0.408 | val accuracy=0.810\n"
          ]
        },
        {
          "output_type": "stream",
          "name": "stderr",
          "text": [
            "\r 66%|██████▌   | 66/100 [00:15<00:17,  1.94it/s]"
          ]
        },
        {
          "output_type": "stream",
          "name": "stdout",
          "text": [
            "Epoch 65 | train loss=0.484 | val loss=0.408 | val accuracy=0.810\n"
          ]
        },
        {
          "output_type": "stream",
          "name": "stderr",
          "text": [
            "\r 67%|██████▋   | 67/100 [00:16<00:13,  2.36it/s]"
          ]
        },
        {
          "output_type": "stream",
          "name": "stdout",
          "text": [
            "Epoch 66 | train loss=0.485 | val loss=0.407 | val accuracy=0.810\n"
          ]
        },
        {
          "output_type": "stream",
          "name": "stderr",
          "text": [
            "\r 68%|██████▊   | 68/100 [00:16<00:13,  2.36it/s]"
          ]
        },
        {
          "output_type": "stream",
          "name": "stdout",
          "text": [
            "Epoch 67 | train loss=0.485 | val loss=0.407 | val accuracy=0.810\n"
          ]
        },
        {
          "output_type": "stream",
          "name": "stderr",
          "text": [
            "\r 69%|██████▉   | 69/100 [00:16<00:12,  2.56it/s]"
          ]
        },
        {
          "output_type": "stream",
          "name": "stdout",
          "text": [
            "Epoch 68 | train loss=0.485 | val loss=0.407 | val accuracy=0.810\n"
          ]
        },
        {
          "output_type": "stream",
          "name": "stderr",
          "text": [
            "\r 70%|███████   | 70/100 [00:17<00:10,  2.83it/s]"
          ]
        },
        {
          "output_type": "stream",
          "name": "stdout",
          "text": [
            "Epoch 69 | train loss=0.485 | val loss=0.407 | val accuracy=0.810\n"
          ]
        },
        {
          "output_type": "stream",
          "name": "stderr",
          "text": [
            " 72%|███████▏  | 72/100 [00:17<00:08,  3.33it/s]"
          ]
        },
        {
          "output_type": "stream",
          "name": "stdout",
          "text": [
            "Epoch 70 | train loss=0.485 | val loss=0.407 | val accuracy=0.810\n",
            "Epoch 71 | train loss=0.486 | val loss=0.406 | val accuracy=0.810\n"
          ]
        },
        {
          "output_type": "stream",
          "name": "stderr",
          "text": [
            "\r 73%|███████▎  | 73/100 [00:17<00:07,  3.48it/s]"
          ]
        },
        {
          "output_type": "stream",
          "name": "stdout",
          "text": [
            "Epoch 72 | train loss=0.486 | val loss=0.406 | val accuracy=0.810\n"
          ]
        },
        {
          "output_type": "stream",
          "name": "stderr",
          "text": [
            "\r 74%|███████▍  | 74/100 [00:18<00:06,  3.74it/s]"
          ]
        },
        {
          "output_type": "stream",
          "name": "stdout",
          "text": [
            "Epoch 73 | train loss=0.486 | val loss=0.406 | val accuracy=0.811\n"
          ]
        },
        {
          "output_type": "stream",
          "name": "stderr",
          "text": [
            "\r 75%|███████▌  | 75/100 [00:18<00:07,  3.55it/s]"
          ]
        },
        {
          "output_type": "stream",
          "name": "stdout",
          "text": [
            "Epoch 74 | train loss=0.486 | val loss=0.406 | val accuracy=0.811\n"
          ]
        },
        {
          "output_type": "stream",
          "name": "stderr",
          "text": [
            "\r 76%|███████▌  | 76/100 [00:18<00:06,  3.57it/s]"
          ]
        },
        {
          "output_type": "stream",
          "name": "stdout",
          "text": [
            "Epoch 75 | train loss=0.487 | val loss=0.406 | val accuracy=0.811\n"
          ]
        },
        {
          "output_type": "stream",
          "name": "stderr",
          "text": [
            "\r 77%|███████▋  | 77/100 [00:18<00:06,  3.65it/s]"
          ]
        },
        {
          "output_type": "stream",
          "name": "stdout",
          "text": [
            "Epoch 76 | train loss=0.487 | val loss=0.405 | val accuracy=0.811\n"
          ]
        },
        {
          "output_type": "stream",
          "name": "stderr",
          "text": [
            "\r 78%|███████▊  | 78/100 [00:19<00:05,  3.68it/s]"
          ]
        },
        {
          "output_type": "stream",
          "name": "stdout",
          "text": [
            "Epoch 77 | train loss=0.487 | val loss=0.405 | val accuracy=0.811\n"
          ]
        },
        {
          "output_type": "stream",
          "name": "stderr",
          "text": [
            "\r 79%|███████▉  | 79/100 [00:19<00:06,  3.23it/s]"
          ]
        },
        {
          "output_type": "stream",
          "name": "stdout",
          "text": [
            "Epoch 78 | train loss=0.487 | val loss=0.405 | val accuracy=0.811\n"
          ]
        },
        {
          "output_type": "stream",
          "name": "stderr",
          "text": [
            "\r 80%|████████  | 80/100 [00:20<00:06,  2.86it/s]"
          ]
        },
        {
          "output_type": "stream",
          "name": "stdout",
          "text": [
            "Epoch 79 | train loss=0.487 | val loss=0.405 | val accuracy=0.811\n"
          ]
        },
        {
          "output_type": "stream",
          "name": "stderr",
          "text": [
            "\r 81%|████████  | 81/100 [00:20<00:06,  2.93it/s]"
          ]
        },
        {
          "output_type": "stream",
          "name": "stdout",
          "text": [
            "Epoch 80 | train loss=0.488 | val loss=0.405 | val accuracy=0.811\n"
          ]
        },
        {
          "output_type": "stream",
          "name": "stderr",
          "text": [
            "\r 82%|████████▏ | 82/100 [00:20<00:05,  3.25it/s]"
          ]
        },
        {
          "output_type": "stream",
          "name": "stdout",
          "text": [
            "Epoch 81 | train loss=0.488 | val loss=0.405 | val accuracy=0.811\n"
          ]
        },
        {
          "output_type": "stream",
          "name": "stderr",
          "text": [
            "\r 83%|████████▎ | 83/100 [00:20<00:05,  3.21it/s]"
          ]
        },
        {
          "output_type": "stream",
          "name": "stdout",
          "text": [
            "Epoch 82 | train loss=0.488 | val loss=0.404 | val accuracy=0.811\n"
          ]
        },
        {
          "output_type": "stream",
          "name": "stderr",
          "text": [
            "\r 84%|████████▍ | 84/100 [00:21<00:05,  3.11it/s]"
          ]
        },
        {
          "output_type": "stream",
          "name": "stdout",
          "text": [
            "Epoch 83 | train loss=0.488 | val loss=0.404 | val accuracy=0.811\n"
          ]
        },
        {
          "output_type": "stream",
          "name": "stderr",
          "text": [
            "\r 85%|████████▌ | 85/100 [00:21<00:05,  2.81it/s]"
          ]
        },
        {
          "output_type": "stream",
          "name": "stdout",
          "text": [
            "Epoch 84 | train loss=0.488 | val loss=0.404 | val accuracy=0.811\n"
          ]
        },
        {
          "output_type": "stream",
          "name": "stderr",
          "text": [
            "\r 86%|████████▌ | 86/100 [00:21<00:04,  3.13it/s]"
          ]
        },
        {
          "output_type": "stream",
          "name": "stdout",
          "text": [
            "Epoch 85 | train loss=0.489 | val loss=0.404 | val accuracy=0.811\n"
          ]
        },
        {
          "output_type": "stream",
          "name": "stderr",
          "text": [
            "\r 87%|████████▋ | 87/100 [00:22<00:03,  3.38it/s]"
          ]
        },
        {
          "output_type": "stream",
          "name": "stdout",
          "text": [
            "Epoch 86 | train loss=0.489 | val loss=0.404 | val accuracy=0.811\n"
          ]
        },
        {
          "output_type": "stream",
          "name": "stderr",
          "text": [
            "\r 88%|████████▊ | 88/100 [00:22<00:03,  3.45it/s]"
          ]
        },
        {
          "output_type": "stream",
          "name": "stdout",
          "text": [
            "Epoch 87 | train loss=0.489 | val loss=0.404 | val accuracy=0.811\n"
          ]
        },
        {
          "output_type": "stream",
          "name": "stderr",
          "text": [
            "\r 89%|████████▉ | 89/100 [00:22<00:02,  3.71it/s]"
          ]
        },
        {
          "output_type": "stream",
          "name": "stdout",
          "text": [
            "Epoch 88 | train loss=0.489 | val loss=0.404 | val accuracy=0.811\n"
          ]
        },
        {
          "output_type": "stream",
          "name": "stderr",
          "text": [
            "\r 90%|█████████ | 90/100 [00:22<00:02,  3.94it/s]"
          ]
        },
        {
          "output_type": "stream",
          "name": "stdout",
          "text": [
            "Epoch 89 | train loss=0.489 | val loss=0.403 | val accuracy=0.811\n"
          ]
        },
        {
          "output_type": "stream",
          "name": "stderr",
          "text": [
            "\r 91%|█████████ | 91/100 [00:23<00:02,  4.00it/s]"
          ]
        },
        {
          "output_type": "stream",
          "name": "stdout",
          "text": [
            "Epoch 90 | train loss=0.489 | val loss=0.403 | val accuracy=0.811\n"
          ]
        },
        {
          "output_type": "stream",
          "name": "stderr",
          "text": [
            "\r 92%|█████████▏| 92/100 [00:23<00:02,  3.68it/s]"
          ]
        },
        {
          "output_type": "stream",
          "name": "stdout",
          "text": [
            "Epoch 91 | train loss=0.490 | val loss=0.403 | val accuracy=0.811\n"
          ]
        },
        {
          "output_type": "stream",
          "name": "stderr",
          "text": [
            "\r 93%|█████████▎| 93/100 [00:23<00:02,  3.31it/s]"
          ]
        },
        {
          "output_type": "stream",
          "name": "stdout",
          "text": [
            "Epoch 92 | train loss=0.490 | val loss=0.403 | val accuracy=0.811\n"
          ]
        },
        {
          "output_type": "stream",
          "name": "stderr",
          "text": [
            "\r 94%|█████████▍| 94/100 [00:24<00:01,  3.04it/s]"
          ]
        },
        {
          "output_type": "stream",
          "name": "stdout",
          "text": [
            "Epoch 93 | train loss=0.490 | val loss=0.403 | val accuracy=0.811\n"
          ]
        },
        {
          "output_type": "stream",
          "name": "stderr",
          "text": [
            "\r 95%|█████████▌| 95/100 [00:24<00:01,  3.13it/s]"
          ]
        },
        {
          "output_type": "stream",
          "name": "stdout",
          "text": [
            "Epoch 94 | train loss=0.490 | val loss=0.403 | val accuracy=0.811\n"
          ]
        },
        {
          "output_type": "stream",
          "name": "stderr",
          "text": [
            "\r 96%|█████████▌| 96/100 [00:24<00:01,  3.29it/s]"
          ]
        },
        {
          "output_type": "stream",
          "name": "stdout",
          "text": [
            "Epoch 95 | train loss=0.490 | val loss=0.403 | val accuracy=0.812\n"
          ]
        },
        {
          "output_type": "stream",
          "name": "stderr",
          "text": [
            "\r 97%|█████████▋| 97/100 [00:25<00:00,  3.33it/s]"
          ]
        },
        {
          "output_type": "stream",
          "name": "stdout",
          "text": [
            "Epoch 96 | train loss=0.490 | val loss=0.403 | val accuracy=0.812\n"
          ]
        },
        {
          "output_type": "stream",
          "name": "stderr",
          "text": [
            "\r 98%|█████████▊| 98/100 [00:25<00:00,  3.20it/s]"
          ]
        },
        {
          "output_type": "stream",
          "name": "stdout",
          "text": [
            "Epoch 97 | train loss=0.490 | val loss=0.403 | val accuracy=0.812\n"
          ]
        },
        {
          "output_type": "stream",
          "name": "stderr",
          "text": [
            "\r 99%|█████████▉| 99/100 [00:25<00:00,  2.79it/s]"
          ]
        },
        {
          "output_type": "stream",
          "name": "stdout",
          "text": [
            "Epoch 98 | train loss=0.491 | val loss=0.402 | val accuracy=0.812\n"
          ]
        },
        {
          "output_type": "stream",
          "name": "stderr",
          "text": [
            "100%|██████████| 100/100 [00:26<00:00,  3.80it/s]"
          ]
        },
        {
          "output_type": "stream",
          "name": "stdout",
          "text": [
            "Epoch 99 | train loss=0.491 | val loss=0.402 | val accuracy=0.812\n"
          ]
        },
        {
          "output_type": "stream",
          "name": "stderr",
          "text": [
            "\n"
          ]
        }
      ]
    },
    {
      "cell_type": "code",
      "source": [
        "print('Weights: ', w)\n",
        "print('Bias: ', b)"
      ],
      "metadata": {
        "colab": {
          "base_uri": "https://localhost:8080/"
        },
        "id": "9NFZSGV0gUV1",
        "outputId": "a84fd7c5-2a96-42ee-d6dc-b7d75d468205"
      },
      "execution_count": 17,
      "outputs": [
        {
          "output_type": "stream",
          "name": "stdout",
          "text": [
            "Weights:  [0.43372776207981706 -0.07773252488698558 0.038623423787354894\n",
            " 0.036482852459654436 0.7748915571270357 -0.2995574092811833\n",
            " -0.0060382530404030944 -0.26219153589064786 0.08882839596037707\n",
            " 0.3328091378753154 0.8344941760541223 0.24861432133758019\n",
            " 0.3539633098188351 0.019784225658655043]\n",
            "Bias:  -1.512092748155759\n"
          ]
        }
      ]
    },
    {
      "cell_type": "code",
      "source": [
        "# Plot loss\n",
        "plt.plot(train_losses)\n",
        "plt.xlabel('Epoch')\n",
        "plt.ylabel('Binary Cross Entropy Loss')\n",
        "plt.title('BCE Loss during Logistic Regression training (mini-batch Gradient Descent update)')\n",
        "plt.show()"
      ],
      "metadata": {
        "colab": {
          "base_uri": "https://localhost:8080/",
          "height": 472
        },
        "id": "gWEIzY7ZgYoQ",
        "outputId": "7e432238-f14d-4226-de20-733656d31275"
      },
      "execution_count": 18,
      "outputs": [
        {
          "output_type": "display_data",
          "data": {
            "text/plain": [
              "<Figure size 640x480 with 1 Axes>"
            ],
            "image/png": "[encoded data removed]"
          },
          "metadata": {}
        }
      ]
    },
    {
      "cell_type": "code",
      "source": [
        "# Plot loss\n",
        "plt.plot(val_losses)\n",
        "plt.xlabel('Epoch')\n",
        "plt.ylabel('Binary Cross Entropy Loss')\n",
        "plt.title('Validation - BCE Loss during Logistic Regression training')\n",
        "plt.show()"
      ],
      "metadata": {
        "colab": {
          "base_uri": "https://localhost:8080/",
          "height": 472
        },
        "id": "Bd6tfwxjdYR9",
        "outputId": "14a1849e-2575-4d05-b53f-7cf0f7b41df5"
      },
      "execution_count": 19,
      "outputs": [
        {
          "output_type": "display_data",
          "data": {
            "text/plain": [
              "<Figure size 640x480 with 1 Axes>"
            ],
            "image/png": "[encoded data removed]"
          },
          "metadata": {}
        }
      ]
    },
    {
      "cell_type": "code",
      "source": [
        "# Plot loss\n",
        "plt.plot(val_accs)\n",
        "plt.xlabel('Epoch')\n",
        "plt.ylabel('Accuracy')\n",
        "plt.title('Validation - Accuracy during Logistic Regression training')\n",
        "plt.show()"
      ],
      "metadata": {
        "colab": {
          "base_uri": "https://localhost:8080/",
          "height": 472
        },
        "id": "mMpfKhX3diEH",
        "outputId": "432926e1-a094-4c1c-b6cf-835526032d5a"
      },
      "execution_count": 20,
      "outputs": [
        {
          "output_type": "display_data",
          "data": {
            "text/plain": [
              "<Figure size 640x480 with 1 Axes>"
            ],
            "image/png": "[encoded data removed]"
          },
          "metadata": {}
        }
      ]
    },
    {
      "cell_type": "markdown",
      "source": [
        "Evaluate model"
      ],
      "metadata": {
        "id": "uRAYISUvfxIG"
      }
    },
    {
      "cell_type": "code",
      "source": [
        "def evaluate_model(X_test, y_test, weights, bias):\n",
        "    \"\"\"Evaluate the logistic regression model\"\"\"\n",
        "    y_pred = predict(X_test, weights, bias)\n",
        "    y_pred_labels = np.round(y_pred)\n",
        "\n",
        "    # Confusion matrix\n",
        "    TP = np.sum((y_pred_labels == 1) & (y_test == 1))\n",
        "    TN = np.sum((y_pred_labels == 0) & (y_test == 0))\n",
        "    FP = np.sum((y_pred_labels == 1) & (y_test == 0))\n",
        "    FN = np.sum((y_pred_labels == 0) & (y_test == 1))\n",
        "\n",
        "    confusion_matrix = np.array([[TN, FP], [FN, TP]])\n",
        "\n",
        "    # Calculate metrics\n",
        "    accuracy = (TP + TN) / (TP + TN + FP + FN)\n",
        "    precision = TP / (TP + FP)\n",
        "    recall = TP / (TP + FN)\n",
        "    specificity = TN / (TN + FP)\n",
        "\n",
        "    return confusion_matrix, accuracy, precision, recall, specificity"
      ],
      "metadata": {
        "id": "QDiJKzwhfwwx"
      },
      "execution_count": 21,
      "outputs": []
    },
    {
      "cell_type": "code",
      "source": [
        "confusion_matrix, accuracy, precision, recall, specificity = evaluate_model(X_test, y_test, w, b)\n",
        "\n",
        "print(\"Confusion Matrix:\")\n",
        "print(confusion_matrix)\n",
        "print(\"Accuracy:\", accuracy)\n",
        "print(\"Precision:\", precision)\n",
        "print(\"Recall:\", recall)\n",
        "print(\"Specificity:\", specificity)"
      ],
      "metadata": {
        "colab": {
          "base_uri": "https://localhost:8080/"
        },
        "id": "dkunny1ZpEKh",
        "outputId": "9d19e594-0ee9-4416-86e6-3a150057beee"
      },
      "execution_count": 22,
      "outputs": [
        {
          "output_type": "stream",
          "name": "stdout",
          "text": [
            "Confusion Matrix:\n",
            "[[4700  262]\n",
            " [ 901  649]]\n",
            "Accuracy: 0.8214066339066339\n",
            "Precision: 0.712403951701427\n",
            "Recall: 0.41870967741935483\n",
            "Specificity: 0.947198710197501\n"
          ]
        }
      ]
    },
    {
      "cell_type": "markdown",
      "source": [
        "Compare with model from library"
      ],
      "metadata": {
        "id": "QZ3It4qleuW9"
      }
    },
    {
      "cell_type": "code",
      "source": [
        "from sklearn.linear_model import LogisticRegression\n",
        "from sklearn.metrics import confusion_matrix, accuracy_score, precision_score, recall_score\n",
        "from imblearn.metrics import specificity_score\n",
        "\n",
        "# Create a logistic regression model\n",
        "model = LogisticRegression()\n",
        "\n",
        "# Fit the model to the training data\n",
        "model.fit(X_train, y_train)\n",
        "# Get the weights (coefficients)\n",
        "lib_weights = model.coef_\n",
        "# Get the bias (intercept)\n",
        "lib_bias = model.intercept_\n",
        "\n",
        "# Get the predicted labels for the test set\n",
        "lib_y_pred = model.predict(X_test)\n",
        "\n",
        "# Compute the confusion matrix\n",
        "lib_cm = confusion_matrix(y_test, lib_y_pred)\n",
        "# Compute the accuracy\n",
        "lib_accuracy = accuracy_score(y_test, lib_y_pred)\n",
        "# Compute the precision\n",
        "lib_precision = precision_score(y_test, lib_y_pred)\n",
        "# Compute the recall\n",
        "lib_recall = recall_score(y_test, lib_y_pred)\n",
        "# Compute the specificity score\n",
        "lib_specificity = specificity_score(y_test, lib_y_pred)\n",
        "\n",
        "print(\"Confusion Matrix:\")\n",
        "print(lib_cm)\n",
        "print(\"Accuracy:\", lib_accuracy)\n",
        "print(\"Precision:\", lib_precision)\n",
        "print(\"Recall:\", lib_recall)\n",
        "print(\"Specificity:\", lib_specificity)"
      ],
      "metadata": {
        "colab": {
          "base_uri": "https://localhost:8080/"
        },
        "id": "dq_ubq5pevuG",
        "outputId": "09abda4e-f355-41b2-94b5-87c8cec11a23"
      },
      "execution_count": 23,
      "outputs": [
        {
          "output_type": "stream",
          "name": "stdout",
          "text": [
            "Confusion Matrix:\n",
            "[[4678  284]\n",
            " [ 864  686]]\n",
            "Accuracy: 0.8237100737100738\n",
            "Precision: 0.7072164948453609\n",
            "Recall: 0.4425806451612903\n",
            "Specificity: 0.9427650141072148\n"
          ]
        }
      ]
    },
    {
      "cell_type": "markdown",
      "source": [
        "SIMILAR RESULT!"
      ],
      "metadata": {
        "id": "hZ--k9pSftk8"
      }
    }
  ]
}